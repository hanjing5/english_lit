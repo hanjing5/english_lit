{
 "cells": [
  {
   "cell_type": "code",
   "execution_count": 1,
   "metadata": {
    "collapsed": false
   },
   "outputs": [
    {
     "name": "stderr",
     "output_type": "stream",
     "text": [
      "/usr/local/lib/python3.6/site-packages/statsmodels/compat/pandas.py:56: FutureWarning: The pandas.core.datetools module is deprecated and will be removed in a future version. Please use the pandas.tseries module instead.\n",
      "  from pandas.core import datetools\n"
     ]
    }
   ],
   "source": [
    "# for working with data\n",
    "import numpy as np\n",
    "import pandas as pd\n",
    "import ast\n",
    "import statsmodels.api as sm\n",
    "import pylab as pl\n",
    "\n",
    "# basic plot libraries\n",
    "import matplotlib.pyplot as plt\n",
    "import seaborn as sns\n",
    "from pandas.tools.plotting import table\n",
    "\n",
    "\n",
    "# # import the things we need from bokeh\n",
    "# from bokeh.plotting import figure, save, show\n",
    "# from bokeh.io import output_file, output_notebook\n",
    "# from bokeh.models import ColumnDataSource\n",
    "# # from bokeh.charts import Bar\n",
    "# from bokeh.models import HoverTool\n",
    "# from bokeh.models import (\n",
    "#   GMapPlot, GMapOptions, ColumnDataSource, Circle, DataRange1d, PanTool, WheelZoomTool, BoxSelectTool\n",
    "# )\n",
    "# from bokeh.tile_providers import STAMEN_TONER\n",
    "# from bokeh.models import LinearColorMapper, ColorBar, BasicTicker, ContinuousColorMapper, ContinuousTicker\n",
    "# from bokeh.palettes import Blues as bpalette\n",
    "\n",
    "# display graphs within the notebook\n",
    "%matplotlib inline\n",
    "# output_notebook()"
   ]
  },
  {
   "cell_type": "code",
   "execution_count": 5,
   "metadata": {
    "collapsed": false
   },
   "outputs": [],
   "source": [
    "diversity= pd.read_csv('Silicon Valley Diversity.csv')"
   ]
  },
  {
   "cell_type": "markdown",
   "metadata": {},
   "source": [
    "sanity check the csv dataframe"
   ]
  },
  {
   "cell_type": "code",
   "execution_count": 7,
   "metadata": {
    "collapsed": false
   },
   "outputs": [
    {
     "data": {
      "text/html": [
       "<div>\n",
       "<style scoped>\n",
       "    .dataframe tbody tr th:only-of-type {\n",
       "        vertical-align: middle;\n",
       "    }\n",
       "\n",
       "    .dataframe tbody tr th {\n",
       "        vertical-align: top;\n",
       "    }\n",
       "\n",
       "    .dataframe thead th {\n",
       "        text-align: right;\n",
       "    }\n",
       "</style>\n",
       "<table border=\"1\" class=\"dataframe\">\n",
       "  <thead>\n",
       "    <tr style=\"text-align: right;\">\n",
       "      <th></th>\n",
       "      <th>company</th>\n",
       "      <th>year</th>\n",
       "      <th>race</th>\n",
       "      <th>gender</th>\n",
       "      <th>job_category</th>\n",
       "      <th>count</th>\n",
       "    </tr>\n",
       "  </thead>\n",
       "  <tbody>\n",
       "    <tr>\n",
       "      <th>0</th>\n",
       "      <td>23andMe</td>\n",
       "      <td>2016</td>\n",
       "      <td>Latino</td>\n",
       "      <td>male</td>\n",
       "      <td>Executive/Senior officials &amp; Mgrs</td>\n",
       "      <td>0</td>\n",
       "    </tr>\n",
       "    <tr>\n",
       "      <th>1</th>\n",
       "      <td>23andMe</td>\n",
       "      <td>2016</td>\n",
       "      <td>Latino</td>\n",
       "      <td>male</td>\n",
       "      <td>First/Mid officials &amp; Mgrs</td>\n",
       "      <td>1</td>\n",
       "    </tr>\n",
       "    <tr>\n",
       "      <th>2</th>\n",
       "      <td>23andMe</td>\n",
       "      <td>2016</td>\n",
       "      <td>Latino</td>\n",
       "      <td>male</td>\n",
       "      <td>Professionals</td>\n",
       "      <td>7</td>\n",
       "    </tr>\n",
       "    <tr>\n",
       "      <th>3</th>\n",
       "      <td>23andMe</td>\n",
       "      <td>2016</td>\n",
       "      <td>Latino</td>\n",
       "      <td>male</td>\n",
       "      <td>Technicians</td>\n",
       "      <td>0</td>\n",
       "    </tr>\n",
       "    <tr>\n",
       "      <th>4</th>\n",
       "      <td>23andMe</td>\n",
       "      <td>2016</td>\n",
       "      <td>Latino</td>\n",
       "      <td>male</td>\n",
       "      <td>Sales workers</td>\n",
       "      <td>0</td>\n",
       "    </tr>\n",
       "  </tbody>\n",
       "</table>\n",
       "</div>"
      ],
      "text/plain": [
       "   company  year    race gender                       job_category count\n",
       "0  23andMe  2016  Latino   male  Executive/Senior officials & Mgrs     0\n",
       "1  23andMe  2016  Latino   male         First/Mid officials & Mgrs     1\n",
       "2  23andMe  2016  Latino   male                      Professionals     7\n",
       "3  23andMe  2016  Latino   male                        Technicians     0\n",
       "4  23andMe  2016  Latino   male                      Sales workers     0"
      ]
     },
     "execution_count": 7,
     "metadata": {},
     "output_type": "execute_result"
    }
   ],
   "source": [
    "diversity.head()"
   ]
  },
  {
   "cell_type": "code",
   "execution_count": 8,
   "metadata": {
    "collapsed": false
   },
   "outputs": [
    {
     "data": {
      "text/html": [
       "<div>\n",
       "<style scoped>\n",
       "    .dataframe tbody tr th:only-of-type {\n",
       "        vertical-align: middle;\n",
       "    }\n",
       "\n",
       "    .dataframe tbody tr th {\n",
       "        vertical-align: top;\n",
       "    }\n",
       "\n",
       "    .dataframe thead th {\n",
       "        text-align: right;\n",
       "    }\n",
       "</style>\n",
       "<table border=\"1\" class=\"dataframe\">\n",
       "  <thead>\n",
       "    <tr style=\"text-align: right;\">\n",
       "      <th></th>\n",
       "      <th>company</th>\n",
       "      <th>year</th>\n",
       "      <th>race</th>\n",
       "      <th>gender</th>\n",
       "      <th>job_category</th>\n",
       "      <th>count</th>\n",
       "    </tr>\n",
       "  </thead>\n",
       "  <tbody>\n",
       "    <tr>\n",
       "      <th>11</th>\n",
       "      <td>23andMe</td>\n",
       "      <td>2016</td>\n",
       "      <td>Latino</td>\n",
       "      <td>male</td>\n",
       "      <td>Previous_totals</td>\n",
       "      <td>na</td>\n",
       "    </tr>\n",
       "    <tr>\n",
       "      <th>23</th>\n",
       "      <td>23andMe</td>\n",
       "      <td>2016</td>\n",
       "      <td>Latino</td>\n",
       "      <td>female</td>\n",
       "      <td>Previous_totals</td>\n",
       "      <td>na</td>\n",
       "    </tr>\n",
       "    <tr>\n",
       "      <th>35</th>\n",
       "      <td>23andMe</td>\n",
       "      <td>2016</td>\n",
       "      <td>White</td>\n",
       "      <td>male</td>\n",
       "      <td>Previous_totals</td>\n",
       "      <td>na</td>\n",
       "    </tr>\n",
       "    <tr>\n",
       "      <th>47</th>\n",
       "      <td>23andMe</td>\n",
       "      <td>2016</td>\n",
       "      <td>Black_or_African_American</td>\n",
       "      <td>male</td>\n",
       "      <td>Previous_totals</td>\n",
       "      <td>na</td>\n",
       "    </tr>\n",
       "    <tr>\n",
       "      <th>59</th>\n",
       "      <td>23andMe</td>\n",
       "      <td>2016</td>\n",
       "      <td>Native_Hawaiian_or_Pacific_Islander</td>\n",
       "      <td>male</td>\n",
       "      <td>Previous_totals</td>\n",
       "      <td>na</td>\n",
       "    </tr>\n",
       "  </tbody>\n",
       "</table>\n",
       "</div>"
      ],
      "text/plain": [
       "    company  year                                 race  gender  \\\n",
       "11  23andMe  2016                               Latino    male   \n",
       "23  23andMe  2016                               Latino  female   \n",
       "35  23andMe  2016                                White    male   \n",
       "47  23andMe  2016            Black_or_African_American    male   \n",
       "59  23andMe  2016  Native_Hawaiian_or_Pacific_Islander    male   \n",
       "\n",
       "       job_category count  \n",
       "11  Previous_totals    na  \n",
       "23  Previous_totals    na  \n",
       "35  Previous_totals    na  \n",
       "47  Previous_totals    na  \n",
       "59  Previous_totals    na  "
      ]
     },
     "execution_count": 8,
     "metadata": {},
     "output_type": "execute_result"
    }
   ],
   "source": [
    "diversity[diversity['job_category'].isin(['Previous_totals'])].head()"
   ]
  },
  {
   "cell_type": "markdown",
   "metadata": {},
   "source": [
    "Clean the NAs to 0s on the count column"
   ]
  },
  {
   "cell_type": "code",
   "execution_count": 9,
   "metadata": {
    "collapsed": false
   },
   "outputs": [
    {
     "name": "stdout",
     "output_type": "stream",
     "text": [
      "    company  year                                 race  gender  \\\n",
      "11  23andMe  2016                               Latino    male   \n",
      "23  23andMe  2016                               Latino  female   \n",
      "35  23andMe  2016                                White    male   \n",
      "47  23andMe  2016            Black_or_African_American    male   \n",
      "59  23andMe  2016  Native_Hawaiian_or_Pacific_Islander    male   \n",
      "\n",
      "       job_category count  \n",
      "11  Previous_totals    na  \n",
      "23  Previous_totals    na  \n",
      "35  Previous_totals    na  \n",
      "47  Previous_totals    na  \n",
      "59  Previous_totals    na  \n"
     ]
    }
   ],
   "source": [
    "diversity['count'].fillna(0, inplace=True)\n",
    "print(diversity[diversity['count'].isin(['na'])].head())"
   ]
  },
  {
   "cell_type": "markdown",
   "metadata": {},
   "source": [
    "We still have counts with 'na's!"
   ]
  },
  {
   "cell_type": "code",
   "execution_count": 10,
   "metadata": {
    "collapsed": false
   },
   "outputs": [
    {
     "name": "stdout",
     "output_type": "stream",
     "text": [
      "Empty DataFrame\n",
      "Columns: [company, year, race, gender, job_category, count]\n",
      "Index: []\n"
     ]
    }
   ],
   "source": [
    "diversity['count'] = diversity['count'].replace(['na'], 0)\n",
    "print(diversity[diversity['count'].isin(['na'])].head())"
   ]
  },
  {
   "cell_type": "code",
   "execution_count": 12,
   "metadata": {
    "collapsed": true
   },
   "outputs": [],
   "source": [
    "# remove rows with Previous_totals and totals\n",
    "diversity = diversity[diversity['job_category'] != 'Totals']\n",
    "diversity = diversity[diversity['job_category'] != 'Previous_totals']"
   ]
  },
  {
   "cell_type": "code",
   "execution_count": null,
   "metadata": {
    "collapsed": true
   },
   "outputs": [],
   "source": []
  },
  {
   "cell_type": "markdown",
   "metadata": {},
   "source": [
    "All cleaned! Finally!"
   ]
  },
  {
   "cell_type": "code",
   "execution_count": 13,
   "metadata": {
    "collapsed": false
   },
   "outputs": [
    {
     "data": {
      "text/html": [
       "<div>\n",
       "<style scoped>\n",
       "    .dataframe tbody tr th:only-of-type {\n",
       "        vertical-align: middle;\n",
       "    }\n",
       "\n",
       "    .dataframe tbody tr th {\n",
       "        vertical-align: top;\n",
       "    }\n",
       "\n",
       "    .dataframe thead th {\n",
       "        text-align: right;\n",
       "    }\n",
       "</style>\n",
       "<table border=\"1\" class=\"dataframe\">\n",
       "  <thead>\n",
       "    <tr style=\"text-align: right;\">\n",
       "      <th></th>\n",
       "      <th>company</th>\n",
       "      <th>year</th>\n",
       "      <th>race</th>\n",
       "      <th>gender</th>\n",
       "      <th>job_category</th>\n",
       "      <th>count</th>\n",
       "    </tr>\n",
       "  </thead>\n",
       "  <tbody>\n",
       "    <tr>\n",
       "      <th>0</th>\n",
       "      <td>23andMe</td>\n",
       "      <td>2016</td>\n",
       "      <td>Latino</td>\n",
       "      <td>male</td>\n",
       "      <td>Executive/Senior officials &amp; Mgrs</td>\n",
       "      <td>0</td>\n",
       "    </tr>\n",
       "    <tr>\n",
       "      <th>1</th>\n",
       "      <td>23andMe</td>\n",
       "      <td>2016</td>\n",
       "      <td>Latino</td>\n",
       "      <td>male</td>\n",
       "      <td>First/Mid officials &amp; Mgrs</td>\n",
       "      <td>1</td>\n",
       "    </tr>\n",
       "    <tr>\n",
       "      <th>2</th>\n",
       "      <td>23andMe</td>\n",
       "      <td>2016</td>\n",
       "      <td>Latino</td>\n",
       "      <td>male</td>\n",
       "      <td>Professionals</td>\n",
       "      <td>7</td>\n",
       "    </tr>\n",
       "    <tr>\n",
       "      <th>3</th>\n",
       "      <td>23andMe</td>\n",
       "      <td>2016</td>\n",
       "      <td>Latino</td>\n",
       "      <td>male</td>\n",
       "      <td>Technicians</td>\n",
       "      <td>0</td>\n",
       "    </tr>\n",
       "    <tr>\n",
       "      <th>4</th>\n",
       "      <td>23andMe</td>\n",
       "      <td>2016</td>\n",
       "      <td>Latino</td>\n",
       "      <td>male</td>\n",
       "      <td>Sales workers</td>\n",
       "      <td>0</td>\n",
       "    </tr>\n",
       "  </tbody>\n",
       "</table>\n",
       "</div>"
      ],
      "text/plain": [
       "   company  year    race gender                       job_category count\n",
       "0  23andMe  2016  Latino   male  Executive/Senior officials & Mgrs     0\n",
       "1  23andMe  2016  Latino   male         First/Mid officials & Mgrs     1\n",
       "2  23andMe  2016  Latino   male                      Professionals     7\n",
       "3  23andMe  2016  Latino   male                        Technicians     0\n",
       "4  23andMe  2016  Latino   male                      Sales workers     0"
      ]
     },
     "execution_count": 13,
     "metadata": {},
     "output_type": "execute_result"
    }
   ],
   "source": [
    "diversity.head()"
   ]
  },
  {
   "cell_type": "code",
   "execution_count": null,
   "metadata": {
    "collapsed": true
   },
   "outputs": [],
   "source": []
  },
  {
   "cell_type": "code",
   "execution_count": 14,
   "metadata": {
    "collapsed": false
   },
   "outputs": [
    {
     "name": "stdout",
     "output_type": "stream",
     "text": [
      "                                        count\n",
      "race                                         \n",
      "American_Indian_Alaskan_Native         1165.0\n",
      "Asian                                 96171.0\n",
      "Black_or_African_American             17832.0\n",
      "Latino                                25767.0\n",
      "Native_Hawaiian_or_Pacific_Islander    1146.0\n",
      "Overall_totals                       354964.0\n",
      "Two_or_more_races                      5871.0\n",
      "White                                207012.0\n"
     ]
    }
   ],
   "source": [
    "# make sure count column are floats\n",
    "diversity['count'] = diversity['count'].astype(float)\n",
    "grouped = diversity.groupby('race')\n",
    "print(grouped.agg({\n",
    "    'count': 'sum'}))"
   ]
  },
  {
   "cell_type": "code",
   "execution_count": 15,
   "metadata": {
    "collapsed": false,
    "scrolled": true
   },
   "outputs": [
    {
     "data": {
      "text/html": [
       "<div>\n",
       "<style scoped>\n",
       "    .dataframe tbody tr th:only-of-type {\n",
       "        vertical-align: middle;\n",
       "    }\n",
       "\n",
       "    .dataframe tbody tr th {\n",
       "        vertical-align: top;\n",
       "    }\n",
       "\n",
       "    .dataframe thead th {\n",
       "        text-align: right;\n",
       "    }\n",
       "</style>\n",
       "<table border=\"1\" class=\"dataframe\">\n",
       "  <thead>\n",
       "    <tr style=\"text-align: right;\">\n",
       "      <th></th>\n",
       "      <th>count</th>\n",
       "    </tr>\n",
       "    <tr>\n",
       "      <th>race</th>\n",
       "      <th></th>\n",
       "    </tr>\n",
       "  </thead>\n",
       "  <tbody>\n",
       "    <tr>\n",
       "      <th>American_Indian_Alaskan_Native</th>\n",
       "      <td>1165.0</td>\n",
       "    </tr>\n",
       "    <tr>\n",
       "      <th>Asian</th>\n",
       "      <td>96171.0</td>\n",
       "    </tr>\n",
       "    <tr>\n",
       "      <th>Black_or_African_American</th>\n",
       "      <td>17832.0</td>\n",
       "    </tr>\n",
       "    <tr>\n",
       "      <th>Latino</th>\n",
       "      <td>25767.0</td>\n",
       "    </tr>\n",
       "    <tr>\n",
       "      <th>Native_Hawaiian_or_Pacific_Islander</th>\n",
       "      <td>1146.0</td>\n",
       "    </tr>\n",
       "    <tr>\n",
       "      <th>Overall_totals</th>\n",
       "      <td>354964.0</td>\n",
       "    </tr>\n",
       "    <tr>\n",
       "      <th>Two_or_more_races</th>\n",
       "      <td>5871.0</td>\n",
       "    </tr>\n",
       "    <tr>\n",
       "      <th>White</th>\n",
       "      <td>207012.0</td>\n",
       "    </tr>\n",
       "  </tbody>\n",
       "</table>\n",
       "</div>"
      ],
      "text/plain": [
       "                                        count\n",
       "race                                         \n",
       "American_Indian_Alaskan_Native         1165.0\n",
       "Asian                                 96171.0\n",
       "Black_or_African_American             17832.0\n",
       "Latino                                25767.0\n",
       "Native_Hawaiian_or_Pacific_Islander    1146.0\n",
       "Overall_totals                       354964.0\n",
       "Two_or_more_races                      5871.0\n",
       "White                                207012.0"
      ]
     },
     "execution_count": 15,
     "metadata": {},
     "output_type": "execute_result"
    }
   ],
   "source": [
    "pd.pivot_table(diversity, index=['race'], values='count', aggfunc=np.sum)"
   ]
  },
  {
   "cell_type": "code",
   "execution_count": 16,
   "metadata": {
    "collapsed": false
   },
   "outputs": [
    {
     "data": {
      "image/png": "[encoded data removed]",
      "text/plain": [
       "<matplotlib.figure.Figure at 0x10a3db940>"
      ]
     },
     "metadata": {},
     "output_type": "display_data"
    }
   ],
   "source": [
    "sns.barplot(y='count', x='race', data=diversity)\n",
    "plt.show()"
   ]
  },
  {
   "cell_type": "markdown",
   "metadata": {},
   "source": [
    "Overall_totals is messing things up! Let's build a new dataframe without it"
   ]
  },
  {
   "cell_type": "code",
   "execution_count": 17,
   "metadata": {
    "collapsed": false
   },
   "outputs": [
    {
     "name": "stdout",
     "output_type": "stream",
     "text": [
      "                                        count\n",
      "race                                         \n",
      "American_Indian_Alaskan_Native         1165.0\n",
      "Asian                                 96171.0\n",
      "Black_or_African_American             17832.0\n",
      "Latino                                25767.0\n",
      "Native_Hawaiian_or_Pacific_Islander    1146.0\n",
      "Overall_totals                       354964.0\n",
      "Two_or_more_races                      5871.0\n",
      "White                                207012.0\n"
     ]
    }
   ],
   "source": [
    "race_count = pd.pivot_table(diversity, index=['race'], values='count', aggfunc=np.sum)\n",
    "print(race_count)"
   ]
  },
  {
   "cell_type": "code",
   "execution_count": 18,
   "metadata": {
    "collapsed": false
   },
   "outputs": [
    {
     "name": "stdout",
     "output_type": "stream",
     "text": [
      "['count']\n"
     ]
    }
   ],
   "source": [
    "print(list(race_count))"
   ]
  },
  {
   "cell_type": "code",
   "execution_count": 19,
   "metadata": {
    "collapsed": false
   },
   "outputs": [
    {
     "name": "stdout",
     "output_type": "stream",
     "text": [
      "(8, 1)\n"
     ]
    }
   ],
   "source": [
    "print(race_count.shape)"
   ]
  },
  {
   "cell_type": "markdown",
   "metadata": {},
   "source": [
    "let's drop the 8th row"
   ]
  },
  {
   "cell_type": "code",
   "execution_count": 20,
   "metadata": {
    "collapsed": false
   },
   "outputs": [
    {
     "name": "stdout",
     "output_type": "stream",
     "text": [
      "XX                                      count\n",
      "race                                         \n",
      "American_Indian_Alaskan_Native         1165.0\n",
      "Asian                                 96171.0\n",
      "Black_or_African_American             17832.0\n",
      "Latino                                25767.0\n",
      "Native_Hawaiian_or_Pacific_Islander    1146.0\n",
      "Overall_totals                       354964.0\n",
      "Two_or_more_races                      5871.0\n",
      "White                                207012.0\n"
     ]
    }
   ],
   "source": [
    "race_count.columns.name = 'XX'\n",
    "print(race_count)"
   ]
  },
  {
   "cell_type": "code",
   "execution_count": 21,
   "metadata": {
    "collapsed": false
   },
   "outputs": [
    {
     "name": "stdout",
     "output_type": "stream",
     "text": [
      "XX                                      count\n",
      "race                                         \n",
      "American_Indian_Alaskan_Native         1165.0\n",
      "Asian                                 96171.0\n",
      "Black_or_African_American             17832.0\n",
      "Latino                                25767.0\n",
      "Native_Hawaiian_or_Pacific_Islander    1146.0\n",
      "Overall_totals                       354964.0\n",
      "Two_or_more_races                      5871.0\n",
      "White                                207012.0\n"
     ]
    }
   ],
   "source": [
    "print(race_count)"
   ]
  },
  {
   "cell_type": "code",
   "execution_count": 29,
   "metadata": {
    "collapsed": false
   },
   "outputs": [],
   "source": [
    "race_count = race_count[race_count['count'] != 354964.0]"
   ]
  },
  {
   "cell_type": "code",
   "execution_count": 30,
   "metadata": {
    "collapsed": false
   },
   "outputs": [
    {
     "data": {
      "text/html": [
       "<div>\n",
       "<style scoped>\n",
       "    .dataframe tbody tr th:only-of-type {\n",
       "        vertical-align: middle;\n",
       "    }\n",
       "\n",
       "    .dataframe tbody tr th {\n",
       "        vertical-align: top;\n",
       "    }\n",
       "\n",
       "    .dataframe thead th {\n",
       "        text-align: right;\n",
       "    }\n",
       "</style>\n",
       "<table border=\"1\" class=\"dataframe\">\n",
       "  <thead>\n",
       "    <tr style=\"text-align: right;\">\n",
       "      <th>XX</th>\n",
       "      <th>count</th>\n",
       "      <th>race_type</th>\n",
       "    </tr>\n",
       "    <tr>\n",
       "      <th>race</th>\n",
       "      <th></th>\n",
       "      <th></th>\n",
       "    </tr>\n",
       "  </thead>\n",
       "  <tbody>\n",
       "    <tr>\n",
       "      <th>American_Indian_Alaskan_Native</th>\n",
       "      <td>1165.0</td>\n",
       "      <td>American_Indian_Alaskan_Native</td>\n",
       "    </tr>\n",
       "    <tr>\n",
       "      <th>Asian</th>\n",
       "      <td>96171.0</td>\n",
       "      <td>Asian</td>\n",
       "    </tr>\n",
       "    <tr>\n",
       "      <th>Black_or_African_American</th>\n",
       "      <td>17832.0</td>\n",
       "      <td>Black_or_African_American</td>\n",
       "    </tr>\n",
       "    <tr>\n",
       "      <th>Latino</th>\n",
       "      <td>25767.0</td>\n",
       "      <td>Latino</td>\n",
       "    </tr>\n",
       "    <tr>\n",
       "      <th>Native_Hawaiian_or_Pacific_Islander</th>\n",
       "      <td>1146.0</td>\n",
       "      <td>Native_Hawaiian_or_Pacific_Islander</td>\n",
       "    </tr>\n",
       "    <tr>\n",
       "      <th>Two_or_more_races</th>\n",
       "      <td>5871.0</td>\n",
       "      <td>Two_or_more_races</td>\n",
       "    </tr>\n",
       "    <tr>\n",
       "      <th>White</th>\n",
       "      <td>207012.0</td>\n",
       "      <td>White</td>\n",
       "    </tr>\n",
       "  </tbody>\n",
       "</table>\n",
       "</div>"
      ],
      "text/plain": [
       "XX                                      count  \\\n",
       "race                                            \n",
       "American_Indian_Alaskan_Native         1165.0   \n",
       "Asian                                 96171.0   \n",
       "Black_or_African_American             17832.0   \n",
       "Latino                                25767.0   \n",
       "Native_Hawaiian_or_Pacific_Islander    1146.0   \n",
       "Two_or_more_races                      5871.0   \n",
       "White                                207012.0   \n",
       "\n",
       "XX                                                             race_type  \n",
       "race                                                                      \n",
       "American_Indian_Alaskan_Native            American_Indian_Alaskan_Native  \n",
       "Asian                                                              Asian  \n",
       "Black_or_African_American                      Black_or_African_American  \n",
       "Latino                                                            Latino  \n",
       "Native_Hawaiian_or_Pacific_Islander  Native_Hawaiian_or_Pacific_Islander  \n",
       "Two_or_more_races                                      Two_or_more_races  \n",
       "White                                                              White  "
      ]
     },
     "execution_count": 30,
     "metadata": {},
     "output_type": "execute_result"
    }
   ],
   "source": [
    "race_count"
   ]
  },
  {
   "cell_type": "code",
   "execution_count": 31,
   "metadata": {
    "collapsed": false
   },
   "outputs": [
    {
     "name": "stdout",
     "output_type": "stream",
     "text": [
      "['American_Indian_Alaskan_Native', 'Asian', 'Black_or_African_American', 'Latino', 'Native_Hawaiian_or_Pacific_Islander', 'Two_or_more_races', 'White']\n"
     ]
    }
   ],
   "source": [
    "print(list(race_count.index))"
   ]
  },
  {
   "cell_type": "code",
   "execution_count": 32,
   "metadata": {
    "collapsed": false
   },
   "outputs": [
    {
     "name": "stderr",
     "output_type": "stream",
     "text": [
      "/usr/local/lib/python3.6/site-packages/ipykernel_launcher.py:1: SettingWithCopyWarning: \n",
      "A value is trying to be set on a copy of a slice from a DataFrame.\n",
      "Try using .loc[row_indexer,col_indexer] = value instead\n",
      "\n",
      "See the caveats in the documentation: http://pandas.pydata.org/pandas-docs/stable/indexing.html#indexing-view-versus-copy\n",
      "  \"\"\"Entry point for launching an IPython kernel.\n"
     ]
    }
   ],
   "source": [
    "race_count['race_type'] = list(race_count.index)"
   ]
  },
  {
   "cell_type": "code",
   "execution_count": 33,
   "metadata": {
    "collapsed": false
   },
   "outputs": [
    {
     "data": {
      "text/html": [
       "<div>\n",
       "<style scoped>\n",
       "    .dataframe tbody tr th:only-of-type {\n",
       "        vertical-align: middle;\n",
       "    }\n",
       "\n",
       "    .dataframe tbody tr th {\n",
       "        vertical-align: top;\n",
       "    }\n",
       "\n",
       "    .dataframe thead th {\n",
       "        text-align: right;\n",
       "    }\n",
       "</style>\n",
       "<table border=\"1\" class=\"dataframe\">\n",
       "  <thead>\n",
       "    <tr style=\"text-align: right;\">\n",
       "      <th>XX</th>\n",
       "      <th>count</th>\n",
       "      <th>race_type</th>\n",
       "    </tr>\n",
       "    <tr>\n",
       "      <th>race</th>\n",
       "      <th></th>\n",
       "      <th></th>\n",
       "    </tr>\n",
       "  </thead>\n",
       "  <tbody>\n",
       "    <tr>\n",
       "      <th>American_Indian_Alaskan_Native</th>\n",
       "      <td>1165.0</td>\n",
       "      <td>American_Indian_Alaskan_Native</td>\n",
       "    </tr>\n",
       "    <tr>\n",
       "      <th>Asian</th>\n",
       "      <td>96171.0</td>\n",
       "      <td>Asian</td>\n",
       "    </tr>\n",
       "    <tr>\n",
       "      <th>Black_or_African_American</th>\n",
       "      <td>17832.0</td>\n",
       "      <td>Black_or_African_American</td>\n",
       "    </tr>\n",
       "    <tr>\n",
       "      <th>Latino</th>\n",
       "      <td>25767.0</td>\n",
       "      <td>Latino</td>\n",
       "    </tr>\n",
       "    <tr>\n",
       "      <th>Native_Hawaiian_or_Pacific_Islander</th>\n",
       "      <td>1146.0</td>\n",
       "      <td>Native_Hawaiian_or_Pacific_Islander</td>\n",
       "    </tr>\n",
       "    <tr>\n",
       "      <th>Two_or_more_races</th>\n",
       "      <td>5871.0</td>\n",
       "      <td>Two_or_more_races</td>\n",
       "    </tr>\n",
       "    <tr>\n",
       "      <th>White</th>\n",
       "      <td>207012.0</td>\n",
       "      <td>White</td>\n",
       "    </tr>\n",
       "  </tbody>\n",
       "</table>\n",
       "</div>"
      ],
      "text/plain": [
       "XX                                      count  \\\n",
       "race                                            \n",
       "American_Indian_Alaskan_Native         1165.0   \n",
       "Asian                                 96171.0   \n",
       "Black_or_African_American             17832.0   \n",
       "Latino                                25767.0   \n",
       "Native_Hawaiian_or_Pacific_Islander    1146.0   \n",
       "Two_or_more_races                      5871.0   \n",
       "White                                207012.0   \n",
       "\n",
       "XX                                                             race_type  \n",
       "race                                                                      \n",
       "American_Indian_Alaskan_Native            American_Indian_Alaskan_Native  \n",
       "Asian                                                              Asian  \n",
       "Black_or_African_American                      Black_or_African_American  \n",
       "Latino                                                            Latino  \n",
       "Native_Hawaiian_or_Pacific_Islander  Native_Hawaiian_or_Pacific_Islander  \n",
       "Two_or_more_races                                      Two_or_more_races  \n",
       "White                                                              White  "
      ]
     },
     "execution_count": 33,
     "metadata": {},
     "output_type": "execute_result"
    }
   ],
   "source": [
    "race_count"
   ]
  },
  {
   "cell_type": "code",
   "execution_count": null,
   "metadata": {
    "collapsed": true
   },
   "outputs": [],
   "source": []
  },
  {
   "cell_type": "markdown",
   "metadata": {},
   "source": [
    "Still ugly, let's do a pie chart"
   ]
  },
  {
   "cell_type": "code",
   "execution_count": 35,
   "metadata": {
    "collapsed": false
   },
   "outputs": [
    {
     "data": {
      "image/png": "[encoded data removed]",
      "text/plain": [
       "<matplotlib.figure.Figure at 0x10ff667b8>"
      ]
     },
     "metadata": {},
     "output_type": "display_data"
    }
   ],
   "source": [
    "plt.figure(figsize=(16,8))\n",
    "# plot chart\n",
    "ax1 = plt.subplot(121, aspect='equal')\n",
    "race_count.plot(kind='pie', y = 'count', ax=ax1, autopct='%1.1f%%', \n",
    " startangle=90, shadow=False, labels=race_count['race_type'], legend = True, fontsize=14)\n",
    "\n",
    "# plot table\n",
    "ax2 = plt.subplot(122)\n",
    "plt.axis('off')\n",
    "# tbl = table(ax2, race_count, loc='center')\n",
    "# tbl.auto_set_font_size(False)\n",
    "# tbl.set_fontsize(14)\n",
    "plt.show()"
   ]
  },
  {
   "cell_type": "markdown",
   "metadata": {},
   "source": [
    "##### To answer the first question: Are tech workers more likely to be white male? The answer is overwhelmingly yes."
   ]
  },
  {
   "cell_type": "markdown",
   "metadata": {},
   "source": [
    "gender2= pd.get_dummies(df['gender'], prefix='gender')"
   ]
  },
  {
   "cell_type": "code",
   "execution_count": null,
   "metadata": {
    "collapsed": true
   },
   "outputs": [],
   "source": [
    "baseline is ???"
   ]
  },
  {
   "cell_type": "markdown",
   "metadata": {},
   "source": [
    "The topic is interesting and meaningful. For question1, how would you establish a baseline for comparison? You may need another dataset or some statistics that represent the “average” representation of white male workforce across industries so you can come to a conclusion about whether white male are “more likely” to be represented in tech. \n",
    "\n",
    "Find a baseline, find the aggregate stats in the dataframe, aggregate by white + male, and look at that as the categorization vs everything else\n",
    "\n",
    "# let's just look at WHITE PEOPLE vs baseline instead"
   ]
  },
  {
   "cell_type": "markdown",
   "metadata": {},
   "source": [
    "##### Are race and gender predictive of the job category in tech companies? What are the predictive magnitude of these variables?"
   ]
  },
  {
   "cell_type": "markdown",
   "metadata": {},
   "source": [
    "For question2, do you plan on using machine learning for predictive analysis or using regression to test if those factors are statistically significantly related to the chance of being hired or just looking at the correlations? More specifically, what’s your methodology and what’s the outcome (positive/negative) you try to predict? Since there are many job categories, you are doing a multi-class classification rather than looking at a 1/0 binary outcome, which may be more challenging. \n",
    "\n",
    "Rollup gender, race to category into a pie chart (looking for charts and visuals so provide that)"
   ]
  },
  {
   "cell_type": "code",
   "execution_count": 68,
   "metadata": {
    "collapsed": false
   },
   "outputs": [
    {
     "name": "stdout",
     "output_type": "stream",
     "text": [
      "{'Executive/Senior officials & Mgrs': {'male': 2738.0, 'Latino': 101.0, 'female': 798.0, 'White': 2620.0, 'Black_or_African_American': 55.0, 'Native_Hawaiian_or_Pacific_Islander': 5.0, 'Asian': 710.0, 'American_Indian_Alaskan_Native': 9.0, 'Two_or_more_races': 36.0, nan: 3536.0, 'Overall_totals': 3536.0}, 'First/Mid officials & Mgrs': {'male': 36366.0, 'Latino': 2690.0, 'female': 15670.0, 'White': 34517.0, 'Black_or_African_American': 1398.0, 'Native_Hawaiian_or_Pacific_Islander': 116.0, 'Asian': 12542.0, 'American_Indian_Alaskan_Native': 136.0, 'Two_or_more_races': 637.0, nan: 52036.0, 'Overall_totals': 52036.0}, 'Professionals': {'male': 146371.0, 'Latino': 10513.0, 'female': 57654.0, 'White': 108805.0, 'Black_or_African_American': 6495.0, 'Native_Hawaiian_or_Pacific_Islander': 539.0, 'Asian': 74350.0, 'American_Indian_Alaskan_Native': 525.0, 'Two_or_more_races': 2798.0, nan: 204025.0, 'Overall_totals': 204025.0}, 'Technicians': {'male': 24483.0, 'Latino': 4211.0, 'female': 7574.0, 'White': 19882.0, 'Black_or_African_American': 3843.0, 'Native_Hawaiian_or_Pacific_Islander': 168.0, 'Asian': 2858.0, 'American_Indian_Alaskan_Native': 239.0, 'Two_or_more_races': 856.0, nan: 32057.0, 'Overall_totals': 32057.0}, 'Sales workers': {'male': 29209.0, 'Latino': 5079.0, 'female': 13406.0, 'White': 29113.0, 'Black_or_African_American': 3803.0, 'Native_Hawaiian_or_Pacific_Islander': 195.0, 'Asian': 3308.0, 'American_Indian_Alaskan_Native': 136.0, 'Two_or_more_races': 981.0, nan: 42615.0, 'Overall_totals': 42615.0}, 'Administrative support': {'male': 7038.0, 'Latino': 2685.0, 'female': 11754.0, 'White': 11186.0, 'Black_or_African_American': 2041.0, 'Native_Hawaiian_or_Pacific_Islander': 103.0, 'Asian': 2146.0, 'American_Indian_Alaskan_Native': 105.0, 'Two_or_more_races': 526.0, nan: 18792.0, 'Overall_totals': 18792.0}, 'Craft workers': {'male': 511.0, 'Latino': 74.0, 'female': 32.0, 'White': 392.0, 'Black_or_African_American': 18.0, 'Native_Hawaiian_or_Pacific_Islander': 1.0, 'Asian': 40.0, 'American_Indian_Alaskan_Native': 11.0, 'Two_or_more_races': 7.0, nan: 543.0, 'Overall_totals': 543.0}, 'operatives': {'male': 221.0, 'Latino': 28.0, 'female': 45.0, 'White': 137.0, 'Black_or_African_American': 74.0, 'Native_Hawaiian_or_Pacific_Islander': 1.0, 'Asian': 21.0, 'American_Indian_Alaskan_Native': 1.0, 'Two_or_more_races': 4.0, nan: 266.0, 'Overall_totals': 266.0}, 'laborers and helpers': {'male': 90.0, 'Latino': 52.0, 'female': 100.0, 'White': 62.0, 'Black_or_African_American': 36.0, 'Native_Hawaiian_or_Pacific_Islander': 1.0, 'Asian': 39.0, 'American_Indian_Alaskan_Native': 0.0, 'Two_or_more_races': 0.0, nan: 190.0, 'Overall_totals': 190.0}, 'Service workers': {'male': 585.0, 'Latino': 334.0, 'female': 319.0, 'White': 298.0, 'Black_or_African_American': 69.0, 'Native_Hawaiian_or_Pacific_Islander': 17.0, 'Asian': 157.0, 'American_Indian_Alaskan_Native': 3.0, 'Two_or_more_races': 26.0, nan: 904.0, 'Overall_totals': 904.0}}\n"
     ]
    }
   ],
   "source": [
    "# diversity['gender_dummy'] = pd.get_dummies(diversity['gender'], prefix='gender')\n",
    "mapping = {}\n",
    "for row in diversity.iterrows():\n",
    "    # company, year, race, gender, job_category, count\n",
    "    \n",
    "    company = row[1][0]\n",
    "    race = row[1][2]\n",
    "    gender = row[1][3]\n",
    "    job_category = row[1][4]\n",
    "    count = row[1][5]\n",
    "#     gender_dummy = row[6]\n",
    "    if job_category in ['Overall_totals']:\n",
    "        continue\n",
    "    if job_category in mapping:\n",
    "        if gender in mapping[job_category]:\n",
    "            mapping[job_category][gender] += count\n",
    "        else:\n",
    "            mapping[job_category][gender] = count \n",
    "            \n",
    "        if race in mapping[job_category]:\n",
    "            mapping[job_category][race] += count\n",
    "        else:\n",
    "            mapping[job_category][race] = count     \n",
    "    else:\n",
    "        mapping[job_category] = {gender: count, race:count}\n",
    "print(mapping)"
   ]
  },
  {
   "cell_type": "code",
   "execution_count": 69,
   "metadata": {
    "collapsed": false
   },
   "outputs": [
    {
     "data": {
      "image/png": "[encoded data removed]",
      "text/plain": [
       "<matplotlib.figure.Figure at 0x10f9eeda0>"
      ]
     },
     "metadata": {},
     "output_type": "display_data"
    },
    {
     "data": {
      "image/png": "[encoded data removed]",
      "text/plain": [
       "<matplotlib.figure.Figure at 0x1109258d0>"
      ]
     },
     "metadata": {},
     "output_type": "display_data"
    },
    {
     "data": {
      "image/png": "[encoded data removed]",
      "text/plain": [
       "<matplotlib.figure.Figure at 0x10f90e7b8>"
      ]
     },
     "metadata": {},
     "output_type": "display_data"
    },
    {
     "data": {
      "image/png": "[encoded data removed]",
      "text/plain": [
       "<matplotlib.figure.Figure at 0x108ed5d68>"
      ]
     },
     "metadata": {},
     "output_type": "display_data"
    },
    {
     "data": {
      "image/png": "[encoded data removed]",
      "text/plain": [
       "<matplotlib.figure.Figure at 0x10966ff60>"
      ]
     },
     "metadata": {},
     "output_type": "display_data"
    },
    {
     "data": {
      "image/png": "[encoded data removed]",
      "text/plain": [
       "<matplotlib.figure.Figure at 0x10fa9a8d0>"
      ]
     },
     "metadata": {},
     "output_type": "display_data"
    },
    {
     "data": {
      "image/png": "[encoded data removed]",
      "text/plain": [
       "<matplotlib.figure.Figure at 0x110bb4780>"
      ]
     },
     "metadata": {},
     "output_type": "display_data"
    },
    {
     "data": {
      "image/png": "[encoded data removed]",
      "text/plain": [
       "<matplotlib.figure.Figure at 0x10fdce198>"
      ]
     },
     "metadata": {},
     "output_type": "display_data"
    },
    {
     "data": {
      "image/png": "[encoded data removed]",
      "text/plain": [
       "<matplotlib.figure.Figure at 0x110c3af60>"
      ]
     },
     "metadata": {},
     "output_type": "display_data"
    },
    {
     "data": {
      "image/png": "[encoded data removed]",
      "text/plain": [
       "<matplotlib.figure.Figure at 0x110170f98>"
      ]
     },
     "metadata": {},
     "output_type": "display_data"
    }
   ],
   "source": [
    "from pylab import *\n",
    "for position in mapping:\n",
    "    male = mapping[position]['male']\n",
    "    female = mapping[position]['female']\n",
    "    labels = 'male', 'female'\n",
    "    sizes = [male, female]\n",
    "    # Plot\n",
    "    # make a square figure and axes\n",
    "    figure(1, figsize=(6,6))\n",
    "    #     ax = axes([0.1, 0.1, 0.8, 0.8])\n",
    "    fracs = [male, female]\n",
    "    pie(fracs, labels=labels,\n",
    "                    autopct='%1.1f%%', shadow=True, startangle=90)\n",
    "                    # The default startangle is 0, which would start\n",
    "                    # the Frogs slice on the x-axis.  With startangle=90,\n",
    "                    # everything is rotated counter-clockwise by 90 degrees,\n",
    "                    # so the plotting starts on the positive y-axis.\n",
    "    title(position, bbox={'facecolor':'0.8', 'pad':5})\n",
    "    show()"
   ]
  },
  {
   "cell_type": "code",
   "execution_count": 87,
   "metadata": {
    "collapsed": false
   },
   "outputs": [],
   "source": [
    "males = []\n",
    "females = []\n",
    "positions = []\n",
    "\n",
    "total_male = 0\n",
    "total_female = 0 \n",
    "for position in mapping:\n",
    "    male = mapping[position]['male']\n",
    "    female = mapping[position]['female']\n",
    "    males.append(round(male / (male + female) * 100, 2))\n",
    "    females.append(round(female / (male + female) * 100, 2))\n",
    "    positions.append(position)\n",
    "    total_male += male\n",
    "    total_female += female\n",
    "    \n",
    "male_baseline = total_male / (total_female + total_male) * 100\n",
    "female_baseline = total_female / (total_female + total_male) * 100\n",
    "\n",
    "df = pd.DataFrame({\n",
    "        'position' : positions,\n",
    "        'male %' : males,\n",
    "        'female %': females,\n",
    "        'male deviation from baseline': [i - male_baseline for i in males] ,\n",
    "        'female deviation from baseline': [i - female_baseline for i in females] ,\n",
    "    })"
   ]
  },
  {
   "cell_type": "code",
   "execution_count": 88,
   "metadata": {
    "collapsed": false
   },
   "outputs": [
    {
     "name": "stdout",
     "output_type": "stream",
     "text": [
      "Baseline for the Industry\n",
      "Male 69.76%\n",
      "Female 30.24%\n"
     ]
    }
   ],
   "source": [
    "print('Baseline for the Industry')\n",
    "print('Male', str(round(total_male / (total_female + total_male) * 100, 2)) + '%')\n",
    "print('Female', str(round(total_female / (total_female + total_male) * 100, 2)) + '%')"
   ]
  },
  {
   "cell_type": "code",
   "execution_count": 89,
   "metadata": {
    "collapsed": false
   },
   "outputs": [
    {
     "data": {
      "text/html": [
       "<div>\n",
       "<style scoped>\n",
       "    .dataframe tbody tr th:only-of-type {\n",
       "        vertical-align: middle;\n",
       "    }\n",
       "\n",
       "    .dataframe tbody tr th {\n",
       "        vertical-align: top;\n",
       "    }\n",
       "\n",
       "    .dataframe thead th {\n",
       "        text-align: right;\n",
       "    }\n",
       "</style>\n",
       "<table border=\"1\" class=\"dataframe\">\n",
       "  <thead>\n",
       "    <tr style=\"text-align: right;\">\n",
       "      <th></th>\n",
       "      <th>female %</th>\n",
       "      <th>female deviation from baseline</th>\n",
       "      <th>male %</th>\n",
       "      <th>male deviation from baseline</th>\n",
       "      <th>position</th>\n",
       "    </tr>\n",
       "  </thead>\n",
       "  <tbody>\n",
       "    <tr>\n",
       "      <th>6</th>\n",
       "      <td>5.89</td>\n",
       "      <td>-24.353067</td>\n",
       "      <td>94.11</td>\n",
       "      <td>24.353067</td>\n",
       "      <td>Craft workers</td>\n",
       "    </tr>\n",
       "    <tr>\n",
       "      <th>7</th>\n",
       "      <td>16.92</td>\n",
       "      <td>-13.323067</td>\n",
       "      <td>83.08</td>\n",
       "      <td>13.323067</td>\n",
       "      <td>operatives</td>\n",
       "    </tr>\n",
       "    <tr>\n",
       "      <th>0</th>\n",
       "      <td>22.57</td>\n",
       "      <td>-7.673067</td>\n",
       "      <td>77.43</td>\n",
       "      <td>7.673067</td>\n",
       "      <td>Executive/Senior officials &amp; Mgrs</td>\n",
       "    </tr>\n",
       "    <tr>\n",
       "      <th>3</th>\n",
       "      <td>23.63</td>\n",
       "      <td>-6.613067</td>\n",
       "      <td>76.37</td>\n",
       "      <td>6.613067</td>\n",
       "      <td>Technicians</td>\n",
       "    </tr>\n",
       "    <tr>\n",
       "      <th>2</th>\n",
       "      <td>28.26</td>\n",
       "      <td>-1.983067</td>\n",
       "      <td>71.74</td>\n",
       "      <td>1.983067</td>\n",
       "      <td>Professionals</td>\n",
       "    </tr>\n",
       "    <tr>\n",
       "      <th>1</th>\n",
       "      <td>30.11</td>\n",
       "      <td>-0.133067</td>\n",
       "      <td>69.89</td>\n",
       "      <td>0.133067</td>\n",
       "      <td>First/Mid officials &amp; Mgrs</td>\n",
       "    </tr>\n",
       "    <tr>\n",
       "      <th>4</th>\n",
       "      <td>31.46</td>\n",
       "      <td>1.216933</td>\n",
       "      <td>68.54</td>\n",
       "      <td>-1.216933</td>\n",
       "      <td>Sales workers</td>\n",
       "    </tr>\n",
       "    <tr>\n",
       "      <th>9</th>\n",
       "      <td>35.29</td>\n",
       "      <td>5.046933</td>\n",
       "      <td>64.71</td>\n",
       "      <td>-5.046933</td>\n",
       "      <td>Service workers</td>\n",
       "    </tr>\n",
       "    <tr>\n",
       "      <th>8</th>\n",
       "      <td>52.63</td>\n",
       "      <td>22.386933</td>\n",
       "      <td>47.37</td>\n",
       "      <td>-22.386933</td>\n",
       "      <td>laborers and helpers</td>\n",
       "    </tr>\n",
       "    <tr>\n",
       "      <th>5</th>\n",
       "      <td>62.55</td>\n",
       "      <td>32.306933</td>\n",
       "      <td>37.45</td>\n",
       "      <td>-32.306933</td>\n",
       "      <td>Administrative support</td>\n",
       "    </tr>\n",
       "  </tbody>\n",
       "</table>\n",
       "</div>"
      ],
      "text/plain": [
       "   female %  female deviation from baseline  male %  \\\n",
       "6      5.89                      -24.353067   94.11   \n",
       "7     16.92                      -13.323067   83.08   \n",
       "0     22.57                       -7.673067   77.43   \n",
       "3     23.63                       -6.613067   76.37   \n",
       "2     28.26                       -1.983067   71.74   \n",
       "1     30.11                       -0.133067   69.89   \n",
       "4     31.46                        1.216933   68.54   \n",
       "9     35.29                        5.046933   64.71   \n",
       "8     52.63                       22.386933   47.37   \n",
       "5     62.55                       32.306933   37.45   \n",
       "\n",
       "   male deviation from baseline                           position  \n",
       "6                     24.353067                      Craft workers  \n",
       "7                     13.323067                         operatives  \n",
       "0                      7.673067  Executive/Senior officials & Mgrs  \n",
       "3                      6.613067                        Technicians  \n",
       "2                      1.983067                      Professionals  \n",
       "1                      0.133067         First/Mid officials & Mgrs  \n",
       "4                     -1.216933                      Sales workers  \n",
       "9                     -5.046933                    Service workers  \n",
       "8                    -22.386933               laborers and helpers  \n",
       "5                    -32.306933             Administrative support  "
      ]
     },
     "execution_count": 89,
     "metadata": {},
     "output_type": "execute_result"
    }
   ],
   "source": [
    "df.sort_values(by=['female deviation from baseline'])"
   ]
  },
  {
   "cell_type": "markdown",
   "metadata": {},
   "source": [
    "The hypothesis is that for a given profession, the male-female distribution should be directly reflective of the baseline distribution of the dataset, which is 69.76% male and 30.24% female. We can see that there are more female workers than female workers with regards to baseline for services and administrative support, which is congruent with stereotypes. In addition, there are more male exectuives than female executives with regards to baseline, a well known phenomon. "
   ]
  },
  {
   "cell_type": "markdown",
   "metadata": {},
   "source": [
    "##### Do different companies have different diversity profile?"
   ]
  },
  {
   "cell_type": "markdown",
   "metadata": {},
   "source": [
    "For question 3 and 4 you may discuss further on how you construct a diversity profile for each companies.\n",
    "\n",
    "Diversity profile is gender + race"
   ]
  },
  {
   "cell_type": "markdown",
   "metadata": {},
   "source": [
    "Our hypothesis is that different companies do have diffe"
   ]
  },
  {
   "cell_type": "markdown",
   "metadata": {},
   "source": [
    "Let's check how many companies there are"
   ]
  },
  {
   "cell_type": "code",
   "execution_count": 136,
   "metadata": {
    "collapsed": false
   },
   "outputs": [
    {
     "name": "stdout",
     "output_type": "stream",
     "text": [
      "['23andMe' 'Adobe' 'Airbnb' 'Apple' 'Cisco' 'Facebook' 'Google' 'HP Inc.'\n",
      " 'HPE' 'Intel' 'Intuit' 'LinkedIn' 'Lyft' 'MobileIron' 'Nvidia' 'Pinterest'\n",
      " 'Salesforce' 'Square' 'Twitter' 'Uber' 'View' 'eBay']\n"
     ]
    }
   ],
   "source": [
    "print(np.unique(diversity[['company']].values))"
   ]
  },
  {
   "cell_type": "markdown",
   "metadata": {},
   "source": [
    "Let's build a new dataframe with some aggregate stats"
   ]
  },
  {
   "cell_type": "code",
   "execution_count": 153,
   "metadata": {
    "collapsed": false
   },
   "outputs": [
    {
     "name": "stdout",
     "output_type": "stream",
     "text": [
      "['23andMe' 'Adobe' 'Airbnb' 'Apple' 'Cisco' 'Facebook' 'Google' 'HP Inc.'\n",
      " 'HPE' 'Intel' 'Intuit' 'LinkedIn' 'Lyft' 'MobileIron' 'Nvidia' 'Pinterest'\n",
      " 'Salesforce' 'Square' 'Twitter' 'Uber' 'View' 'eBay']\n",
      "['American_Indian_Alaskan_Native' 'Asian' 'Black_or_African_American'\n",
      " 'Latino' 'Native_Hawaiian_or_Pacific_Islander' 'Overall_totals'\n",
      " 'Two_or_more_races' 'White']\n"
     ]
    }
   ],
   "source": [
    "mapping = {}\n",
    "\n",
    "company_names = np.unique(diversity[['company']].values)\n",
    "race = np.unique(diversity[['race']].values)\n",
    "print(company_names)\n",
    "print(race)"
   ]
  },
  {
   "cell_type": "code",
   "execution_count": 154,
   "metadata": {
    "collapsed": false
   },
   "outputs": [],
   "source": [
    "# Initializer\n",
    "for company in company_names:\n",
    "    mapping[company] = {}\n",
    "    for r in race:\n",
    "        mapping[company][r] = 0\n",
    "    mapping[company]['male'] = 0\n",
    "    mapping[company]['female'] = 0\n",
    "    mapping[company]['other'] = 0    "
   ]
  },
  {
   "cell_type": "code",
   "execution_count": 168,
   "metadata": {
    "collapsed": false
   },
   "outputs": [],
   "source": [
    "for index, row in diversity.iterrows():\n",
    "    company = row[0]\n",
    "    race = row[2]\n",
    "    gender = row[3]\n",
    "    count = row[5]\n",
    "    mapping[company][race] += count\n",
    "    if gender == 'female':\n",
    "        mapping[company]['female'] += 1\n",
    "    elif gender == 'male':\n",
    "        mapping[company]['male'] += 1\n",
    "    else:\n",
    "        mapping[company]['other'] += 1"
   ]
  },
  {
   "cell_type": "code",
   "execution_count": 169,
   "metadata": {
    "collapsed": false
   },
   "outputs": [
    {
     "name": "stdout",
     "output_type": "stream",
     "text": [
      "{'23andMe': {'American_Indian_Alaskan_Native': 8.0, 'Asian': 280.0, 'Black_or_African_American': 20.0, 'Latino': 76.0, 'Native_Hawaiian_or_Pacific_Islander': 4.0, 'Overall_totals': 1188.0, 'Two_or_more_races': 56.0, 'White': 744.0, 'male': 168, 'female': 180, 'other': 12}, 'Adobe': {'American_Indian_Alaskan_Native': 78.0, 'Asian': 10548.0, 'Black_or_African_American': 670.0, 'Latino': 1912.0, 'Native_Hawaiian_or_Pacific_Islander': 150.0, 'Overall_totals': 41810.0, 'Two_or_more_races': 390.0, 'White': 28062.0, 'male': 168, 'female': 180, 'other': 12}, 'Airbnb': {'American_Indian_Alaskan_Native': 24.0, 'Asian': 2958.0, 'Black_or_African_American': 304.0, 'Latino': 696.0, 'Native_Hawaiian_or_Pacific_Islander': 40.0, 'Overall_totals': 10470.0, 'Two_or_more_races': 342.0, 'White': 6106.0, 'male': 168, 'female': 180, 'other': 12}, 'Apple': {'American_Indian_Alaskan_Native': 1614.0, 'Asian': 85318.0, 'Black_or_African_American': 40836.0, 'Latino': 54924.0, 'Native_Hawaiian_or_Pacific_Islander': 2166.0, 'Overall_totals': 453756.0, 'Two_or_more_races': 9382.0, 'White': 259516.0, 'male': 168, 'female': 180, 'other': 12}, 'Cisco': {'American_Indian_Alaskan_Native': 552.0, 'Asian': 79896.0, 'Black_or_African_American': 7584.0, 'Latino': 11288.0, 'Native_Hawaiian_or_Pacific_Islander': 318.0, 'Overall_totals': 222732.0, 'Two_or_more_races': 2012.0, 'White': 121082.0, 'male': 168, 'female': 180, 'other': 12}, 'Facebook': {'American_Indian_Alaskan_Native': 104.0, 'Asian': 23388.0, 'Black_or_African_American': 1326.0, 'Latino': 2738.0, 'Native_Hawaiian_or_Pacific_Islander': 174.0, 'Overall_totals': 61856.0, 'Two_or_more_races': 1668.0, 'White': 32458.0, 'male': 168, 'female': 180, 'other': 12}, 'Google': {'American_Indian_Alaskan_Native': 324.0, 'Asian': 87118.0, 'Black_or_African_American': 6160.0, 'Latino': 13204.0, 'Native_Hawaiian_or_Pacific_Islander': 552.0, 'Overall_totals': 264382.0, 'Two_or_more_races': 4880.0, 'White': 152144.0, 'male': 168, 'female': 180, 'other': 12}, 'HP Inc.': {'American_Indian_Alaskan_Native': 864.0, 'Asian': 27320.0, 'Black_or_African_American': 11740.0, 'Latino': 13512.0, 'Native_Hawaiian_or_Pacific_Islander': 300.0, 'Overall_totals': 198754.0, 'Two_or_more_races': 2478.0, 'White': 142540.0, 'male': 168, 'female': 180, 'other': 12}, 'HPE': {'American_Indian_Alaskan_Native': 824.0, 'Asian': 26536.0, 'Black_or_African_American': 14936.0, 'Latino': 11948.0, 'Native_Hawaiian_or_Pacific_Islander': 320.0, 'Overall_totals': 207956.0, 'Two_or_more_races': 2308.0, 'White': 151084.0, 'male': 168, 'female': 180, 'other': 12}, 'Intel': {'American_Indian_Alaskan_Native': 1804.0, 'Asian': 112544.0, 'Black_or_African_American': 12286.0, 'Latino': 26380.0, 'Native_Hawaiian_or_Pacific_Islander': 1344.0, 'Overall_totals': 324006.0, 'Two_or_more_races': 3918.0, 'White': 165730.0, 'male': 168, 'female': 180, 'other': 12}, 'Intuit': {'American_Indian_Alaskan_Native': 372.0, 'Asian': 10612.0, 'Black_or_African_American': 1446.0, 'Latino': 2642.0, 'Native_Hawaiian_or_Pacific_Islander': 128.0, 'Overall_totals': 36372.0, 'Two_or_more_races': 812.0, 'White': 20360.0, 'male': 168, 'female': 180, 'other': 12}, 'LinkedIn': {'American_Indian_Alaskan_Native': 68.0, 'Asian': 14492.0, 'Black_or_African_American': 948.0, 'Latino': 1780.0, 'Native_Hawaiian_or_Pacific_Islander': 62.0, 'Overall_totals': 39178.0, 'Two_or_more_races': 726.0, 'White': 21102.0, 'male': 168, 'female': 180, 'other': 12}, 'Lyft': {'American_Indian_Alaskan_Native': 36.0, 'Asian': 1314.0, 'Black_or_African_American': 412.0, 'Latino': 482.0, 'Native_Hawaiian_or_Pacific_Islander': 18.0, 'Overall_totals': 6802.0, 'Two_or_more_races': 210.0, 'White': 4330.0, 'male': 168, 'female': 180, 'other': 12}, 'MobileIron': {'American_Indian_Alaskan_Native': 6.0, 'Asian': 1154.0, 'Black_or_African_American': 48.0, 'Latino': 168.0, 'Native_Hawaiian_or_Pacific_Islander': 12.0, 'Overall_totals': 3138.0, 'Two_or_more_races': 44.0, 'White': 1706.0, 'male': 168, 'female': 180, 'other': 12}, 'Nvidia': {'American_Indian_Alaskan_Native': 36.0, 'Asian': 15996.0, 'Black_or_African_American': 308.0, 'Latino': 1076.0, 'Native_Hawaiian_or_Pacific_Islander': 70.0, 'Overall_totals': 30850.0, 'Two_or_more_races': 72.0, 'White': 13292.0, 'male': 168, 'female': 180, 'other': 12}, 'Pinterest': {'American_Indian_Alaskan_Native': 20.0, 'Asian': 1998.0, 'Black_or_African_American': 94.0, 'Latino': 168.0, 'Native_Hawaiian_or_Pacific_Islander': 2.0, 'Overall_totals': 4950.0, 'Two_or_more_races': 194.0, 'White': 2474.0, 'male': 168, 'female': 180, 'other': 12}, 'Salesforce': {'American_Indian_Alaskan_Native': 106.0, 'Asian': 20000.0, 'Black_or_African_American': 1936.0, 'Latino': 3312.0, 'Native_Hawaiian_or_Pacific_Islander': 320.0, 'Overall_totals': 82802.0, 'Two_or_more_races': 1916.0, 'White': 55212.0, 'male': 168, 'female': 180, 'other': 12}, 'Square': {'American_Indian_Alaskan_Native': 20.0, 'Asian': 1672.0, 'Black_or_African_American': 332.0, 'Latino': 404.0, 'Native_Hawaiian_or_Pacific_Islander': 20.0, 'Overall_totals': 6844.0, 'Two_or_more_races': 276.0, 'White': 4120.0, 'male': 168, 'female': 180, 'other': 12}, 'Twitter': {'American_Indian_Alaskan_Native': 44.0, 'Asian': 5820.0, 'Black_or_African_American': 432.0, 'Latino': 746.0, 'Native_Hawaiian_or_Pacific_Islander': 72.0, 'Overall_totals': 18474.0, 'Two_or_more_races': 422.0, 'White': 10938.0, 'male': 168, 'female': 180, 'other': 12}, 'Uber': {'American_Indian_Alaskan_Native': 36.0, 'Asian': 7944.0, 'Black_or_African_American': 1132.0, 'Latino': 1120.0, 'Native_Hawaiian_or_Pacific_Islander': 60.0, 'Overall_totals': 23540.0, 'Two_or_more_races': 708.0, 'White': 12540.0, 'male': 168, 'female': 180, 'other': 12}, 'View': {'American_Indian_Alaskan_Native': 10.0, 'Asian': 510.0, 'Black_or_African_American': 370.0, 'Latino': 110.0, 'Native_Hawaiian_or_Pacific_Islander': 6.0, 'Overall_totals': 2544.0, 'Two_or_more_races': 56.0, 'White': 1482.0, 'male': 168, 'female': 180, 'other': 12}, 'eBay': {'American_Indian_Alaskan_Native': 110.0, 'Asian': 15642.0, 'Black_or_African_American': 2306.0, 'Latino': 2198.0, 'Native_Hawaiian_or_Pacific_Islander': 192.0, 'Overall_totals': 48164.0, 'Two_or_more_races': 424.0, 'White': 27292.0, 'male': 168, 'female': 180, 'other': 12}}\n"
     ]
    }
   ],
   "source": [
    "print(mapping)"
   ]
  },
  {
   "cell_type": "code",
   "execution_count": 170,
   "metadata": {
    "collapsed": false
   },
   "outputs": [
    {
     "name": "stdout",
     "output_type": "stream",
     "text": [
      "['company', 'American_Indian_Alaskan_Native', 'Asian', 'Black_or_African_American', 'Latino', 'Native_Hawaiian_or_Pacific_Islander', 'Overall_totals', 'Two_or_more_races', 'White', 'male', 'female', 'other']\n"
     ]
    }
   ],
   "source": [
    "# build dataframe\n",
    "headers = []\n",
    "headers.append('company')\n",
    "headers = headers + list(np.unique(diversity[['race']].values))\n",
    "headers = headers + ['male', 'female', 'other']\n",
    "print(headers)"
   ]
  },
  {
   "cell_type": "code",
   "execution_count": 171,
   "metadata": {
    "collapsed": false
   },
   "outputs": [
    {
     "name": "stdout",
     "output_type": "stream",
     "text": [
      "[['23andMe', 8.0, 280.0, 20.0, 76.0, 4.0, 1188.0, 56.0, 744.0, 168, 180, 12], ['Adobe', 78.0, 10548.0, 670.0, 1912.0, 150.0, 41810.0, 390.0, 28062.0, 168, 180, 12], ['Airbnb', 24.0, 2958.0, 304.0, 696.0, 40.0, 10470.0, 342.0, 6106.0, 168, 180, 12], ['Apple', 1614.0, 85318.0, 40836.0, 54924.0, 2166.0, 453756.0, 9382.0, 259516.0, 168, 180, 12], ['Cisco', 552.0, 79896.0, 7584.0, 11288.0, 318.0, 222732.0, 2012.0, 121082.0, 168, 180, 12], ['Facebook', 104.0, 23388.0, 1326.0, 2738.0, 174.0, 61856.0, 1668.0, 32458.0, 168, 180, 12], ['Google', 324.0, 87118.0, 6160.0, 13204.0, 552.0, 264382.0, 4880.0, 152144.0, 168, 180, 12], ['HP Inc.', 864.0, 27320.0, 11740.0, 13512.0, 300.0, 198754.0, 2478.0, 142540.0, 168, 180, 12], ['HPE', 824.0, 26536.0, 14936.0, 11948.0, 320.0, 207956.0, 2308.0, 151084.0, 168, 180, 12], ['Intel', 1804.0, 112544.0, 12286.0, 26380.0, 1344.0, 324006.0, 3918.0, 165730.0, 168, 180, 12], ['Intuit', 372.0, 10612.0, 1446.0, 2642.0, 128.0, 36372.0, 812.0, 20360.0, 168, 180, 12], ['LinkedIn', 68.0, 14492.0, 948.0, 1780.0, 62.0, 39178.0, 726.0, 21102.0, 168, 180, 12], ['Lyft', 36.0, 1314.0, 412.0, 482.0, 18.0, 6802.0, 210.0, 4330.0, 168, 180, 12], ['MobileIron', 6.0, 1154.0, 48.0, 168.0, 12.0, 3138.0, 44.0, 1706.0, 168, 180, 12], ['Nvidia', 36.0, 15996.0, 308.0, 1076.0, 70.0, 30850.0, 72.0, 13292.0, 168, 180, 12], ['Pinterest', 20.0, 1998.0, 94.0, 168.0, 2.0, 4950.0, 194.0, 2474.0, 168, 180, 12], ['Salesforce', 106.0, 20000.0, 1936.0, 3312.0, 320.0, 82802.0, 1916.0, 55212.0, 168, 180, 12], ['Square', 20.0, 1672.0, 332.0, 404.0, 20.0, 6844.0, 276.0, 4120.0, 168, 180, 12], ['Twitter', 44.0, 5820.0, 432.0, 746.0, 72.0, 18474.0, 422.0, 10938.0, 168, 180, 12], ['Uber', 36.0, 7944.0, 1132.0, 1120.0, 60.0, 23540.0, 708.0, 12540.0, 168, 180, 12], ['View', 10.0, 510.0, 370.0, 110.0, 6.0, 2544.0, 56.0, 1482.0, 168, 180, 12], ['eBay', 110.0, 15642.0, 2306.0, 2198.0, 192.0, 48164.0, 424.0, 27292.0, 168, 180, 12]]\n"
     ]
    }
   ],
   "source": [
    "l = []\n",
    "for k in mapping:\n",
    "    line = [k]\n",
    "    for k1 in mapping[k]:\n",
    "        line.append(mapping[k][k1])\n",
    "    l.append(line)\n",
    "print(l)\n",
    "        "
   ]
  },
  {
   "cell_type": "code",
   "execution_count": 172,
   "metadata": {
    "collapsed": false
   },
   "outputs": [],
   "source": [
    "agg_diversity = pd.DataFrame(l, columns=headers)"
   ]
  },
  {
   "cell_type": "code",
   "execution_count": 173,
   "metadata": {
    "collapsed": false,
    "scrolled": true
   },
   "outputs": [
    {
     "name": "stdout",
     "output_type": "stream",
     "text": [
      "       company  American_Indian_Alaskan_Native     Asian  \\\n",
      "0      23andMe                             8.0     280.0   \n",
      "1        Adobe                            78.0   10548.0   \n",
      "2       Airbnb                            24.0    2958.0   \n",
      "3        Apple                          1614.0   85318.0   \n",
      "4        Cisco                           552.0   79896.0   \n",
      "5     Facebook                           104.0   23388.0   \n",
      "6       Google                           324.0   87118.0   \n",
      "7      HP Inc.                           864.0   27320.0   \n",
      "8          HPE                           824.0   26536.0   \n",
      "9        Intel                          1804.0  112544.0   \n",
      "10      Intuit                           372.0   10612.0   \n",
      "11    LinkedIn                            68.0   14492.0   \n",
      "12        Lyft                            36.0    1314.0   \n",
      "13  MobileIron                             6.0    1154.0   \n",
      "14      Nvidia                            36.0   15996.0   \n",
      "15   Pinterest                            20.0    1998.0   \n",
      "16  Salesforce                           106.0   20000.0   \n",
      "17      Square                            20.0    1672.0   \n",
      "18     Twitter                            44.0    5820.0   \n",
      "19        Uber                            36.0    7944.0   \n",
      "20        View                            10.0     510.0   \n",
      "21        eBay                           110.0   15642.0   \n",
      "\n",
      "    Black_or_African_American   Latino  Native_Hawaiian_or_Pacific_Islander  \\\n",
      "0                        20.0     76.0                                  4.0   \n",
      "1                       670.0   1912.0                                150.0   \n",
      "2                       304.0    696.0                                 40.0   \n",
      "3                     40836.0  54924.0                               2166.0   \n",
      "4                      7584.0  11288.0                                318.0   \n",
      "5                      1326.0   2738.0                                174.0   \n",
      "6                      6160.0  13204.0                                552.0   \n",
      "7                     11740.0  13512.0                                300.0   \n",
      "8                     14936.0  11948.0                                320.0   \n",
      "9                     12286.0  26380.0                               1344.0   \n",
      "10                     1446.0   2642.0                                128.0   \n",
      "11                      948.0   1780.0                                 62.0   \n",
      "12                      412.0    482.0                                 18.0   \n",
      "13                       48.0    168.0                                 12.0   \n",
      "14                      308.0   1076.0                                 70.0   \n",
      "15                       94.0    168.0                                  2.0   \n",
      "16                     1936.0   3312.0                                320.0   \n",
      "17                      332.0    404.0                                 20.0   \n",
      "18                      432.0    746.0                                 72.0   \n",
      "19                     1132.0   1120.0                                 60.0   \n",
      "20                      370.0    110.0                                  6.0   \n",
      "21                     2306.0   2198.0                                192.0   \n",
      "\n",
      "    Overall_totals  Two_or_more_races     White  male  female  other  \n",
      "0           1188.0               56.0     744.0   168     180     12  \n",
      "1          41810.0              390.0   28062.0   168     180     12  \n",
      "2          10470.0              342.0    6106.0   168     180     12  \n",
      "3         453756.0             9382.0  259516.0   168     180     12  \n",
      "4         222732.0             2012.0  121082.0   168     180     12  \n",
      "5          61856.0             1668.0   32458.0   168     180     12  \n",
      "6         264382.0             4880.0  152144.0   168     180     12  \n",
      "7         198754.0             2478.0  142540.0   168     180     12  \n",
      "8         207956.0             2308.0  151084.0   168     180     12  \n",
      "9         324006.0             3918.0  165730.0   168     180     12  \n",
      "10         36372.0              812.0   20360.0   168     180     12  \n",
      "11         39178.0              726.0   21102.0   168     180     12  \n",
      "12          6802.0              210.0    4330.0   168     180     12  \n",
      "13          3138.0               44.0    1706.0   168     180     12  \n",
      "14         30850.0               72.0   13292.0   168     180     12  \n",
      "15          4950.0              194.0    2474.0   168     180     12  \n",
      "16         82802.0             1916.0   55212.0   168     180     12  \n",
      "17          6844.0              276.0    4120.0   168     180     12  \n",
      "18         18474.0              422.0   10938.0   168     180     12  \n",
      "19         23540.0              708.0   12540.0   168     180     12  \n",
      "20          2544.0               56.0    1482.0   168     180     12  \n",
      "21         48164.0              424.0   27292.0   168     180     12  \n"
     ]
    }
   ],
   "source": [
    "print(agg_diversity)"
   ]
  },
  {
   "cell_type": "markdown",
   "metadata": {},
   "source": [
    "To see \"differentness\", let's look at the normalized SD score for each race to get an idea for the range of distributions "
   ]
  },
  {
   "cell_type": "code",
   "execution_count": 191,
   "metadata": {
    "collapsed": false
   },
   "outputs": [
    {
     "name": "stdout",
     "output_type": "stream",
     "text": [
      "0.00213491101638  is the normalized Standard Deviation for race  American_Indian_Alaskan_Native\n",
      "0.091721974964  is the normalized Standard Deviation for race  Asian\n",
      "0.0303298524217  is the normalized Standard Deviation for race  Black_or_African_American\n",
      "0.01895169521  is the normalized Standard Deviation for race  Latino\n",
      "0.00109498855831  is the normalized Standard Deviation for race  Native_Hawaiian_or_Pacific_Islander\n",
      "0.0  is the normalized Standard Deviation for race  Overall_totals\n",
      "0.0113440900715  is the normalized Standard Deviation for race  Two_or_more_races\n",
      "0.0693207657714  is the normalized Standard Deviation for race  White\n"
     ]
    }
   ],
   "source": [
    "for race in list(np.unique(diversity[['race']].values)):\n",
    "    # the SD overall totals should be 0\n",
    "    values = agg_diversity[race].values\n",
    "    norm_vector = []\n",
    "    # normalize\n",
    "    for idx, v in enumerate(values):\n",
    "        s = agg_diversity['Overall_totals'][idx]\n",
    "        norm_vector.append(v/s) # normalize the count to the size of the company\n",
    "    sd = np.std(norm_vector, axis=0)\n",
    "    print(sd, ' is the normalized Standard Deviation for race ', race)"
   ]
  },
  {
   "cell_type": "markdown",
   "metadata": {},
   "source": [
    "Looks like there's some significant variations for the amount of Asians, Whites, and Black_or_African_American, but it quickly drops off from there. "
   ]
  },
  {
   "cell_type": "markdown",
   "metadata": {},
   "source": [
    "##### Do size of the company impact the diversity profile?"
   ]
  },
  {
   "cell_type": "markdown",
   "metadata": {},
   "source": [
    "For question 3 and 4 you may discuss further on how you construct a diversity profile for each companies.\n",
    "\n",
    "correlate gender race with size of company"
   ]
  },
  {
   "cell_type": "markdown",
   "metadata": {
    "collapsed": true
   },
   "source": [
    "For that, let's construct a baseline for the industry first"
   ]
  },
  {
   "cell_type": "code",
   "execution_count": null,
   "metadata": {
    "collapsed": true
   },
   "outputs": [],
   "source": []
  },
  {
   "cell_type": "code",
   "execution_count": 3,
   "metadata": {
    "collapsed": true
   },
   "outputs": [],
   "source": [
    "df = pd.DataFrame(diversity, columns = ['company', 'race', 'gender', 'job_category', 'count'])\n",
    "df.replace([\"NaN\", 'na'], np.nan, inplace = True)\n",
    "df= df.dropna()"
   ]
  },
  {
   "cell_type": "code",
   "execution_count": 99,
   "metadata": {
    "collapsed": false
   },
   "outputs": [
    {
     "ename": "ValueError",
     "evalue": "columns overlap but no suffix specified: Index(['count'], dtype='object')",
     "output_type": "error",
     "traceback": [
      "\u001b[1;31m---------------------------------------------------------------------------\u001b[0m",
      "\u001b[1;31mValueError\u001b[0m                                Traceback (most recent call last)",
      "\u001b[1;32m<ipython-input-99-8019a0fb6442>\u001b[0m in \u001b[0;36m<module>\u001b[1;34m()\u001b[0m\n\u001b[0;32m      1\u001b[0m \u001b[0mcount2\u001b[0m\u001b[1;33m=\u001b[0m\u001b[0mpd\u001b[0m\u001b[1;33m.\u001b[0m\u001b[0mto_numeric\u001b[0m\u001b[1;33m(\u001b[0m\u001b[0mdf\u001b[0m\u001b[1;33m[\u001b[0m\u001b[1;34m'count'\u001b[0m\u001b[1;33m]\u001b[0m\u001b[1;33m)\u001b[0m\u001b[1;33m\u001b[0m\u001b[0m\n\u001b[1;32m----> 2\u001b[1;33m \u001b[0mdf2\u001b[0m\u001b[1;33m=\u001b[0m\u001b[0mdf\u001b[0m\u001b[1;33m.\u001b[0m\u001b[0mjoin\u001b[0m\u001b[1;33m(\u001b[0m\u001b[0mcount2\u001b[0m\u001b[1;33m)\u001b[0m\u001b[1;33m\u001b[0m\u001b[0m\n\u001b[0m\u001b[0;32m      3\u001b[0m \u001b[0mdf2\u001b[0m\u001b[1;33m\u001b[0m\u001b[0m\n",
      "\u001b[1;32mC:\\ProgramData\\Anaconda3\\lib\\site-packages\\pandas\\core\\frame.py\u001b[0m in \u001b[0;36mjoin\u001b[1;34m(self, other, on, how, lsuffix, rsuffix, sort)\u001b[0m\n\u001b[0;32m   4667\u001b[0m         \u001b[1;31m# For SparseDataFrame's benefit\u001b[0m\u001b[1;33m\u001b[0m\u001b[1;33m\u001b[0m\u001b[0m\n\u001b[0;32m   4668\u001b[0m         return self._join_compat(other, on=on, how=how, lsuffix=lsuffix,\n\u001b[1;32m-> 4669\u001b[1;33m                                  rsuffix=rsuffix, sort=sort)\n\u001b[0m\u001b[0;32m   4670\u001b[0m \u001b[1;33m\u001b[0m\u001b[0m\n\u001b[0;32m   4671\u001b[0m     def _join_compat(self, other, on=None, how='left', lsuffix='', rsuffix='',\n",
      "\u001b[1;32mC:\\ProgramData\\Anaconda3\\lib\\site-packages\\pandas\\core\\frame.py\u001b[0m in \u001b[0;36m_join_compat\u001b[1;34m(self, other, on, how, lsuffix, rsuffix, sort)\u001b[0m\n\u001b[0;32m   4682\u001b[0m             return merge(self, other, left_on=on, how=how,\n\u001b[0;32m   4683\u001b[0m                          \u001b[0mleft_index\u001b[0m\u001b[1;33m=\u001b[0m\u001b[0mon\u001b[0m \u001b[1;32mis\u001b[0m \u001b[1;32mNone\u001b[0m\u001b[1;33m,\u001b[0m \u001b[0mright_index\u001b[0m\u001b[1;33m=\u001b[0m\u001b[1;32mTrue\u001b[0m\u001b[1;33m,\u001b[0m\u001b[1;33m\u001b[0m\u001b[0m\n\u001b[1;32m-> 4684\u001b[1;33m                          suffixes=(lsuffix, rsuffix), sort=sort)\n\u001b[0m\u001b[0;32m   4685\u001b[0m         \u001b[1;32melse\u001b[0m\u001b[1;33m:\u001b[0m\u001b[1;33m\u001b[0m\u001b[0m\n\u001b[0;32m   4686\u001b[0m             \u001b[1;32mif\u001b[0m \u001b[0mon\u001b[0m \u001b[1;32mis\u001b[0m \u001b[1;32mnot\u001b[0m \u001b[1;32mNone\u001b[0m\u001b[1;33m:\u001b[0m\u001b[1;33m\u001b[0m\u001b[0m\n",
      "\u001b[1;32mC:\\ProgramData\\Anaconda3\\lib\\site-packages\\pandas\\core\\reshape\\merge.py\u001b[0m in \u001b[0;36mmerge\u001b[1;34m(left, right, how, on, left_on, right_on, left_index, right_index, sort, suffixes, copy, indicator)\u001b[0m\n\u001b[0;32m     52\u001b[0m                          \u001b[0mright_index\u001b[0m\u001b[1;33m=\u001b[0m\u001b[0mright_index\u001b[0m\u001b[1;33m,\u001b[0m \u001b[0msort\u001b[0m\u001b[1;33m=\u001b[0m\u001b[0msort\u001b[0m\u001b[1;33m,\u001b[0m \u001b[0msuffixes\u001b[0m\u001b[1;33m=\u001b[0m\u001b[0msuffixes\u001b[0m\u001b[1;33m,\u001b[0m\u001b[1;33m\u001b[0m\u001b[0m\n\u001b[0;32m     53\u001b[0m                          copy=copy, indicator=indicator)\n\u001b[1;32m---> 54\u001b[1;33m     \u001b[1;32mreturn\u001b[0m \u001b[0mop\u001b[0m\u001b[1;33m.\u001b[0m\u001b[0mget_result\u001b[0m\u001b[1;33m(\u001b[0m\u001b[1;33m)\u001b[0m\u001b[1;33m\u001b[0m\u001b[0m\n\u001b[0m\u001b[0;32m     55\u001b[0m \u001b[1;33m\u001b[0m\u001b[0m\n\u001b[0;32m     56\u001b[0m \u001b[1;33m\u001b[0m\u001b[0m\n",
      "\u001b[1;32mC:\\ProgramData\\Anaconda3\\lib\\site-packages\\pandas\\core\\reshape\\merge.py\u001b[0m in \u001b[0;36mget_result\u001b[1;34m(self)\u001b[0m\n\u001b[0;32m    573\u001b[0m \u001b[1;33m\u001b[0m\u001b[0m\n\u001b[0;32m    574\u001b[0m         llabels, rlabels = items_overlap_with_suffix(ldata.items, lsuf,\n\u001b[1;32m--> 575\u001b[1;33m                                                      rdata.items, rsuf)\n\u001b[0m\u001b[0;32m    576\u001b[0m \u001b[1;33m\u001b[0m\u001b[0m\n\u001b[0;32m    577\u001b[0m         \u001b[0mlindexers\u001b[0m \u001b[1;33m=\u001b[0m \u001b[1;33m{\u001b[0m\u001b[1;36m1\u001b[0m\u001b[1;33m:\u001b[0m \u001b[0mleft_indexer\u001b[0m\u001b[1;33m}\u001b[0m \u001b[1;32mif\u001b[0m \u001b[0mleft_indexer\u001b[0m \u001b[1;32mis\u001b[0m \u001b[1;32mnot\u001b[0m \u001b[1;32mNone\u001b[0m \u001b[1;32melse\u001b[0m \u001b[1;33m{\u001b[0m\u001b[1;33m}\u001b[0m\u001b[1;33m\u001b[0m\u001b[0m\n",
      "\u001b[1;32mC:\\ProgramData\\Anaconda3\\lib\\site-packages\\pandas\\core\\internals.py\u001b[0m in \u001b[0;36mitems_overlap_with_suffix\u001b[1;34m(left, lsuffix, right, rsuffix)\u001b[0m\n\u001b[0;32m   4699\u001b[0m         \u001b[1;32mif\u001b[0m \u001b[1;32mnot\u001b[0m \u001b[0mlsuffix\u001b[0m \u001b[1;32mand\u001b[0m \u001b[1;32mnot\u001b[0m \u001b[0mrsuffix\u001b[0m\u001b[1;33m:\u001b[0m\u001b[1;33m\u001b[0m\u001b[0m\n\u001b[0;32m   4700\u001b[0m             raise ValueError('columns overlap but no suffix specified: %s' %\n\u001b[1;32m-> 4701\u001b[1;33m                              to_rename)\n\u001b[0m\u001b[0;32m   4702\u001b[0m \u001b[1;33m\u001b[0m\u001b[0m\n\u001b[0;32m   4703\u001b[0m         \u001b[1;32mdef\u001b[0m \u001b[0mlrenamer\u001b[0m\u001b[1;33m(\u001b[0m\u001b[0mx\u001b[0m\u001b[1;33m)\u001b[0m\u001b[1;33m:\u001b[0m\u001b[1;33m\u001b[0m\u001b[0m\n",
      "\u001b[1;31mValueError\u001b[0m: columns overlap but no suffix specified: Index(['count'], dtype='object')"
     ]
    }
   ],
   "source": [
    "count2=pd.to_numeric(df['count'])\n",
    "df2=df.join(count2)\n",
    "df2"
   ]
  },
  {
   "cell_type": "code",
   "execution_count": null,
   "metadata": {
    "collapsed": true
   },
   "outputs": [],
   "source": []
  },
  {
   "cell_type": "code",
   "execution_count": 103,
   "metadata": {
    "collapsed": false
   },
   "outputs": [
    {
     "ename": "ValueError",
     "evalue": "columns overlap but no suffix specified: Index(['count'], dtype='object')",
     "output_type": "error",
     "traceback": [
      "\u001b[1;31m---------------------------------------------------------------------------\u001b[0m",
      "\u001b[1;31mValueError\u001b[0m                                Traceback (most recent call last)",
      "\u001b[1;32m<ipython-input-103-f83826b54f80>\u001b[0m in \u001b[0;36m<module>\u001b[1;34m()\u001b[0m\n\u001b[0;32m      1\u001b[0m \u001b[0mcount2\u001b[0m\u001b[1;33m=\u001b[0m\u001b[0mpd\u001b[0m\u001b[1;33m.\u001b[0m\u001b[0mto_numeric\u001b[0m\u001b[1;33m(\u001b[0m\u001b[0mdf\u001b[0m\u001b[1;33m[\u001b[0m\u001b[1;34m'count'\u001b[0m\u001b[1;33m]\u001b[0m\u001b[1;33m)\u001b[0m\u001b[1;33m\u001b[0m\u001b[0m\n\u001b[1;32m----> 2\u001b[1;33m \u001b[0mdf2\u001b[0m\u001b[1;33m=\u001b[0m\u001b[0mdf\u001b[0m\u001b[1;33m.\u001b[0m\u001b[0mjoin\u001b[0m\u001b[1;33m(\u001b[0m\u001b[0mcount2\u001b[0m\u001b[1;33m)\u001b[0m\u001b[1;33m\u001b[0m\u001b[0m\n\u001b[0m\u001b[0;32m      3\u001b[0m \u001b[0msns\u001b[0m\u001b[1;33m.\u001b[0m\u001b[0mbarplot\u001b[0m\u001b[1;33m(\u001b[0m\u001b[0my\u001b[0m\u001b[1;33m=\u001b[0m\u001b[1;34m'count2'\u001b[0m\u001b[1;33m,\u001b[0m \u001b[0mx\u001b[0m\u001b[1;33m=\u001b[0m\u001b[1;34m'race'\u001b[0m\u001b[1;33m,\u001b[0m \u001b[0mdata\u001b[0m\u001b[1;33m=\u001b[0m\u001b[0mdf2\u001b[0m\u001b[1;33m)\u001b[0m\u001b[1;33m\u001b[0m\u001b[0m\n\u001b[0;32m      4\u001b[0m \u001b[0mplt\u001b[0m\u001b[1;33m.\u001b[0m\u001b[0mshow\u001b[0m\u001b[1;33m(\u001b[0m\u001b[1;33m)\u001b[0m\u001b[1;33m\u001b[0m\u001b[0m\n",
      "\u001b[1;32mC:\\ProgramData\\Anaconda3\\lib\\site-packages\\pandas\\core\\frame.py\u001b[0m in \u001b[0;36mjoin\u001b[1;34m(self, other, on, how, lsuffix, rsuffix, sort)\u001b[0m\n\u001b[0;32m   4667\u001b[0m         \u001b[1;31m# For SparseDataFrame's benefit\u001b[0m\u001b[1;33m\u001b[0m\u001b[1;33m\u001b[0m\u001b[0m\n\u001b[0;32m   4668\u001b[0m         return self._join_compat(other, on=on, how=how, lsuffix=lsuffix,\n\u001b[1;32m-> 4669\u001b[1;33m                                  rsuffix=rsuffix, sort=sort)\n\u001b[0m\u001b[0;32m   4670\u001b[0m \u001b[1;33m\u001b[0m\u001b[0m\n\u001b[0;32m   4671\u001b[0m     def _join_compat(self, other, on=None, how='left', lsuffix='', rsuffix='',\n",
      "\u001b[1;32mC:\\ProgramData\\Anaconda3\\lib\\site-packages\\pandas\\core\\frame.py\u001b[0m in \u001b[0;36m_join_compat\u001b[1;34m(self, other, on, how, lsuffix, rsuffix, sort)\u001b[0m\n\u001b[0;32m   4682\u001b[0m             return merge(self, other, left_on=on, how=how,\n\u001b[0;32m   4683\u001b[0m                          \u001b[0mleft_index\u001b[0m\u001b[1;33m=\u001b[0m\u001b[0mon\u001b[0m \u001b[1;32mis\u001b[0m \u001b[1;32mNone\u001b[0m\u001b[1;33m,\u001b[0m \u001b[0mright_index\u001b[0m\u001b[1;33m=\u001b[0m\u001b[1;32mTrue\u001b[0m\u001b[1;33m,\u001b[0m\u001b[1;33m\u001b[0m\u001b[0m\n\u001b[1;32m-> 4684\u001b[1;33m                          suffixes=(lsuffix, rsuffix), sort=sort)\n\u001b[0m\u001b[0;32m   4685\u001b[0m         \u001b[1;32melse\u001b[0m\u001b[1;33m:\u001b[0m\u001b[1;33m\u001b[0m\u001b[0m\n\u001b[0;32m   4686\u001b[0m             \u001b[1;32mif\u001b[0m \u001b[0mon\u001b[0m \u001b[1;32mis\u001b[0m \u001b[1;32mnot\u001b[0m \u001b[1;32mNone\u001b[0m\u001b[1;33m:\u001b[0m\u001b[1;33m\u001b[0m\u001b[0m\n",
      "\u001b[1;32mC:\\ProgramData\\Anaconda3\\lib\\site-packages\\pandas\\core\\reshape\\merge.py\u001b[0m in \u001b[0;36mmerge\u001b[1;34m(left, right, how, on, left_on, right_on, left_index, right_index, sort, suffixes, copy, indicator)\u001b[0m\n\u001b[0;32m     52\u001b[0m                          \u001b[0mright_index\u001b[0m\u001b[1;33m=\u001b[0m\u001b[0mright_index\u001b[0m\u001b[1;33m,\u001b[0m \u001b[0msort\u001b[0m\u001b[1;33m=\u001b[0m\u001b[0msort\u001b[0m\u001b[1;33m,\u001b[0m \u001b[0msuffixes\u001b[0m\u001b[1;33m=\u001b[0m\u001b[0msuffixes\u001b[0m\u001b[1;33m,\u001b[0m\u001b[1;33m\u001b[0m\u001b[0m\n\u001b[0;32m     53\u001b[0m                          copy=copy, indicator=indicator)\n\u001b[1;32m---> 54\u001b[1;33m     \u001b[1;32mreturn\u001b[0m \u001b[0mop\u001b[0m\u001b[1;33m.\u001b[0m\u001b[0mget_result\u001b[0m\u001b[1;33m(\u001b[0m\u001b[1;33m)\u001b[0m\u001b[1;33m\u001b[0m\u001b[0m\n\u001b[0m\u001b[0;32m     55\u001b[0m \u001b[1;33m\u001b[0m\u001b[0m\n\u001b[0;32m     56\u001b[0m \u001b[1;33m\u001b[0m\u001b[0m\n",
      "\u001b[1;32mC:\\ProgramData\\Anaconda3\\lib\\site-packages\\pandas\\core\\reshape\\merge.py\u001b[0m in \u001b[0;36mget_result\u001b[1;34m(self)\u001b[0m\n\u001b[0;32m    573\u001b[0m \u001b[1;33m\u001b[0m\u001b[0m\n\u001b[0;32m    574\u001b[0m         llabels, rlabels = items_overlap_with_suffix(ldata.items, lsuf,\n\u001b[1;32m--> 575\u001b[1;33m                                                      rdata.items, rsuf)\n\u001b[0m\u001b[0;32m    576\u001b[0m \u001b[1;33m\u001b[0m\u001b[0m\n\u001b[0;32m    577\u001b[0m         \u001b[0mlindexers\u001b[0m \u001b[1;33m=\u001b[0m \u001b[1;33m{\u001b[0m\u001b[1;36m1\u001b[0m\u001b[1;33m:\u001b[0m \u001b[0mleft_indexer\u001b[0m\u001b[1;33m}\u001b[0m \u001b[1;32mif\u001b[0m \u001b[0mleft_indexer\u001b[0m \u001b[1;32mis\u001b[0m \u001b[1;32mnot\u001b[0m \u001b[1;32mNone\u001b[0m \u001b[1;32melse\u001b[0m \u001b[1;33m{\u001b[0m\u001b[1;33m}\u001b[0m\u001b[1;33m\u001b[0m\u001b[0m\n",
      "\u001b[1;32mC:\\ProgramData\\Anaconda3\\lib\\site-packages\\pandas\\core\\internals.py\u001b[0m in \u001b[0;36mitems_overlap_with_suffix\u001b[1;34m(left, lsuffix, right, rsuffix)\u001b[0m\n\u001b[0;32m   4699\u001b[0m         \u001b[1;32mif\u001b[0m \u001b[1;32mnot\u001b[0m \u001b[0mlsuffix\u001b[0m \u001b[1;32mand\u001b[0m \u001b[1;32mnot\u001b[0m \u001b[0mrsuffix\u001b[0m\u001b[1;33m:\u001b[0m\u001b[1;33m\u001b[0m\u001b[0m\n\u001b[0;32m   4700\u001b[0m             raise ValueError('columns overlap but no suffix specified: %s' %\n\u001b[1;32m-> 4701\u001b[1;33m                              to_rename)\n\u001b[0m\u001b[0;32m   4702\u001b[0m \u001b[1;33m\u001b[0m\u001b[0m\n\u001b[0;32m   4703\u001b[0m         \u001b[1;32mdef\u001b[0m \u001b[0mlrenamer\u001b[0m\u001b[1;33m(\u001b[0m\u001b[0mx\u001b[0m\u001b[1;33m)\u001b[0m\u001b[1;33m:\u001b[0m\u001b[1;33m\u001b[0m\u001b[0m\n",
      "\u001b[1;31mValueError\u001b[0m: columns overlap but no suffix specified: Index(['count'], dtype='object')"
     ]
    }
   ],
   "source": [
    "sns.barplot(y='count2', x='race', data=df2)\n",
    "plt.show()"
   ]
  },
  {
   "cell_type": "code",
   "execution_count": null,
   "metadata": {
    "collapsed": true
   },
   "outputs": [],
   "source": []
  },
  {
   "cell_type": "code",
   "execution_count": 87,
   "metadata": {
    "collapsed": false
   },
   "outputs": [
    {
     "data": {
      "text/plain": [
       "pandas.core.series.Series"
      ]
     },
     "execution_count": 87,
     "metadata": {},
     "output_type": "execute_result"
    }
   ],
   "source": [
    "count2=pd.to_numeric(df['count'])\n",
    "type(count2)"
   ]
  },
  {
   "cell_type": "code",
   "execution_count": 92,
   "metadata": {
    "collapsed": false
   },
   "outputs": [
    {
     "data": {
      "text/html": [
       "<div>\n",
       "<style>\n",
       "    .dataframe thead tr:only-child th {\n",
       "        text-align: right;\n",
       "    }\n",
       "\n",
       "    .dataframe thead th {\n",
       "        text-align: left;\n",
       "    }\n",
       "\n",
       "    .dataframe tbody tr th {\n",
       "        vertical-align: top;\n",
       "    }\n",
       "</style>\n",
       "<table border=\"1\" class=\"dataframe\">\n",
       "  <thead>\n",
       "    <tr style=\"text-align: right;\">\n",
       "      <th></th>\n",
       "      <th>value</th>\n",
       "    </tr>\n",
       "    <tr>\n",
       "      <th>race</th>\n",
       "      <th></th>\n",
       "    </tr>\n",
       "  </thead>\n",
       "  <tbody>\n",
       "    <tr>\n",
       "      <th>American_Indian_Alaskan_Native</th>\n",
       "      <td>0010000000100000100001033020000086024000000065...</td>\n",
       "    </tr>\n",
       "    <tr>\n",
       "      <th>Asian</th>\n",
       "      <td>0523003000031162500700003915310673011580000112...</td>\n",
       "    </tr>\n",
       "    <tr>\n",
       "      <th>Black_or_African_American</th>\n",
       "      <td>0020000000200200100003026250263000080740918055...</td>\n",
       "    </tr>\n",
       "    <tr>\n",
       "      <th>Latino</th>\n",
       "      <td>0170000000801500500001135175033800001701410506...</td>\n",
       "    </tr>\n",
       "    <tr>\n",
       "      <th>Native_Hawaiian_or_Pacific_Islander</th>\n",
       "      <td>0000000000001000000001159003000018190430000000...</td>\n",
       "    </tr>\n",
       "    <tr>\n",
       "      <th>Two_or_more_races</th>\n",
       "      <td>0040000000403200500001006250105000046280713057...</td>\n",
       "    </tr>\n",
       "    <tr>\n",
       "      <th>White</th>\n",
       "      <td>9306100200001027183700220000845611971325074296...</td>\n",
       "    </tr>\n",
       "  </tbody>\n",
       "</table>\n",
       "</div>"
      ],
      "text/plain": [
       "                                                                                 value\n",
       "race                                                                                  \n",
       "American_Indian_Alaskan_Native       0010000000100000100001033020000086024000000065...\n",
       "Asian                                0523003000031162500700003915310673011580000112...\n",
       "Black_or_African_American            0020000000200200100003026250263000080740918055...\n",
       "Latino                               0170000000801500500001135175033800001701410506...\n",
       "Native_Hawaiian_or_Pacific_Islander  0000000000001000000001159003000018190430000000...\n",
       "Two_or_more_races                    0040000000403200500001006250105000046280713057...\n",
       "White                                9306100200001027183700220000845611971325074296..."
      ]
     },
     "execution_count": 92,
     "metadata": {},
     "output_type": "execute_result"
    }
   ],
   "source": [
    "pd.pivot_table(df2, index=['race'], values='value', aggfunc=np.sum)"
   ]
  },
  {
   "cell_type": "code",
   "execution_count": 91,
   "metadata": {
    "collapsed": true
   },
   "outputs": [],
   "source": [
    "race2= pd.get_dummies(df['race'], prefix='race')\n",
    "gender2= pd.get_dummies(df['gender'], prefix='gender')\n",
    "company2= pd.get_dummies(df['company'], prefix='company')\n",
    "category=pd.get_dummies(df['job_category'], prefix='job_category')\n",
    "count2=pd.to_numeric(df['count'])\n"
   ]
  },
  {
   "cell_type": "code",
   "execution_count": 102,
   "metadata": {
    "collapsed": false
   },
   "outputs": [
    {
     "data": {
      "text/plain": [
       "['race2', 'gender2', 'company2', 'category', 'count2']"
      ]
     },
     "execution_count": 102,
     "metadata": {},
     "output_type": "execute_result"
    }
   ],
   "source": [
    "new_df=['race2','gender2','company2','category','count2']\n",
    "new_df"
   ]
  },
  {
   "cell_type": "code",
   "execution_count": 101,
   "metadata": {
    "collapsed": false
   },
   "outputs": [
    {
     "ename": "SyntaxError",
     "evalue": "invalid syntax (<ipython-input-101-1078fd51419e>, line 1)",
     "output_type": "error",
     "traceback": [
      "\u001b[1;36m  File \u001b[1;32m\"<ipython-input-101-1078fd51419e>\"\u001b[1;36m, line \u001b[1;32m1\u001b[0m\n\u001b[1;33m    logit = sm.Logit(diversity3['count2'], diversity3['race2','gender2,'company2','category'])\u001b[0m\n\u001b[1;37m                                                                               ^\u001b[0m\n\u001b[1;31mSyntaxError\u001b[0m\u001b[1;31m:\u001b[0m invalid syntax\n"
     ]
    }
   ],
   "source": [
    "logit = sm.Logit(diversity3['count2'], diversity3['race2','gender2,'company2','category'])\n",
    "\n",
    "result = logit.fit()\n"
   ]
  },
  {
   "cell_type": "code",
   "execution_count": null,
   "metadata": {
    "collapsed": true
   },
   "outputs": [],
   "source": []
  },
  {
   "cell_type": "code",
   "execution_count": null,
   "metadata": {
    "collapsed": true
   },
   "outputs": [],
   "source": []
  },
  {
   "cell_type": "code",
   "execution_count": null,
   "metadata": {
    "collapsed": true
   },
   "outputs": [],
   "source": []
  },
  {
   "cell_type": "code",
   "execution_count": null,
   "metadata": {
    "collapsed": true
   },
   "outputs": [],
   "source": []
  }
 ],
 "metadata": {
  "anaconda-cloud": {},
  "kernelspec": {
   "display_name": "Python 3",
   "language": "python",
   "name": "python3"
  },
  "language_info": {
   "codemirror_mode": {
    "name": "ipython",
    "version": 3
   },
   "file_extension": ".py",
   "mimetype": "text/x-python",
   "name": "python",
   "nbconvert_exporter": "python",
   "pygments_lexer": "ipython3",
   "version": "3.6.3"
  }
 },
 "nbformat": 4,
 "nbformat_minor": 2
}
