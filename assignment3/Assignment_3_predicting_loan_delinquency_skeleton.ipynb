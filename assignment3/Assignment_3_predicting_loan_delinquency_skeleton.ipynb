{
 "cells": [
  {
   "cell_type": "markdown",
   "metadata": {},
   "source": [
    "## Predicting Probability of Loan Delinquency\n",
    "\n",
    "#### In this assignment, we will explore the historical loan data from [lending club](https://www.kaggle.com/wendykan/lending-club-loan-data/data), and build a very short machine learning pipeline to predict on likelihood of loan delinquency. \n",
    "\n",
    "#### We will start out with inspecting and describing the data, then prepare the dataset for a K-Nearest Neighbor algorithm, and evaluate the performance of the algorithm. This exercise walks you through _most_ steps of a machine learning project with much simplicity and focus on data manipulation rather than algorithm training. You are encouraged to check out the [sklearn library](http://scikit-learn.org/stable/index.html) and the recommended reading materials this week to learn more about ML!\n",
    "\n",
    "#### There are 17 questions in total. Each question worths 5 points. Proper documentation and readability of your code will be 15 points."
   ]
  },
  {
   "cell_type": "code",
   "execution_count": 32,
   "metadata": {
    "collapsed": true
   },
   "outputs": [],
   "source": [
    "import pandas as pd\n",
    "import numpy as np\n",
    "pd.options.display.max_columns = 999\n",
    "pd.set_option('display.float_format', lambda x: '%.3f' % x)"
   ]
  },
  {
   "cell_type": "markdown",
   "metadata": {},
   "source": [
    "### Inspect the data "
   ]
  },
  {
   "cell_type": "code",
   "execution_count": 33,
   "metadata": {
    "collapsed": false
   },
   "outputs": [
    {
     "name": "stderr",
     "output_type": "stream",
     "text": [
      "/usr/local/lib/python3.6/site-packages/IPython/core/interactiveshell.py:2728: DtypeWarning: Columns (19,55) have mixed types. Specify dtype option on import or set low_memory=False.\n",
      "  interactivity=interactivity, compiler=compiler, result=result)\n"
     ]
    }
   ],
   "source": [
    "loan = pd.read_csv('loan.csv')\n",
    "\n"
   ]
  },
  {
   "cell_type": "code",
   "execution_count": 34,
   "metadata": {
    "collapsed": false
   },
   "outputs": [
    {
     "name": "stdout",
     "output_type": "stream",
     "text": [
      "(887379, 74)\n"
     ]
    }
   ],
   "source": [
    "print(loan.shape)"
   ]
  },
  {
   "cell_type": "code",
   "execution_count": 35,
   "metadata": {
    "collapsed": false
   },
   "outputs": [
    {
     "name": "stdout",
     "output_type": "stream",
     "text": [
      "['id', 'member_id', 'loan_amnt', 'funded_amnt', 'funded_amnt_inv', 'term', 'int_rate', 'installment', 'grade', 'sub_grade', 'emp_title', 'emp_length', 'home_ownership', 'annual_inc', 'verification_status', 'issue_d', 'loan_status', 'pymnt_plan', 'url', 'desc', 'purpose', 'title', 'zip_code', 'addr_state', 'dti', 'delinq_2yrs', 'earliest_cr_line', 'inq_last_6mths', 'mths_since_last_delinq', 'mths_since_last_record', 'open_acc', 'pub_rec', 'revol_bal', 'revol_util', 'total_acc', 'initial_list_status', 'out_prncp', 'out_prncp_inv', 'total_pymnt', 'total_pymnt_inv', 'total_rec_prncp', 'total_rec_int', 'total_rec_late_fee', 'recoveries', 'collection_recovery_fee', 'last_pymnt_d', 'last_pymnt_amnt', 'next_pymnt_d', 'last_credit_pull_d', 'collections_12_mths_ex_med', 'mths_since_last_major_derog', 'policy_code', 'application_type', 'annual_inc_joint', 'dti_joint', 'verification_status_joint', 'acc_now_delinq', 'tot_coll_amt', 'tot_cur_bal', 'open_acc_6m', 'open_il_6m', 'open_il_12m', 'open_il_24m', 'mths_since_rcnt_il', 'total_bal_il', 'il_util', 'open_rv_12m', 'open_rv_24m', 'max_bal_bc', 'all_util', 'total_rev_hi_lim', 'inq_fi', 'total_cu_tl', 'inq_last_12m']\n"
     ]
    }
   ],
   "source": [
    "print(list(loan))"
   ]
  },
  {
   "cell_type": "code",
   "execution_count": 36,
   "metadata": {
    "collapsed": false
   },
   "outputs": [
    {
     "name": "stdout",
     "output_type": "stream",
     "text": [
      "0    1296599\n",
      "1    1314167\n",
      "2    1313524\n",
      "3    1277178\n",
      "4    1311748\n",
      "Name: member_id, dtype: int64\n",
      "0    1077501\n",
      "1    1077430\n",
      "2    1077175\n",
      "3    1076863\n",
      "4    1075358\n",
      "Name: id, dtype: int64\n",
      "887379\n"
     ]
    }
   ],
   "source": [
    "print(loan['member_id'][0:5])\n",
    "print(loan['id'][0:5])\n",
    "\n",
    "s = set()\n",
    "for i in loan['member_id']:\n",
    "    s.add(i)\n",
    "\n",
    "print(len(s))"
   ]
  },
  {
   "cell_type": "code",
   "execution_count": 37,
   "metadata": {
    "collapsed": false
   },
   "outputs": [
    {
     "name": "stdout",
     "output_type": "stream",
     "text": [
      "887379\n",
      "73544841 70473\n"
     ]
    }
   ],
   "source": [
    "u_mid = loan.member_id.unique()\n",
    "print(len(u_mid))\n",
    "print(max(u_mid), min(u_mid))"
   ]
  },
  {
   "cell_type": "code",
   "execution_count": 38,
   "metadata": {
    "collapsed": false,
    "scrolled": true
   },
   "outputs": [
    {
     "name": "stdout",
     "output_type": "stream",
     "text": [
      "887379\n",
      "68617057 54734\n"
     ]
    }
   ],
   "source": [
    "uid = loan.id.unique()\n",
    "print(len(uid))\n",
    "print(max(uid), min(uid))"
   ]
  },
  {
   "cell_type": "code",
   "execution_count": 39,
   "metadata": {
    "collapsed": false
   },
   "outputs": [
    {
     "name": "stdout",
     "output_type": "stream",
     "text": [
      "Sep-2015 Apr-2008\n"
     ]
    }
   ],
   "source": [
    "issue_dates = loan['issue_d']\n",
    "print(max(issue_dates), min(issue_dates))"
   ]
  },
  {
   "cell_type": "markdown",
   "metadata": {},
   "source": [
    "#### Question 1: Browse the data dictionary and use pandas functions to browse the data and answer the following questions with a paragraph. You don't need to show your work :\n",
    "    - How many columns are there? What general categories of information do they provide? \n",
    "    - What’s the time frame of the dataset based on the issue date of the loans? (You will have to parse the date) \n",
    "    - What’s the difference between “Id” and “Member Id”? \n",
    "    - How many unique borrowers and loans are in the dataset?"
   ]
  },
  {
   "cell_type": "markdown",
   "metadata": {},
   "source": [
    "#### write a summary paragraph here: "
   ]
  },
  {
   "cell_type": "markdown",
   "metadata": {
    "collapsed": true
   },
   "source": [
    "The \"Loan.csv\" file has 74 columns. The general categories are loan amount, location of person, past loan performance, where they got the loan at.  \n",
    "The timeframe of the data set is between April 2008 to September 2015.\n",
    "The number of unique Id and Member Id are the same. The maximum integer value of member id is higher than id and the minimun value is lower than id. \n",
    "There are 887379 borrowers and 887379 loans. "
   ]
  },
  {
   "cell_type": "markdown",
   "metadata": {},
   "source": [
    "### Descriptive statistics - About the clients"
   ]
  },
  {
   "cell_type": "code",
   "execution_count": 40,
   "metadata": {
    "collapsed": false
   },
   "outputs": [
    {
     "name": "stdout",
     "output_type": "stream",
     "text": [
      "75027.5877608\n"
     ]
    }
   ],
   "source": [
    "print(loan['annual_inc'].mean())"
   ]
  },
  {
   "cell_type": "markdown",
   "metadata": {},
   "source": [
    "####  What's the average annual individual income of the borrowers?"
   ]
  },
  {
   "cell_type": "code",
   "execution_count": 41,
   "metadata": {
    "collapsed": false
   },
   "outputs": [
    {
     "data": {
      "text/plain": [
       "75027.5877608"
      ]
     },
     "execution_count": 41,
     "metadata": {},
     "output_type": "execute_result"
    }
   ],
   "source": [
    "75027.5877608"
   ]
  },
  {
   "cell_type": "markdown",
   "metadata": {},
   "source": [
    "#### What are the top ten purposes people borrow money for? "
   ]
  },
  {
   "cell_type": "code",
   "execution_count": 42,
   "metadata": {
    "collapsed": false
   },
   "outputs": [
    {
     "name": "stdout",
     "output_type": "stream",
     "text": [
      "1 ('educational', 423)\n",
      "2 ('renewable_energy', 575)\n",
      "3 ('wedding', 2347)\n",
      "4 ('house', 3707)\n",
      "5 ('vacation', 4736)\n",
      "6 ('moving', 5414)\n",
      "7 ('medical', 8540)\n",
      "8 ('car', 8863)\n",
      "9 ('small_business', 10377)\n",
      "10 ('major_purchase', 17277)\n"
     ]
    }
   ],
   "source": [
    "mapping = {}\n",
    "for purpose in loan['purpose']:\n",
    "    if purpose in mapping:\n",
    "        mapping[purpose] += 1\n",
    "    else:\n",
    "        mapping[purpose] = 1\n",
    "\n",
    "import operator\n",
    "sorted_x = sorted(mapping.items(), key=operator.itemgetter(1))\n",
    "for idx, e in enumerate(sorted_x):\n",
    "    if idx == 10:\n",
    "        break\n",
    "    print(idx+1, e)"
   ]
  },
  {
   "cell_type": "markdown",
   "metadata": {},
   "source": [
    "#### Which 10 states has the most number of loans? Sort by descending order"
   ]
  },
  {
   "cell_type": "code",
   "execution_count": 43,
   "metadata": {
    "collapsed": false
   },
   "outputs": [
    {
     "name": "stdout",
     "output_type": "stream",
     "text": [
      "1 ('CA', 129517)\n",
      "2 ('NY', 74086)\n",
      "3 ('TX', 71138)\n",
      "4 ('FL', 60935)\n",
      "5 ('IL', 35476)\n",
      "6 ('NJ', 33256)\n",
      "7 ('PA', 31393)\n",
      "8 ('OH', 29631)\n",
      "9 ('GA', 29085)\n",
      "10 ('VA', 26255)\n"
     ]
    }
   ],
   "source": [
    "mapping = {}\n",
    "for s in loan['addr_state']:\n",
    "    if s in mapping:\n",
    "        mapping[s] += 1\n",
    "    else:\n",
    "        mapping[s] = 1\n",
    "\n",
    "sorted_x = sorted(mapping.items(), key=operator.itemgetter(1), reverse=True)\n",
    "for idx, e in enumerate(sorted_x):\n",
    "    if idx == 10:\n",
    "        break\n",
    "    print(idx+1, e) "
   ]
  },
  {
   "cell_type": "markdown",
   "metadata": {},
   "source": [
    "### Descriptive statistics - About the loans"
   ]
  },
  {
   "cell_type": "markdown",
   "metadata": {},
   "source": [
    "#### How many loans were issued per year?"
   ]
  },
  {
   "cell_type": "code",
   "execution_count": 44,
   "metadata": {
    "collapsed": false
   },
   "outputs": [
    {
     "name": "stdout",
     "output_type": "stream",
     "text": [
      "2011 21721\n",
      "2010 12537\n",
      "2009 5281\n",
      "2008 2393\n",
      "2007 603\n",
      "2013 134755\n",
      "2012 53367\n",
      "2014 235628\n",
      "2015 421094\n"
     ]
    }
   ],
   "source": [
    "mapping = {}\n",
    "\n",
    "issue_d = loan['issue_d']\n",
    "for d in issue_d:\n",
    "    year = d.split('-')[1]\n",
    "    if year in mapping:\n",
    "        mapping[year] += 1\n",
    "    else:\n",
    "        mapping[year] = 1\n",
    "\n",
    "for k in mapping:\n",
    "    print(k, mapping[k])"
   ]
  },
  {
   "cell_type": "markdown",
   "metadata": {},
   "source": [
    "#### What’s the average interest rate for loans in each grade and within that for each sub_grade? "
   ]
  },
  {
   "cell_type": "code",
   "execution_count": 51,
   "metadata": {
    "collapsed": false
   },
   "outputs": [
    {
     "name": "stdout",
     "output_type": "stream",
     "text": [
      "['B' 'C' 'A' 'E' 'F' 'D' 'G']\n",
      "['B2' 'C4' 'C5' 'C1' 'B5' 'A4' 'E1' 'F2' 'C3' 'B1' 'D1' 'A1' 'B3' 'B4' 'C2'\n",
      " 'D2' 'A3' 'A5' 'D5' 'A2' 'E4' 'D3' 'D4' 'F3' 'E3' 'F4' 'F1' 'E5' 'G4' 'E2'\n",
      " 'G3' 'G2' 'G1' 'F5' 'G5']\n",
      "{'B': {'B2': [], 'B5': [], 'B1': [], 'B3': [], 'B4': []}, 'C': {'C4': [], 'C5': [], 'C1': [], 'C3': [], 'C2': []}, 'A': {'A4': [], 'A1': [], 'A3': [], 'A5': [], 'A2': []}, 'E': {'E1': [], 'E4': [], 'E3': [], 'E5': [], 'E2': []}, 'F': {'F2': [], 'F3': [], 'F4': [], 'F1': [], 'F5': []}, 'D': {'D1': [], 'D2': [], 'D5': [], 'D3': [], 'D4': []}, 'G': {'G4': [], 'G3': [], 'G2': [], 'G1': [], 'G5': []}}\n"
     ]
    }
   ],
   "source": [
    "grades = loan.grade.unique()\n",
    "print(grades)\n",
    "subgrades = loan.sub_grade.unique()\n",
    "print(subgrades)\n",
    "\n",
    "mapping = {}\n",
    "for grade in grades:\n",
    "    mapping[grade] = {}\n",
    "    \n",
    "for subgrade in subgrades:\n",
    "    grade = subgrade[0]\n",
    "    mapping[grade][subgrade] = []\n",
    "\n",
    "print(mapping)"
   ]
  },
  {
   "cell_type": "code",
   "execution_count": 55,
   "metadata": {
    "collapsed": false
   },
   "outputs": [
    {
     "name": "stdout",
     "output_type": "stream",
     "text": [
      "B B2 9.99664336522\n",
      "B B5 12.2691690046\n",
      "B B1 8.94879124787\n",
      "B B3 10.9007918613\n",
      "B B4 11.7448662496\n",
      "B 10.8296181665\n",
      "\n",
      "\n",
      "\n",
      "\n",
      "C C4 14.598234644\n",
      "C C5 15.3181527936\n",
      "C C1 12.8921316051\n",
      "C C3 14.0159937003\n",
      "C C2 13.4235697603\n",
      "C 13.980098308\n",
      "\n",
      "\n",
      "\n",
      "\n",
      "A A4 7.52918131534\n",
      "A A1 5.71201850479\n",
      "A A3 7.14102016456\n",
      "A A5 8.2696195555\n",
      "A A2 6.42585901712\n",
      "A 7.2433115613\n",
      "\n",
      "\n",
      "\n",
      "\n",
      "E E1 18.8276696956\n",
      "E E4 20.780979188\n",
      "E E3 19.9682418282\n",
      "E E5 21.6807968668\n",
      "E E2 19.3739884733\n",
      "E 19.8973216887\n",
      "\n",
      "\n",
      "\n",
      "\n",
      "F F2 23.3167433234\n",
      "F F3 23.9705594406\n",
      "F F4 24.4894925198\n",
      "F F1 22.6062177889\n",
      "F F5 24.9989090208\n",
      "F 23.5827866007\n",
      "\n",
      "\n",
      "\n",
      "\n",
      "D D1 16.079182626\n",
      "D D2 16.8473925444\n",
      "D D5 18.4172051054\n",
      "D D3 17.3409072079\n",
      "D D4 17.9032471242\n",
      "D 17.1758144502\n",
      "\n",
      "\n",
      "\n",
      "\n",
      "G G4 25.622428356\n",
      "G G3 25.8429765545\n",
      "G G2 25.6756723891\n",
      "G G1 25.4576910743\n",
      "G G5 25.6934548611\n",
      "G 25.6267061396\n",
      "\n",
      "\n",
      "\n",
      "\n"
     ]
    }
   ],
   "source": [
    "int_rates = loan['int_rate']\n",
    "\n",
    "for idx, subgrade in enumerate(loan['sub_grade']):\n",
    "    int_rate = loan['int_rate'][idx]\n",
    "    grade = subgrade[0]\n",
    "    mapping[grade][subgrade].append(int_rate)\n",
    "\n",
    "for grade in mapping:\n",
    "    grade_avg_int_list = []\n",
    "    for sg in mapping[grade]:\n",
    "        grade_avg_int_list += mapping[grade][sg]\n",
    "        subgrade_avg_int = sum(mapping[grade][sg]) / float(len(mapping[grade][sg]))\n",
    "        print(grade, sg, subgrade_avg_int)\n",
    "        \n",
    "    grade_avg_int = sum(grade_avg_int_list) / float(len(grade_avg_int_list))\n",
    "    print(grade, grade_avg_int)\n",
    "    print(\"\\n\")\n",
    "    print(\"\\n\")"
   ]
  },
  {
   "cell_type": "markdown",
   "metadata": {},
   "source": [
    "#### What's the percentage breakdown of loan status? In particular we want to see the percentage of loans that were defaulted and fully paid."
   ]
  },
  {
   "cell_type": "code",
   "execution_count": 63,
   "metadata": {
    "collapsed": false
   },
   "outputs": [
    {
     "name": "stdout",
     "output_type": "stream",
     "text": [
      "Fully Paid 23.41%\n",
      "Charged Off 5.1%\n",
      "Current 67.82%\n",
      "Default 0.14%\n",
      "Late (31-120 days) 1.31%\n",
      "In Grace Period 0.7%\n",
      "Late (16-30 days) 0.27%\n",
      "Does not meet the credit policy. Status:Fully Paid 0.22%\n",
      "Does not meet the credit policy. Status:Charged Off 0.09%\n",
      "Issued 0.95%\n"
     ]
    }
   ],
   "source": [
    "mapping = {}\n",
    "status = loan['loan_status']\n",
    "total = float(len(status))\n",
    "for s in status:\n",
    "    if s in mapping:\n",
    "        mapping[s] += 1\n",
    "    else:\n",
    "        mapping[s] = 1\n",
    "\n",
    "for s in mapping:\n",
    "    print(s, str(round((mapping[s]/total * 100),2)) + \"%\")"
   ]
  },
  {
   "cell_type": "markdown",
   "metadata": {},
   "source": [
    "Fully Paid: 23.41%\n",
    "Defaulted: 0.14%"
   ]
  },
  {
   "cell_type": "markdown",
   "metadata": {},
   "source": [
    "#### How does default rate varies from year to year? Create one dataframe showing year vs default rate"
   ]
  },
  {
   "cell_type": "code",
   "execution_count": null,
   "metadata": {
    "collapsed": true
   },
   "outputs": [],
   "source": []
  },
  {
   "cell_type": "markdown",
   "metadata": {},
   "source": [
    "### Case Study"
   ]
  },
  {
   "cell_type": "markdown",
   "metadata": {},
   "source": [
    "#### You are considering approval of a loan of 100,000 dollars to a couple whose joint income is 200,000 dollars. You've verfied their information and now you are considering whether you want to approve this loan offer and what interest/term you would offer based on historical data. Write a short paragraph about how you would decide if you want to approve the loan or not based on available data on borrowers such as income, employment histories, and so on. You are encouraged to but not required to include numbers you obtained from analyzing historical data. You may also discuss other uncertainties you would like to consider to justify your decision. "
   ]
  },
  {
   "cell_type": "code",
   "execution_count": null,
   "metadata": {
    "collapsed": true
   },
   "outputs": [],
   "source": []
  },
  {
   "cell_type": "markdown",
   "metadata": {},
   "source": [
    "### Machine Learning"
   ]
  },
  {
   "cell_type": "markdown",
   "metadata": {},
   "source": [
    "#### Machine learning algorithms allow us to take in large quantity of information, identify patterns, and make data-driven decisions. Now we want to use it to aid our decision-making by predicting a client's likelihood of deliquency. \n",
    "\n",
    "#### Some lingos before we start:\n",
    "__features__: also your regressor, left-hand variables, variables that you use to predict your outcome \n",
    "\n",
    "__target variable__: also outcome variable, variable whose value you are trying to predict. \n",
    "\n"
   ]
  },
  {
   "cell_type": "markdown",
   "metadata": {},
   "source": [
    "### A machine learning pipeline generally consists of :\n",
    "\n",
    "__Data preprocessing__: clean the data by getting rid of outliers and idiosyncracies, standarizeding the data on the same scale, and creating target variable if it's not clearly defined by the problem.\n",
    "    "
   ]
  },
  {
   "cell_type": "markdown",
   "metadata": {},
   "source": [
    "#### Then an re-iterative process of:\n",
    "\n",
    "- __Feature generation and selection__: create predictors, ie features, to provide \"hints\" to the model and select the most informative features.\n",
    "\n",
    "\n",
    "- __Cross-validation__: divide the dataset into training and testing to obtain various performance metrics for the algorithms. Common partition scheme for this are 10-/5-fold cross validation. Read more [here](https://genome.tugraz.at/proclassify/help/pages/XV.html)\n",
    "\n",
    "\n",
    "- __Algorithm selection/Grid search__: find the best performing algorithm and the best hyper-parameters for the algorithm. this process can be time consuming, which is the so-called \"no free lunch thereom\", but generally the process is quite automated.\n",
    "\n",
    "\n",
    "\n",
    "- __Evaluation__: choose your loss function and metrics you want to maximize based on your real concerns and tradeoffs between false positive/false negative rate, training time/latency, and so on.\n",
    "\n",
    "\n",
    "- __Implementation__: In a real project, what algorithm you choose is also informed by accessiblity to the data in real time, the required data literacy from the users/complexity of your algorithm, transparency/ethics, costs of maintaince, and so on. You will also build in check-ins for abnormal prediction results."
   ]
  },
  {
   "cell_type": "markdown",
   "metadata": {},
   "source": [
    "#### In the following section you will get the data ready to feed it through a machine learning pipeline."
   ]
  },
  {
   "cell_type": "code",
   "execution_count": null,
   "metadata": {
    "collapsed": true
   },
   "outputs": [],
   "source": [
    "# read in your data frame here\n",
    "# warning: this will update the df global variable \n",
    "# and erase the columns you created previously for descriptive analysis! we want to start fresh here."
   ]
  },
  {
   "cell_type": "markdown",
   "metadata": {},
   "source": [
    "#### First of all, we will sub-set our dataframe. To keep the training time short we will only use data from 2015. Then let's divide it into two parts: historical records with known payment outcomes vs loans that are currently active or just issued. We will use the historical records (with known outcomes) to train, test, and evaluate our model. In reality, we will apply the trained model to predict on loans that are still active (outcomes unkown) . \n",
    "\n",
    "__Task__: Create one df that contains all loans in 2015 then split it into two dataframes: one with status that are either 'Current' or 'Issued' - call it _application_, and one that contains the rest -- call it _development_"
   ]
  },
  {
   "cell_type": "code",
   "execution_count": null,
   "metadata": {
    "collapsed": true
   },
   "outputs": [],
   "source": []
  },
  {
   "cell_type": "markdown",
   "metadata": {},
   "source": [
    "#### Now we'll work with our _development set_. \n",
    "\n",
    "#### We will adjust our outcome variable slightly -- instead of predicting on default rate which is quite low and can make accurate prediction more challenging, we will predict on \"delinquency\" which include loans that are charged off, late, and defaulted. In this way, we increase the number of outcomes and also simplifies the problem into a binary classification -- meaning we have two outcomes essentially: delinquent (1) / not delinquent (0)\n",
    "\n",
    "__Task:__ Create a new column called \"delinquency\" that consolidate the values from \"loan_status\" and is a binary variable that is 1 for delinquent loan and 0 otherwise. A delinquent loan is one whose status is any of the following:  charged off, late, in grace period, does not meet the credit policy - charged off, and default. Drop \"loan_status\" variable once you are done creating \"delinquency\" since it's no longer needed."
   ]
  },
  {
   "cell_type": "code",
   "execution_count": null,
   "metadata": {
    "collapsed": true
   },
   "outputs": [],
   "source": []
  },
  {
   "cell_type": "markdown",
   "metadata": {},
   "source": [
    "#### Feature generation: Once we have our target variable ready, we can move on to generate some features. The model does not learn if you do not provide it with informative hints! \n",
    "\n",
    "#### First, we will drop the id columns since they have no inherent value but for book keeping in this case. To simplify the task, we will also drop 'url', 'desc', 'title', 'zip_code', 'emp_title' columns because they contain text information that require more tedious cleaning and natural language processing. Finally, we will drop 'grade' because the information is contained in 'sub_grade'.\n",
    "\n",
    "__Task__: drop 'id', 'member_id', 'url', 'desc', 'title', 'zip_code', 'emp_title', 'grade' columns"
   ]
  },
  {
   "cell_type": "code",
   "execution_count": null,
   "metadata": {
    "collapsed": true
   },
   "outputs": [],
   "source": []
  },
  {
   "cell_type": "markdown",
   "metadata": {},
   "source": [
    "#### Browse through a few rows, you'll notice we have a mix of categorical, date, and numerical variables. Turn all categorical variables into dummy variables using pd.get_dummies().\n",
    "\n",
    "__Task__: Turn all categorical variables into dummy variables and join them back to the dataframe. Drop the original variable that we used to create the dummy variables. *Hint: There are 11 categorical variables*"
   ]
  },
  {
   "cell_type": "code",
   "execution_count": null,
   "metadata": {
    "collapsed": true
   },
   "outputs": [],
   "source": []
  },
  {
   "cell_type": "markdown",
   "metadata": {},
   "source": [
    "#### Now let's clean the date variables. Date variables genernally don't provide much information unless we extract something useful from them. For example from entry/exit dates of a project, we can infer the project duration. We can also extract the month/year from the dates especially when there's seasonality involved in the data. For instance, most people may fail to pay off their loands after 2008 financial crisis. In this data, we will extract the year from the dates.\n",
    "\n",
    "__Task__: \n",
    "        - 1) Make sure date columns contain datetime types \n",
    "        - 2) Create 'issued_yr' by extracting year from 'issued_d'\n",
    "        - 3) Create 'earliest_cr_line_yr' by extracting year from 'earliest_cr_line' \n",
    "        - 4) Create 'payment_period' by subtracting 'next_pymnt_d' - 'last_pymnt_d' (make sure you convert timestamp to integers: 54days => 54)\n",
    "        - 5) Create 'last_credit_pull_yr' by extracting year from 'last_credit_pull_d'\n",
    "        - 6) Drop all original date variables"
   ]
  },
  {
   "cell_type": "code",
   "execution_count": null,
   "metadata": {
    "collapsed": true
   },
   "outputs": [],
   "source": []
  },
  {
   "cell_type": "markdown",
   "metadata": {},
   "source": [
    "#### As a last step, we will fill in the missing values for each column. For numerical columns such as annual income, it's reasonable to assume the missing value will be around the median or mean income. For others such as payment, accounts opened, a missing value may simply indicate no activities happened and the value can be 0. You can also use interpolation (see more) to fill in the missing values. \n",
    "\n",
    "__Task__: Fill in missing values at your discretion. include justification of your methods in the comments. "
   ]
  },
  {
   "cell_type": "code",
   "execution_count": null,
   "metadata": {
    "collapsed": true
   },
   "outputs": [],
   "source": []
  },
  {
   "cell_type": "markdown",
   "metadata": {},
   "source": [
    "### Now let's feed the cleaned dataset through the pipeline! "
   ]
  },
  {
   "cell_type": "markdown",
   "metadata": {},
   "source": [
    "#### X represents all the predictors - features; y represents the target variable - whether the borrower has been delinquent on the loan\n",
    "\n",
    "__task__: divide development dataframe into two X and y. X will be a dataframe that contains all predictors. y will be a single column therefore a Series that contains the target variable 'delinquency'"
   ]
  },
  {
   "cell_type": "code",
   "execution_count": null,
   "metadata": {
    "collapsed": true
   },
   "outputs": [],
   "source": []
  },
  {
   "cell_type": "markdown",
   "metadata": {},
   "source": [
    "#### For this pipeline, we will experiment with K-Nearest Neighbor algorithm. Similar to what you've done in the case study by finding comparable examples to the case at hand and decide whether you want to lend money or not, this algorithm calculates the distances of each sample to the rest in the feature space, find the K-nearest neighbors to this particular sample, and assign the sample the most common class from its neighbors.\n",
    "\n",
    "#### There are several variation of the algorithm with some options more efficient than the others -- calculating distance between one and the rest of the samples can get computationally expensive really fast! Read more about KNN [here](https://kevinzakka.github.io/2016/07/13/k-nearest-neighbor/)\n",
    "\n"
   ]
  },
  {
   "cell_type": "markdown",
   "metadata": {},
   "source": [
    "__task__: Call pipeline function and store the returned scores in a variable. You do NOT need to modify the pipeline function"
   ]
  },
  {
   "cell_type": "code",
   "execution_count": null,
   "metadata": {
    "collapsed": true
   },
   "outputs": [],
   "source": [
    "from sklearn.preprocessing import StandardScaler\n",
    "from sklearn.pipeline import make_pipeline\n",
    "from sklearn.neighbors import KNeighborsClassifier as KNN\n",
    "from sklearn.model_selection import train_test_split, KFold\n",
    "from sklearn.model_selection import cross_val_score\n",
    "import time\n",
    "\n",
    "def pipeline(X, y):\n",
    "    \n",
    "    begin = time.time()\n",
    "    \n",
    "    # we will split the development set into training(80%) and testing (20%)\n",
    "    # 80-20 is a convention. 70-30 is also used. The choice really depends on the base rate of your outcome\n",
    "    X_train, X_test, y_train, y_test = train_test_split(\n",
    "            X, y, test_size=0.2, random_state=123, stratify=y)\n",
    "\n",
    "    # here we use the make_pipeline module to make a pipeline by using standardscaler to standarize\n",
    "    # the data and feed it through a K-nearest neighbor algorithm\n",
    "    pipe_kn = make_pipeline(StandardScaler(), \n",
    "                            KNN(n_neighbors=30))\n",
    "\n",
    "    # we will set up a 5-fold cross validation scheme to evaluate the model\n",
    "    scores = cross_val_score(estimator=pipe_kn,\n",
    "                             X=X_train,\n",
    "                             y=y_train,\n",
    "                             cv=5,\n",
    "                             scoring='accuracy',\n",
    "                             n_jobs=1)\n",
    "    end = time.time()\n",
    "\n",
    "    print(\"The model took %d seconds to train.\" % (end-begin))\n",
    "    \n",
    "    return scores"
   ]
  },
  {
   "cell_type": "code",
   "execution_count": null,
   "metadata": {
    "collapsed": true
   },
   "outputs": [],
   "source": [
    "scores = pipeline(X, y)"
   ]
  },
  {
   "cell_type": "markdown",
   "metadata": {},
   "source": [
    "#### The model has now been trained, let's see how it performs. There are many metrics you can use to evaluate an algorithm including accuracy, precision, recall, ROC_AUC, and so on. You can read more about it [here](https://machinelearningmastery.com/classification-accuracy-is-not-enough-more-performance-measures-you-can-use/). For simplicity, we will use accuracy -- of all the predictiions we made, how many times did we make a right decision. \n",
    "\n",
    "#### To establish comparison, we need a baseline of accuracy. Accuracy is often not a good enough metric by itself. Imagine if you have a very skewed outcome that you are trying to predict -- the outcome only happens 1% of the time. Your model will be very accurate if it keeps giving out negative predictions and would by default reach an accuracy of 1%. So we want our model to have a higher accuracy than the default rate of positive outcomes. \n",
    "\n",
    "__Task__: Identify the baseline accuracy. That is ( 1 - (# of delinquency) / (total # of predictions made))"
   ]
  },
  {
   "cell_type": "code",
   "execution_count": null,
   "metadata": {
    "collapsed": true
   },
   "outputs": [],
   "source": [
    "baseline = "
   ]
  },
  {
   "cell_type": "markdown",
   "metadata": {},
   "source": [
    "#### Now let's print out our accuracy obtained from cross-validation by running the following code"
   ]
  },
  {
   "cell_type": "code",
   "execution_count": null,
   "metadata": {
    "collapsed": true
   },
   "outputs": [],
   "source": [
    "print('CV accuracy scores: %s' % scores)\n",
    "print('CV accuracy: %.3f +/- %.3f' % (np.mean(scores), np.std(scores)))"
   ]
  },
  {
   "cell_type": "markdown",
   "metadata": {},
   "source": [
    "### As you can see the average accuracy is way above the baseline rate. Congrats!"
   ]
  },
  {
   "cell_type": "markdown",
   "metadata": {},
   "source": [
    "#### Bonus step: Now we are happy with the development algorithm, you can train the model on the entire development dataset and use it to predict on the application dataset where the actual outcomes are not yet oberved. Since it can take quite some time to train a model, you can \"pickle\" the model to avoid having to train the model each time you use it. See more about pickle library [here](https://docs.python.org/3/library/pickle.html)."
   ]
  },
  {
   "cell_type": "code",
   "execution_count": null,
   "metadata": {
    "collapsed": true
   },
   "outputs": [],
   "source": []
  }
 ],
 "metadata": {
  "anaconda-cloud": {},
  "coursera": {
   "course_slug": "python-data-analysis",
   "graded_item_id": "zAr06",
   "launcher_item_id": "KSSjT",
   "part_id": "SL3fU"
  },
  "kernelspec": {
   "display_name": "Python 3",
   "language": "python",
   "name": "python3"
  },
  "language_info": {
   "codemirror_mode": {
    "name": "ipython",
    "version": 3
   },
   "file_extension": ".py",
   "mimetype": "text/x-python",
   "name": "python",
   "nbconvert_exporter": "python",
   "pygments_lexer": "ipython3",
   "version": "3.6.3"
  }
 },
 "nbformat": 4,
 "nbformat_minor": 1
}
