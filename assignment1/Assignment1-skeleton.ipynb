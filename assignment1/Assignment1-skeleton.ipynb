{
 "cells": [
  {
   "cell_type": "code",
   "execution_count": 1,
   "metadata": {
    "collapsed": false
   },
   "outputs": [],
   "source": [
    "import csv\n",
    "import matplotlib.pyplot as plt\n",
    "import numpy as np"
   ]
  },
  {
   "cell_type": "markdown",
   "metadata": {},
   "source": [
    "#### You will be grade for documentation, see the [proper way to document a function here](https://github.com/numpy/numpy/blob/master/doc/HOWTO_DOCUMENT.rst.txt)"
   ]
  },
  {
   "cell_type": "markdown",
   "metadata": {},
   "source": [
    "#### To avoid using [\"magical numbers\"]( https://refactoring.guru/replace-magic-number-with-symbolic-constant) in the code, we will define constants that we can use to refer to specific columns. Look through the columns of the dataset and fill out the constants. "
   ]
  },
  {
   "cell_type": "code",
   "execution_count": 2,
   "metadata": {
    "collapsed": true
   },
   "outputs": [],
   "source": [
    "LICENSE_ID = 1 \n",
    "ACCOUNT_NUMBER = 2\n",
    "WARD = 10\n",
    "LICENSE_DESCRIPTION = 15\n",
    "BUSINESS_ACTIVITY = 17\n",
    "APPLICATION_TYPE = 19\n",
    "DATE_ISSUED = 27\n",
    "LICENSE_STATUS = 28"
   ]
  },
  {
   "cell_type": "markdown",
   "metadata": {},
   "source": [
    "<br>\n",
    "### Question 1:\n",
    "Write a piece of code that reads in the data to a list of lists. Discard any entries that are not issued in 2016."
   ]
  },
  {
   "cell_type": "code",
   "execution_count": 6,
   "metadata": {
    "collapsed": false
   },
   "outputs": [],
   "source": [
    "import csv\n",
    "\n",
    "def read_csv(filename):\n",
    "    '''\n",
    "    Read in csv file (filename) and create a list from it.\n",
    "    \n",
    "    Parameters\n",
    "    ----------\n",
    "    filename : str\n",
    "        path to the file \n",
    "        \n",
    "    Returns\n",
    "    -------\n",
    "    licenses: list\n",
    "        a list of licenses\n",
    "    '''\n",
    "    licenses = []\n",
    "\n",
    "    with open(filename) as csvfile:\n",
    "        bls = csv.reader(csvfile, delimiter=',')\n",
    "        for idx, row in enumerate(bls):\n",
    "            if idx == 0:\n",
    "                continue\n",
    "            if row[-7][-4:] != '2016':\n",
    "                continue\n",
    "            licenses.append(row)\n",
    "    \n",
    "    return licenses"
   ]
  },
  {
   "cell_type": "markdown",
   "metadata": {},
   "source": [
    "#### Answer 1: Call your function here and print out the length of the list"
   ]
  },
  {
   "cell_type": "code",
   "execution_count": 7,
   "metadata": {
    "collapsed": false
   },
   "outputs": [
    {
     "name": "stdout",
     "output_type": "stream",
     "text": [
      "33383\n"
     ]
    }
   ],
   "source": [
    "print(len(read_csv(\"Business_Licenses.csv\")))"
   ]
  },
  {
   "cell_type": "markdown",
   "metadata": {},
   "source": [
    "#### Test 1: If your answer is correct, you will be able to run the cell without assertion error. *DO NOT MODIFY THE FOLLOWING CODE*"
   ]
  },
  {
   "cell_type": "code",
   "execution_count": 8,
   "metadata": {
    "collapsed": false
   },
   "outputs": [],
   "source": [
    "licenses = read_csv(\"Business_Licenses.csv\")\n",
    "assert(len(licenses)==33383)\n",
    "assert(licenses[0] == ['1620668-20160516','2455262','295026','1','BUCCI BIG & TALL INC.','BUCCI BIG & TALL INC.',\\\n",
    " '558 W ROOSEVELT RD', 'CHICAGO','IL','60607','25','28','25-28','1','1010','Limited Business License',\\\n",
    " '911','Retail Sales of Clothing / Accessories / Shoes','1620668','RENEW', '', '03/15/2016', '05/18/2016',\n",
    " 'N','05/16/2016','05/15/2018','05/18/2016','08/30/2016','AAI', '', '', '41.867338566', '-87.641590057',\n",
    " '(41.86733856638269, -87.64159005699716)']) "
   ]
  },
  {
   "cell_type": "markdown",
   "metadata": {},
   "source": [
    "<br>\n",
    "### Question 2:\n",
    "How many new licenses are issued in 2016? How many licenses are renewed in 2016? Look for value under APPLICATION TYPE column."
   ]
  },
  {
   "cell_type": "code",
   "execution_count": 9,
   "metadata": {
    "collapsed": true
   },
   "outputs": [],
   "source": [
    "def get_type_licenses(licenses):\n",
    "    '''\n",
    "    Read in a list of license applications\n",
    "    \n",
    "    Parameters\n",
    "    ----------\n",
    "    licenses: list, a list of licenses\n",
    "        \n",
    "    Returns\n",
    "    -------\n",
    "    num_new_licenses: int\n",
    "        number of new license applications\n",
    "        \n",
    "    num_renew_licenses: int\n",
    "        number of license renewal applications\n",
    "    '''\n",
    "    num_new_licenses, num_renew_licenses = 0,0\n",
    "    for idx, license in enumerate(licenses):\n",
    "        ltype = license[19]\n",
    "        if ltype == 'RENEW':\n",
    "            num_renew_licenses+=1\n",
    "        elif ltype == 'ISSUE':\n",
    "            num_new_licenses+=1\n",
    "    return num_new_licenses, num_renew_licenses"
   ]
  },
  {
   "cell_type": "markdown",
   "metadata": {},
   "source": [
    "#### Answer 2: Call your function here and print out the answers"
   ]
  },
  {
   "cell_type": "code",
   "execution_count": 11,
   "metadata": {
    "collapsed": false
   },
   "outputs": [
    {
     "name": "stdout",
     "output_type": "stream",
     "text": [
      "(8051, 24760)\n"
     ]
    }
   ],
   "source": [
    "print(get_type_licenses(licenses))"
   ]
  },
  {
   "cell_type": "markdown",
   "metadata": {},
   "source": [
    "#### Test 2: If your answer is correct, you will be able to run the cell without assertion error. *DO NOT MODIFY THE FOLLOWING CODE*"
   ]
  },
  {
   "cell_type": "code",
   "execution_count": 12,
   "metadata": {
    "collapsed": false
   },
   "outputs": [
    {
     "ename": "AssertionError",
     "evalue": "",
     "output_type": "error",
     "traceback": [
      "\u001b[0;31m---------------------------------------------------------------------------\u001b[0m",
      "\u001b[0;31mAssertionError\u001b[0m                            Traceback (most recent call last)",
      "\u001b[0;32m<ipython-input-12-369dbe15563b>\u001b[0m in \u001b[0;36m<module>\u001b[0;34m()\u001b[0m\n\u001b[1;32m      1\u001b[0m \u001b[0mnum_new_licenses\u001b[0m\u001b[0;34m,\u001b[0m \u001b[0mnum_renew_licenses\u001b[0m \u001b[0;34m=\u001b[0m \u001b[0mget_type_licenses\u001b[0m\u001b[0;34m(\u001b[0m\u001b[0mlicenses\u001b[0m\u001b[0;34m)\u001b[0m\u001b[0;34m\u001b[0m\u001b[0m\n\u001b[0;32m----> 2\u001b[0;31m \u001b[0;32massert\u001b[0m\u001b[0;34m(\u001b[0m\u001b[0mnum_new_licenses\u001b[0m \u001b[0;34m==\u001b[0m \u001b[0;36m8052\u001b[0m\u001b[0;34m)\u001b[0m\u001b[0;34m\u001b[0m\u001b[0m\n\u001b[0m\u001b[1;32m      3\u001b[0m \u001b[0;32massert\u001b[0m\u001b[0;34m(\u001b[0m\u001b[0mnum_renew_licenses\u001b[0m \u001b[0;34m==\u001b[0m \u001b[0;36m24759\u001b[0m\u001b[0;34m)\u001b[0m\u001b[0;34m\u001b[0m\u001b[0m\n",
      "\u001b[0;31mAssertionError\u001b[0m: "
     ]
    }
   ],
   "source": [
    "num_new_licenses, num_renew_licenses = get_type_licenses(licenses)\n",
    "assert(num_new_licenses == 8052)\n",
    "assert(num_renew_licenses == 24759)"
   ]
  },
  {
   "cell_type": "markdown",
   "metadata": {},
   "source": [
    "<br>\n",
    "### Question 3: \n",
    "Which ward has the largest numbers of licenses issued in 2016? You can either keep counts by updating variables for counts or updating a dictionary"
   ]
  },
  {
   "cell_type": "code",
   "execution_count": 27,
   "metadata": {
    "collapsed": false
   },
   "outputs": [],
   "source": [
    "def get_largest_num_licenses_issued(licenses):\n",
    "    '''\n",
    "    Read in a list of license applications\n",
    "    \n",
    "    Return a a tuple of (ward number, largest number of licenses )\n",
    "    \n",
    "    Parameters\n",
    "    ----------\n",
    "    licenses: list, a list of licenses\n",
    "        \n",
    "    Returns\n",
    "    -------\n",
    "    ward: String\n",
    "        ward number with the largest number of newly issued licenses\n",
    "        \n",
    "    largest_num_license: int\n",
    "        number of license newly issued licenses\n",
    "    '''\n",
    "    ward = ''\n",
    "    largest_num_license = 0\n",
    "    data = {}\n",
    "    \n",
    "    for idx, license in enumerate(licenses):\n",
    "        if license[19] == 'ISSUE':\n",
    "            ward = license[10]\n",
    "            if ward not in data:\n",
    "                data[ward] = 1\n",
    "            else:\n",
    "                data[ward] += 1\n",
    "    s = [(k, data[k]) for k in sorted(data, key=data.get)]\n",
    "    for key, value in s:\n",
    "        ward = key\n",
    "        largest_num_license = value\n",
    "    return (ward, largest_num_license)"
   ]
  },
  {
   "cell_type": "markdown",
   "metadata": {},
   "source": [
    "#### Answer 3: Call your function here and print out the answers"
   ]
  },
  {
   "cell_type": "code",
   "execution_count": 28,
   "metadata": {
    "collapsed": false
   },
   "outputs": [
    {
     "name": "stdout",
     "output_type": "stream",
     "text": [
      "('42', 1184)\n"
     ]
    }
   ],
   "source": [
    "print(get_largest_num_licenses_issued(licenses))"
   ]
  },
  {
   "cell_type": "markdown",
   "metadata": {},
   "source": [
    "#### Test 3: If your answer is correct, you will be able to run the cell without assertion error.*DO NOT MODIFY THE FOLLOWING CODE*"
   ]
  },
  {
   "cell_type": "code",
   "execution_count": 29,
   "metadata": {
    "collapsed": false
   },
   "outputs": [],
   "source": [
    "largest_num_license = get_largest_num_licenses_issued(licenses)\n",
    "assert(largest_num_license == ('42', 1184))"
   ]
  },
  {
   "cell_type": "markdown",
   "metadata": {},
   "source": [
    "<br>\n",
    "### Question 4: \n",
    "What is the primary business activity in each ward in 2016? For this you will want to create dictionaries within a dictionary and sort the key value pairs. There are several ways to do this and you should have two layers of key-value maps that separates ward, and business activities. For example: ward ->  { business_name : count }.\n",
    "Exclude any application that misses both ward number and business activities. "
   ]
  },
  {
   "cell_type": "code",
   "execution_count": 40,
   "metadata": {
    "collapsed": false
   },
   "outputs": [],
   "source": [
    "def get_ward_business(licenses):\n",
    "    '''\n",
    "    Read in a list of license applications\n",
    "\n",
    "    return a dict of the largest business types and ward as key and the count as value\n",
    "    \n",
    "    Parameters\n",
    "    ----------\n",
    "    licenses: list, a list of licenses\n",
    "        \n",
    "    Returns\n",
    "    -------\n",
    "    primary_business_by_ward: dict\n",
    "        the largest business types and ward as key and the count as value\n",
    "    '''\n",
    "    data = {}\n",
    "    for idx, license in enumerate(licenses):\n",
    "        #if idx == 100:\n",
    "        #    break\n",
    "        ba = license[17]\n",
    "        ward = license[10]\n",
    "        if ward == '' or ba == '':\n",
    "            continue\n",
    "        if ward not in data:\n",
    "            data[ward] = {ba: 1}\n",
    "        else:\n",
    "            if ba not in data[ward]:\n",
    "                data[ward][ba] = 1\n",
    "            else:\n",
    "                data[ward][ba] += 1\n",
    "    primary_business_by_ward = {}\n",
    "    for j in data.keys():\n",
    "        #         print k\n",
    "        my_key = ()\n",
    "        \n",
    "        #        print(j)\n",
    "        #        print(data[j])\n",
    "        s = [(k, data[j][k]) for k in sorted(data[j], key=data[j].get)]\n",
    "\n",
    "        for key, value in s:\n",
    "            #print \"%s: %s\" % (key, value)\n",
    "            #             print\n",
    "            my_key = (key, value)\n",
    "            break\n",
    "        primary_business_by_ward[my_key] = j\n",
    "    \n",
    "    #     j = 0         \n",
    "    #     for k in primary_business_by_ward.keys():     \n",
    "    #         j += 1\n",
    "    #         #print k\n",
    "    #         print primary_business_by_ward[k]\n",
    "    #         if j > 10:\n",
    "    #             break\n",
    "\n",
    "    \n",
    "    return primary_business_by_ward.items()"
   ]
  },
  {
   "cell_type": "markdown",
   "metadata": {},
   "source": [
    "#### Answer 4: Call your function here and print out the answers"
   ]
  },
  {
   "cell_type": "code",
   "execution_count": 41,
   "metadata": {
    "collapsed": false
   },
   "outputs": [
    {
     "name": "stdout",
     "output_type": "stream",
     "text": [
      "dict_items([(('Skincare Services', 1), '18'), (('Preparation of Food, Coffee or Drinks | Retail Sales of Perishable Foods', 1), '15'), (('Residential Real Estate Developer (Home Occ)', 1), '42'), (('Catering of Liquor To Events', 1), '14'), (('Preparation of License, Certificate or Permit Applications For Compensation (Home Occ)', 1), '27'), (('Provide Waxing Services | Skincare Services', 1), '30'), (('Operation of a Fuel Filling Station', 1), '29'), (('Laundry Service - Drop Off Only', 1), '47'), (('Hair, Nail, and Skin Care Services | Hair Services | Nail Services | Skincare Services', 1), '44'), (('Photography Services', 1), '43'), (('Sale and Storage of Tires, 100 - 1000 | Motor Vehicle Repair - No Engine and No Body', 1), '6'), (('Training in The Arts of Combat and Self-Defense, Music, Art, Gymnastics, Dance for Children Under 18 Years of Age (Less Than 40% Children) | Yoga Instruction | Fitness Classes', 1), '45'), (('Storage or Use of Hazardous Materials (MFG)', 1), '9'), (('Retail Sales of General Merchandise | Nail Services | Hair Services', 1), '33'), (('Administrative Commercial Office | Residential Cleaning Services', 1), '26'), (('Online Sales (Home Occ)', 1), '49'), (('Retail Sales of General Merchandise and Non-Perishable Food | Retail Sales of Perishable Foods', 1), '36'), (('Retail Sales of General Merchandise and Non-Perishable Food | Retail Sales of Jewelry and Jewelry Repair', 1), '12'), (('Administrative Commercial Office | Financial Services', 1), '41'), (('Selling Cable, Satellite, or Internet Services | Retail Sales of New Electronics and Accessories | Payment Center | Retail Sales of Cell Phones and Accessories', 1), '1'), (('Computer Design/Development Consulting', 1), '28'), (('Dry Cleaning - Drop Off Location', 1), '20'), (('Medical Laboratories', 1), '40'), (('Selling Cable, Satellite, or Internet Services | Payment Center | Retail Sales of Cell Phones and Accessories | Retail Sales of General Merchandise and Non-Perishable Food | Retail Sales of New Electronics and Accessories', 1), '35'), (('Animal Exhibition (30 Days or More)', 1), '4'), (('Motor Vehicle Repair - No Engine and No Body | Sale and Storage of Tires, 100 - 1000', 1), '8'), (('Special Event Food', 1), '5'), (('Sales of Tickets (Airline, Etc)', 1), '39'), (('Motor Vehicle Repair - Engine and Transmission Work | Sale and Storage of Tires, 100 - 1000', 1), '17'), (('Preparation of Food and Dining on Premise With Seating | Sale of Food Prepared Onsite Without Dining Area', 1), '48'), (('Operation of a Fuel Filling Station | Car Wash', 1), '32'), (('Electronic Equipment Repair | Retail Sales of New Electronics and Accessories', 1), '24'), (('Sales / Rental / Lease of Motorized Vehicles | Motor Vehicle Repair - Engine and Transmission Work', 1), '21'), (('Miscellaneous Wholesale | Wholesale Food Sales', 1), '23'), (('Supervision of, and Care for, Children 2-6 Years of Age, During the Day Between 6am-9pm', 1), '34'), (('Machinery Manufacturing', 1), '38'), (('Heating, Ventilation and Air Conditioning Services - Residential | Home Repair Services (Home Occ)', 1), '22'), (('Organizer of Vendors That Sell for Retail at a Trade Show, Exhibition or Convention', 1), '31'), (('Dry Cleaning - Plant On Premises', 1), '7'), (('Retail Sales of General Merchandise and Non-Perishable Food | Electronic Equipment Repair', 1), '11'), (('Retail Sales of General Merchandise | Retail Sales of Jewelry and Jewelry Repair', 1), '2'), (('Other Home Occupations | Disc Jockey, Magician or Musician (Home Occ)', 1), '3'), (('Financial Services', 1), '13'), (('Retail Sales of General Merchandise and Non-Perishable Food | Operation of a Fuel Filling Station', 1), '16'), (('Retail Sales of Clothing / Accessories / Shoes | Retail Sales of General Merchandise', 1), '37')])\n"
     ]
    }
   ],
   "source": [
    "print(get_ward_business(licenses))"
   ]
  },
  {
   "cell_type": "code",
   "execution_count": 42,
   "metadata": {
    "collapsed": false
   },
   "outputs": [
    {
     "data": {
      "text/plain": [
       "dict_items([(('Skincare Services', 1), '18'), (('Preparation of Food, Coffee or Drinks | Retail Sales of Perishable Foods', 1), '15'), (('Residential Real Estate Developer (Home Occ)', 1), '42'), (('Catering of Liquor To Events', 1), '14'), (('Preparation of License, Certificate or Permit Applications For Compensation (Home Occ)', 1), '27'), (('Provide Waxing Services | Skincare Services', 1), '30'), (('Operation of a Fuel Filling Station', 1), '29'), (('Laundry Service - Drop Off Only', 1), '47'), (('Hair, Nail, and Skin Care Services | Hair Services | Nail Services | Skincare Services', 1), '44'), (('Photography Services', 1), '43'), (('Sale and Storage of Tires, 100 - 1000 | Motor Vehicle Repair - No Engine and No Body', 1), '6'), (('Training in The Arts of Combat and Self-Defense, Music, Art, Gymnastics, Dance for Children Under 18 Years of Age (Less Than 40% Children) | Yoga Instruction | Fitness Classes', 1), '45'), (('Storage or Use of Hazardous Materials (MFG)', 1), '9'), (('Retail Sales of General Merchandise | Nail Services | Hair Services', 1), '33'), (('Administrative Commercial Office | Residential Cleaning Services', 1), '26'), (('Online Sales (Home Occ)', 1), '49'), (('Retail Sales of General Merchandise and Non-Perishable Food | Retail Sales of Perishable Foods', 1), '36'), (('Retail Sales of General Merchandise and Non-Perishable Food | Retail Sales of Jewelry and Jewelry Repair', 1), '12'), (('Administrative Commercial Office | Financial Services', 1), '41'), (('Selling Cable, Satellite, or Internet Services | Retail Sales of New Electronics and Accessories | Payment Center | Retail Sales of Cell Phones and Accessories', 1), '1'), (('Computer Design/Development Consulting', 1), '28'), (('Dry Cleaning - Drop Off Location', 1), '20'), (('Medical Laboratories', 1), '40'), (('Selling Cable, Satellite, or Internet Services | Payment Center | Retail Sales of Cell Phones and Accessories | Retail Sales of General Merchandise and Non-Perishable Food | Retail Sales of New Electronics and Accessories', 1), '35'), (('Animal Exhibition (30 Days or More)', 1), '4'), (('Motor Vehicle Repair - No Engine and No Body | Sale and Storage of Tires, 100 - 1000', 1), '8'), (('Special Event Food', 1), '5'), (('Sales of Tickets (Airline, Etc)', 1), '39'), (('Motor Vehicle Repair - Engine and Transmission Work | Sale and Storage of Tires, 100 - 1000', 1), '17'), (('Preparation of Food and Dining on Premise With Seating | Sale of Food Prepared Onsite Without Dining Area', 1), '48'), (('Operation of a Fuel Filling Station | Car Wash', 1), '32'), (('Electronic Equipment Repair | Retail Sales of New Electronics and Accessories', 1), '24'), (('Sales / Rental / Lease of Motorized Vehicles | Motor Vehicle Repair - Engine and Transmission Work', 1), '21'), (('Miscellaneous Wholesale | Wholesale Food Sales', 1), '23'), (('Supervision of, and Care for, Children 2-6 Years of Age, During the Day Between 6am-9pm', 1), '34'), (('Machinery Manufacturing', 1), '38'), (('Heating, Ventilation and Air Conditioning Services - Residential | Home Repair Services (Home Occ)', 1), '22'), (('Organizer of Vendors That Sell for Retail at a Trade Show, Exhibition or Convention', 1), '31'), (('Dry Cleaning - Plant On Premises', 1), '7'), (('Retail Sales of General Merchandise and Non-Perishable Food | Electronic Equipment Repair', 1), '11'), (('Retail Sales of General Merchandise | Retail Sales of Jewelry and Jewelry Repair', 1), '2'), (('Other Home Occupations | Disc Jockey, Magician or Musician (Home Occ)', 1), '3'), (('Financial Services', 1), '13'), (('Retail Sales of General Merchandise and Non-Perishable Food | Operation of a Fuel Filling Station', 1), '16'), (('Retail Sales of Clothing / Accessories / Shoes | Retail Sales of General Merchandise', 1), '37')])"
      ]
     },
     "execution_count": 42,
     "metadata": {},
     "output_type": "execute_result"
    }
   ],
   "source": [
    "get_ward_business(licenses)"
   ]
  },
  {
   "cell_type": "markdown",
   "metadata": {},
   "source": [
    "#### Test 4: If your answer is correct, you will be able to run the cell without assertion error. *DO NOT MODIFY THE FOLLOWING CODE*"
   ]
  },
  {
   "cell_type": "code",
   "execution_count": 43,
   "metadata": {
    "collapsed": false
   },
   "outputs": [
    {
     "ename": "AssertionError",
     "evalue": "",
     "output_type": "error",
     "traceback": [
      "\u001b[0;31m---------------------------------------------------------------------------\u001b[0m",
      "\u001b[0;31mAssertionError\u001b[0m                            Traceback (most recent call last)",
      "\u001b[0;32m<ipython-input-43-7e25356db3b3>\u001b[0m in \u001b[0;36m<module>\u001b[0;34m()\u001b[0m\n\u001b[1;32m     50\u001b[0m  \u001b[0;34m(\u001b[0m\u001b[0;34m(\u001b[0m\u001b[0;34m'Retail Sales of Perishable Foods'\u001b[0m\u001b[0;34m,\u001b[0m \u001b[0;36m128\u001b[0m\u001b[0;34m)\u001b[0m\u001b[0;34m,\u001b[0m \u001b[0;34m'4'\u001b[0m\u001b[0;34m)\u001b[0m\u001b[0;34m,\u001b[0m\u001b[0;34m\u001b[0m\u001b[0m\n\u001b[1;32m     51\u001b[0m  \u001b[0;34m(\u001b[0m\u001b[0;34m(\u001b[0m\u001b[0;34m'Retail Sales of Perishable Foods'\u001b[0m\u001b[0;34m,\u001b[0m \u001b[0;36m28\u001b[0m\u001b[0;34m)\u001b[0m\u001b[0;34m,\u001b[0m \u001b[0;34m'18'\u001b[0m\u001b[0;34m)\u001b[0m\u001b[0;34m,\u001b[0m\u001b[0;34m\u001b[0m\u001b[0m\n\u001b[0;32m---> 52\u001b[0;31m  (('Retail Sales of Perishable Foods', 154), '2')])\n\u001b[0m",
      "\u001b[0;31mAssertionError\u001b[0m: "
     ]
    }
   ],
   "source": [
    "assert(get_ward_business(licenses) == [(('Retail Sales of Perishable Foods', 44), '36'),\n",
    " (('Retail Sales of Perishable Foods', 35), '50'),\n",
    " (('Retail Sales of Perishable Foods', 144), '41'),\n",
    " (('Retail Sales of Perishable Foods', 34), '40'),\n",
    " (('Retail Sales of Perishable Foods', 54), '24'),\n",
    " (('Retail Sales of Perishable Foods', 36), '19'),\n",
    " (('Retail Sales of Perishable Foods', 67), '32'),\n",
    " (('Retail Sales of Perishable Foods', 30), '14'),\n",
    " (('Retail Sales of Perishable Foods', 124), '1'),\n",
    " (('Retail Sales of Perishable Foods', 63), '35'),\n",
    " (('Retail Sales of Perishable Foods', 69), '23'),\n",
    " (('Retail Sales of Perishable Foods', 78), '6'),\n",
    " (('Retail Sales of Perishable Foods', 80), '22'),\n",
    " (('Retail Sales of Perishable Foods', 22), '9'),\n",
    " (('Retail Sales of Perishable Foods', 84), '28'),\n",
    " (('Retail Sales of Perishable Foods', 21), '37'),\n",
    " (('Retail Sales of Perishable Foods', 17), '34'),\n",
    " (('Retail Sales of Perishable Foods', 57), '46'),\n",
    " (('Retail Sales of Perishable Foods', 49), '30'),\n",
    " (('Consumption of Liquor on Premises', 40), '43'),\n",
    " (('Retail Sales of Perishable Foods', 35), '31'),\n",
    " (('Retail Sales of Perishable Foods', 49), '26'),\n",
    " (('Retail Sales of Perishable Foods', 44), '7'),\n",
    " (('Retail Sales of Perishable Foods', 71), '8'),\n",
    " (('Retail Sales of Perishable Foods', 57), '29'),\n",
    " (('Retail Sales of Perishable Foods', 75), '3'),\n",
    " (('Retail Sales of Perishable Foods', 623), '42'),\n",
    " (('Retail Sales of Perishable Foods', 29), '20'),\n",
    " (('Retail Sales of Perishable Foods', 51), '39'),\n",
    " (('Retail Sales of Perishable Foods', 192), '27'),\n",
    " (('Retail Sales of Perishable Foods', 32), '13'),\n",
    " (('Sales of Packaged Frozen Desserts From a Non-Motorized Cart (Mobile Desserts Vendor)',\n",
    "   32),\n",
    "  '15'),\n",
    " (('Retail Sales of Perishable Foods', 60), '21'),\n",
    " (('Retail Sales of Perishable Foods', 69), '10'),\n",
    " (('Retail Sales of Perishable Foods', 67), '12'),\n",
    " (('Retail Sales of Perishable Foods', 123), '47'),\n",
    " (('Retail Sales of Perishable Foods', 42), '16'),\n",
    " (('Retail Sales of Perishable Foods', 70), '11'),\n",
    " (('Retail Sales of Perishable Foods', 82), '49'),\n",
    " (('Retail Sales of Perishable Foods', 44), '17'),\n",
    " (('Retail Sales of Perishable Foods', 88), '44'),\n",
    " (('Retail Sales of Perishable Foods', 57), '5'),\n",
    " (('Retail Sales of Perishable Foods', 46), '45'),\n",
    " (('Retail Sales of Perishable Foods', 155), '25'),\n",
    " (('Retail Sales of Perishable Foods', 23), '48'),\n",
    " (('Retail Sales of Perishable Foods', 20), '38'),\n",
    " (('Retail Sales of Perishable Foods', 71), '33'),\n",
    " (('Retail Sales of Perishable Foods', 128), '4'),\n",
    " (('Retail Sales of Perishable Foods', 28), '18'),\n",
    " (('Retail Sales of Perishable Foods', 154), '2')])"
   ]
  },
  {
   "cell_type": "markdown",
   "metadata": {},
   "source": [
    "<br>\n",
    "### Question 5: \n",
    "What’s the breakdown of license types in terms of percentage of each type of license according to license description? "
   ]
  },
  {
   "cell_type": "code",
   "execution_count": 44,
   "metadata": {
    "collapsed": true
   },
   "outputs": [],
   "source": [
    "def get_license_breakdown(licenses):\n",
    "    '''\n",
    "    Read in a list of license applications\n",
    "\n",
    "    return a dict of the the type of license as key and count as percentage as a string as value\n",
    "    \n",
    "    Parameters\n",
    "    ----------\n",
    "    licenses: list, a list of licenses\n",
    "        \n",
    "    Returns\n",
    "    -------\n",
    "    license_breakdown: dict\n",
    "        the type of license as key and count as percentage as a string as value\n",
    "    '''\n",
    "    license_breakdown = {}\n",
    "    license_count = {}\n",
    "    total = 0.0\n",
    "    for idx, license in enumerate(licenses):\n",
    "        ld = license[15]\n",
    "\n",
    "        if ld in license_count:\n",
    "            license_count[ld] +=1\n",
    "        else:\n",
    "            license_count[ld] = 0\n",
    "        total +=1        \n",
    "        \n",
    "    for k in license_count:\n",
    "        license_breakdown[k] = str(round(license_count[k] / total * 100, 2)) \n",
    "    return license_breakdown"
   ]
  },
  {
   "cell_type": "markdown",
   "metadata": {},
   "source": [
    "#### Answer 5: Call your function here and print out the answers"
   ]
  },
  {
   "cell_type": "code",
   "execution_count": 46,
   "metadata": {
    "collapsed": false
   },
   "outputs": [
    {
     "name": "stdout",
     "output_type": "stream",
     "text": [
      "{'Limited Business License': '37.24', 'Raffles': '1.26', 'Regulated Business License': '12.62', 'Itinerant Merchant': '0.58', 'Peddler License': '2.67', 'Retail Food Establishment': '17.53', 'Special Event Food': '1.95', 'Manufacturing Establishments': '1.49', 'Animal Care License': '0.49', 'Motor Vehicle Services License': '2.27', 'Tavern': '1.32', 'Package Goods': '2.01', 'Consumption on Premises - Incidental Activity': '3.99', \"Caterer's Liquor License\": '0.38', 'Indoor Special Event': '0.04', 'Late Hour': '0.25', 'Outdoor Patio': '0.86', 'Public Place of Amusement': '1.0', 'Accessory Garage': '0.13', 'Valet Parking Operator': '1.4', \"Children's Services Facility License\": '1.38', 'Wholesale Food Establishment': '0.93', 'Heliports': '0.01', 'Filling Station': '0.64', 'Pawnbroker': '0.07', 'Bicycle Messenger Service': '0.02', 'Music and Dance': '0.08', 'Food - Shared Kitchen Short-Term User': '0.05', 'Not-For-Profit Club': '0.1', 'Explosives': '0.05', 'Emerging Business': '0.03', 'Navy Pier Kiosk License': '0.02', 'License Manager': '0.07', 'Food - Shared Kitchen - Supplemental': '0.06', 'License Broker': '0.01', 'Affiliation': '0.06', 'Taxicab Two-Way Dispatch Service License': '0.05', 'Performing Arts Venue': '0.12', 'Secondhand Dealer (No Valuable Objects)': '0.18', 'Secondhand Dealer': '0.19', 'Mobile Food License': '0.5', 'Explosives, Certificate of Fitness': '0.06', 'Public Garage': '0.55', 'Tobacco Dealer Wholesale': '0.07', 'Tobacco': '3.52', 'Tobacco Sampler': '0.0', 'Shared Kitchen User': '0.36', 'Massage Establishment': '0.48', 'Navy Pier - Mobile': '0.0', 'Liquor Airport Pushcart License': '0.0', 'Industrial Private Event Venue': '0.01', \"Caterer's Registration (Liquor)\": '0.02', 'Special Event Liquor': '0.63', 'Wrigley Field': '0.02', 'Weapons Dealer': '0.0', 'Transportation Network Provider': '0.01', 'Food - Shared Kitchen': '0.0', 'Retail Food - Seasonal Lakefront Food Establishment': '0.0'}\n"
     ]
    }
   ],
   "source": [
    "print(get_license_breakdown(licenses))"
   ]
  },
  {
   "cell_type": "markdown",
   "metadata": {},
   "source": [
    "#### Test 5: If your answer is correct, you will be able to run the cell without assertion error. *DO NOT MODIFY THE FOLLOWING CODE*"
   ]
  },
  {
   "cell_type": "code",
   "execution_count": 47,
   "metadata": {
    "collapsed": false
   },
   "outputs": [
    {
     "ename": "AssertionError",
     "evalue": "",
     "output_type": "error",
     "traceback": [
      "\u001b[0;31m---------------------------------------------------------------------------\u001b[0m",
      "\u001b[0;31mAssertionError\u001b[0m                            Traceback (most recent call last)",
      "\u001b[0;32m<ipython-input-47-a642ae91d118>\u001b[0m in \u001b[0;36m<module>\u001b[0;34m()\u001b[0m\n\u001b[1;32m     56\u001b[0m  \u001b[0;34m(\u001b[0m\u001b[0;34m'Retail Food - Seasonal Lakefront Food Establishment'\u001b[0m\u001b[0;34m,\u001b[0m \u001b[0;34m'0.00'\u001b[0m\u001b[0;34m)\u001b[0m\u001b[0;34m,\u001b[0m\u001b[0;34m\u001b[0m\u001b[0m\n\u001b[1;32m     57\u001b[0m  \u001b[0;34m(\u001b[0m\u001b[0;34m'Weapons Dealer'\u001b[0m\u001b[0;34m,\u001b[0m \u001b[0;34m'0.00'\u001b[0m\u001b[0;34m)\u001b[0m\u001b[0;34m,\u001b[0m\u001b[0;34m\u001b[0m\u001b[0m\n\u001b[0;32m---> 58\u001b[0;31m  ('Liquor Airport Pushcart License', '0.00')])\n\u001b[0m",
      "\u001b[0;31mAssertionError\u001b[0m: "
     ]
    }
   ],
   "source": [
    "assert(get_license_breakdown(licenses)== [('Limited Business License', '37.24'),\n",
    " ('Consumption on Premises - Incidental Activity', '3.99'),\n",
    " ('Tobacco', '3.52'),\n",
    " ('Peddler License', '2.67'),\n",
    " ('Motor Vehicle Services License', '2.27'),\n",
    " ('Package Goods', '2.02'),\n",
    " ('Retail Food Establishment', '17.53'),\n",
    " ('Regulated Business License', '12.62'),\n",
    " ('Special Event Food', '1.95'),\n",
    " ('Manufacturing Establishments', '1.50'),\n",
    " ('Valet Parking Operator', '1.40'),\n",
    " (\"Children's Services Facility License\", '1.39'),\n",
    " ('Tavern', '1.33'),\n",
    " ('Raffles', '1.26'),\n",
    " ('Public Place of Amusement', '1.00'),\n",
    " ('Wholesale Food Establishment', '0.93'),\n",
    " ('Outdoor Patio', '0.86'),\n",
    " ('Filling Station', '0.64'),\n",
    " ('Special Event Liquor', '0.64'),\n",
    " ('Itinerant Merchant', '0.59'),\n",
    " ('Public Garage', '0.55'),\n",
    " ('Mobile Food License', '0.51'),\n",
    " ('Animal Care License', '0.49'),\n",
    " ('Massage Establishment', '0.48'),\n",
    " (\"Caterer's Liquor License\", '0.39'),\n",
    " ('Food - Shared Kitchen Long-Term User', '0.37'),\n",
    " ('Late Hour', '0.26'),\n",
    " ('Secondhand Dealer', '0.19'),\n",
    " ('Secondhand Dealer (No Valuable Objects)', '0.19'),\n",
    " ('Accessory Garage', '0.13'),\n",
    " ('Performing Arts Venue', '0.12'),\n",
    " ('Not-For-Profit Club', '0.10'),\n",
    " ('Pawnbroker', '0.08'),\n",
    " ('Music and Dance', '0.08'),\n",
    " ('Tobacco Dealer Wholesale', '0.07'),\n",
    " ('License Manager', '0.07'),\n",
    " ('Food - Shared Kitchen Short-Term User', '0.06'),\n",
    " ('Explosives, Certificate of Fitness', '0.06'),\n",
    " ('Taxicab Two-Way Dispatch Service License', '0.06'),\n",
    " ('Food - Shared Kitchen - Supplemental', '0.06'),\n",
    " ('Affiliation', '0.06'),\n",
    " ('Explosives', '0.05'),\n",
    " ('Indoor Special Event', '0.05'),\n",
    " ('Emerging Business', '0.03'),\n",
    " ('Navy Pier Kiosk License', '0.03'),\n",
    " ('Bicycle Messenger Service', '0.03'),\n",
    " (\"Caterer's Registration (Liquor)\", '0.03'),\n",
    " ('Wrigley Field', '0.02'),\n",
    " ('Transportation Network Provider', '0.01'),\n",
    " ('Industrial Private Event Venue', '0.01'),\n",
    " ('Heliports', '0.01'),\n",
    " ('License Broker', '0.01'),\n",
    " ('Navy Pier - Mobile', '0.01'),\n",
    " ('Tobacco Sampler', '0.01'),\n",
    " ('Food - Shared Kitchen', '0.00'),\n",
    " ('Retail Food - Seasonal Lakefront Food Establishment', '0.00'),\n",
    " ('Weapons Dealer', '0.00'),\n",
    " ('Liquor Airport Pushcart License', '0.00')])"
   ]
  },
  {
   "cell_type": "markdown",
   "metadata": {},
   "source": [
    "<br>\n",
    "### Question 6: \n",
    "Of all the licenses that were issued in 2016, what percentage of them have been revoked? "
   ]
  },
  {
   "cell_type": "code",
   "execution_count": 48,
   "metadata": {
    "collapsed": true
   },
   "outputs": [],
   "source": [
    "def get_percentage_revoked(licenses):\n",
    "    '''\n",
    "    Read in a list of license applications\n",
    "\n",
    "    return a percentage as a string that represents the % of licenses that were revoked\n",
    "    \n",
    "    Parameters\n",
    "    ----------\n",
    "    licenses: list, a list of licenses\n",
    "        \n",
    "    Returns\n",
    "    -------\n",
    "    revoked_percent: string\n",
    "        a percentage as a string that represents the % of licenses that were revoked\n",
    "    '''\n",
    "    #     LICENSE_ID = 1 \n",
    "    #     ACCOUNT_NUMBER = 2\n",
    "    #     WARD = 10\n",
    "    #     LICENSE_DESCRIPTION = 15\n",
    "    #     BUSINESS_ACTIVITY = 17\n",
    "    #     APPLICATION_TYPE = 19\n",
    "    #     DATE_ISSUED = 27\n",
    "    #     LICENSE_STATUS = 28\n",
    "    revoked_percent = 0.0\n",
    "    mapping = {}\n",
    "    for idx, license in enumerate(licenses):\n",
    "        ls = license[LICENSE_STATUS]\n",
    "        if ls in mapping:\n",
    "            mapping[ls] +=1\n",
    "        else:\n",
    "            mapping[ls] = 1\n",
    "    revoked_percent = mapping['REV'] * 100.0 / len(licenses) \n",
    "    return str(round(revoked_percent, 2))"
   ]
  },
  {
   "cell_type": "markdown",
   "metadata": {},
   "source": [
    "#### Answer 6: Call your function here and print out the answers"
   ]
  },
  {
   "cell_type": "code",
   "execution_count": 49,
   "metadata": {
    "collapsed": false
   },
   "outputs": [
    {
     "name": "stdout",
     "output_type": "stream",
     "text": [
      "0.22\n"
     ]
    }
   ],
   "source": [
    "print(get_percentage_revoked(licenses))"
   ]
  },
  {
   "cell_type": "markdown",
   "metadata": {},
   "source": [
    "#### Test 6: If your answer is correct, you will be able to run the cell without assertion error. *DO NOT MODIFY THE FOLLOWING CODE*"
   ]
  },
  {
   "cell_type": "code",
   "execution_count": 50,
   "metadata": {
    "collapsed": false
   },
   "outputs": [
    {
     "ename": "AssertionError",
     "evalue": "",
     "output_type": "error",
     "traceback": [
      "\u001b[0;31m---------------------------------------------------------------------------\u001b[0m",
      "\u001b[0;31mAssertionError\u001b[0m                            Traceback (most recent call last)",
      "\u001b[0;32m<ipython-input-50-3d2d597c49ae>\u001b[0m in \u001b[0;36m<module>\u001b[0;34m()\u001b[0m\n\u001b[0;32m----> 1\u001b[0;31m \u001b[0;32massert\u001b[0m\u001b[0;34m(\u001b[0m\u001b[0mget_percentage_revoked\u001b[0m\u001b[0;34m(\u001b[0m\u001b[0mlicenses\u001b[0m\u001b[0;34m)\u001b[0m \u001b[0;34m==\u001b[0m \u001b[0;34m'0.21'\u001b[0m\u001b[0;34m)\u001b[0m\u001b[0;34m\u001b[0m\u001b[0m\n\u001b[0m",
      "\u001b[0;31mAssertionError\u001b[0m: "
     ]
    }
   ],
   "source": [
    "assert(get_percentage_revoked(licenses) == '0.21') "
   ]
  },
  {
   "cell_type": "markdown",
   "metadata": {},
   "source": [
    "<br>\n",
    "### Question 7: \n",
    "\n",
    "Make a bar chart of numbers of licenses applied in 2016 by ward by calling the make_bar() function with the correct parameters"
   ]
  },
  {
   "cell_type": "code",
   "execution_count": 51,
   "metadata": {
    "collapsed": true
   },
   "outputs": [],
   "source": [
    "def make_bar(wards, num_licenses):\n",
    "    '''\n",
    "    Make a bar chart of numbers of licenses applied in 2016 by ward\n",
    "    \n",
    "    Parameters\n",
    "    ----------\n",
    "    wards : list of string\n",
    "        a list of ward names\n",
    "        \n",
    "    num_licenses: list of int\n",
    "        a list of number of license applications in the wards accordingly\n",
    "    \n",
    "    Returns\n",
    "    -------\n",
    "    ward_licenses: png graph\n",
    "    \n",
    "    '''\n",
    "    fig = plt.figure(figsize=(17, 5))\n",
    "    y_pos = np.arange(len(wards))\n",
    "    plt.bar(y_pos, num_licenses, alpha=0.5, linewidth=0.2)\n",
    "    plt.xticks(y_pos, wards)\n",
    "    plt.xlabel(\"Ward\")\n",
    "    plt.ylabel(\"Number of license applications\")\n",
    "    plt.savefig('ward_licenses1.png')\n",
    "    plt.show()"
   ]
  },
  {
   "cell_type": "markdown",
   "metadata": {},
   "source": [
    "#### Answer 7: Call your function here and show the plot"
   ]
  },
  {
   "cell_type": "code",
   "execution_count": 52,
   "metadata": {
    "collapsed": false
   },
   "outputs": [
    {
     "data": {
      "image/png": "[encoded data removed]",
      "text/plain": [
       "<matplotlib.figure.Figure at 0x1136eea20>"
      ]
     },
     "metadata": {},
     "output_type": "display_data"
    }
   ],
   "source": [
    "wards = []\n",
    "num_licenses = []\n",
    "wnl_mapping = {}\n",
    "for license in licenses:\n",
    "    ward = license[WARD]\n",
    "    if ward == '':\n",
    "        continue\n",
    "    if ward in wnl_mapping:\n",
    "        wnl_mapping[ward] += 1\n",
    "    else:\n",
    "        wnl_mapping[ward] = 1\n",
    "wards = wnl_mapping.keys()\n",
    "num_licenses = wnl_mapping.values()\n",
    "make_bar(wards, num_licenses)"
   ]
  },
  {
   "cell_type": "markdown",
   "metadata": {},
   "source": [
    "#### Test 7: If your answer is correct, you will be able to run the cell without an error and see the following graph. *DO NOT MODIFY THE FOLLOWING CODE*"
   ]
  },
  {
   "cell_type": "markdown",
   "metadata": {},
   "source": [
    " ![title](ward_licenses.png)"
   ]
  },
  {
   "cell_type": "code",
   "execution_count": null,
   "metadata": {
    "collapsed": true
   },
   "outputs": [],
   "source": []
  }
 ],
 "metadata": {
  "anaconda-cloud": {},
  "kernelspec": {
   "display_name": "Python 3",
   "language": "python",
   "name": "python3"
  },
  "language_info": {
   "codemirror_mode": {
    "name": "ipython",
    "version": 3
   },
   "file_extension": ".py",
   "mimetype": "text/x-python",
   "name": "python",
   "nbconvert_exporter": "python",
   "pygments_lexer": "ipython3",
   "version": "3.6.3"
  }
 },
 "nbformat": 4,
 "nbformat_minor": 0
}
