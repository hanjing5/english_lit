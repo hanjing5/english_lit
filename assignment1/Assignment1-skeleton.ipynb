{
 "cells": [
  {
   "cell_type": "code",
   "execution_count": 1,
   "metadata": {
    "collapsed": false
   },
   "outputs": [],
   "source": [
    "import csv\n",
    "import matplotlib.pyplot as plt\n",
    "import numpy as np"
   ]
  },
  {
   "cell_type": "markdown",
   "metadata": {},
   "source": [
    "#### You will be grade for documentation, see the [proper way to document a function here](https://github.com/numpy/numpy/blob/master/doc/HOWTO_DOCUMENT.rst.txt)"
   ]
  },
  {
   "cell_type": "markdown",
   "metadata": {},
   "source": [
    "#### To avoid using [\"magical numbers\"]( https://refactoring.guru/replace-magic-number-with-symbolic-constant) in the code, we will define constants that we can use to refer to specific columns. Look through the columns of the dataset and fill out the constants. "
   ]
  },
  {
   "cell_type": "code",
   "execution_count": 2,
   "metadata": {
    "collapsed": true
   },
   "outputs": [],
   "source": [
    "LICENSE_ID = 1 \n",
    "ACCOUNT_NUMBER = 2\n",
    "WARD = 10\n",
    "LICENSE_DESCRIPTION = 15\n",
    "BUSINESS_ACTIVITY = 17\n",
    "APPLICATION_TYPE = 19\n",
    "DATE_ISSUED = 27\n",
    "LICENSE_STATUS = 28"
   ]
  },
  {
   "cell_type": "markdown",
   "metadata": {},
   "source": [
    "<br>\n",
    "### Question 1:\n",
    "Write a piece of code that reads in the data to a list of lists. Discard any entries that are not issued in 2016."
   ]
  },
  {
   "cell_type": "code",
   "execution_count": 3,
   "metadata": {
    "collapsed": false
   },
   "outputs": [],
   "source": [
    "import csv\n",
    "\n",
    "def read_csv(filename):\n",
    "    '''\n",
    "    Read in csv file (filename) and create a list from it.\n",
    "    \n",
    "    Parameters\n",
    "    ----------\n",
    "    filename : str\n",
    "        path to the file \n",
    "        \n",
    "    Returns\n",
    "    -------\n",
    "    licenses: list\n",
    "        a list of licenses\n",
    "    '''\n",
    "    licenses = []\n",
    "\n",
    "    with open(filename, 'rb') as csvfile:\n",
    "        bls = csv.reader(csvfile, delimiter=',')\n",
    "        for idx, row in enumerate(bls):\n",
    "            if idx == 0:\n",
    "                continue\n",
    "            if row[-7][-4:] != '2016':\n",
    "                continue\n",
    "            licenses.append(row)\n",
    "    \n",
    "    return licenses"
   ]
  },
  {
   "cell_type": "markdown",
   "metadata": {},
   "source": [
    "#### Answer 1: Call your function here and print out the length of the list"
   ]
  },
  {
   "cell_type": "code",
   "execution_count": 4,
   "metadata": {
    "collapsed": false
   },
   "outputs": [
    {
     "name": "stdout",
     "output_type": "stream",
     "text": [
      "33383\n"
     ]
    }
   ],
   "source": [
    "print len(read_csv(\"Business_Licenses.csv\"))"
   ]
  },
  {
   "cell_type": "markdown",
   "metadata": {},
   "source": [
    "#### Test 1: If your answer is correct, you will be able to run the cell without assertion error. *DO NOT MODIFY THE FOLLOWING CODE*"
   ]
  },
  {
   "cell_type": "code",
   "execution_count": 5,
   "metadata": {
    "collapsed": false
   },
   "outputs": [],
   "source": [
    "licenses = read_csv(\"Business_Licenses.csv\")\n",
    "assert(len(licenses)==33383)\n",
    "assert(licenses[0] == ['1620668-20160516','2455262','295026','1','BUCCI BIG & TALL INC.','BUCCI BIG & TALL INC.',\\\n",
    " '558 W ROOSEVELT RD', 'CHICAGO','IL','60607','25','28','25-28','1','1010','Limited Business License',\\\n",
    " '911','Retail Sales of Clothing / Accessories / Shoes','1620668','RENEW', '', '03/15/2016', '05/18/2016',\n",
    " 'N','05/16/2016','05/15/2018','05/18/2016','08/30/2016','AAI', '', '', '41.867338566', '-87.641590057',\n",
    " '(41.86733856638269, -87.64159005699716)']) "
   ]
  },
  {
   "cell_type": "markdown",
   "metadata": {},
   "source": [
    "<br>\n",
    "### Question 2:\n",
    "How many new licenses are issued in 2016? How many licenses are renewed in 2016? Look for value under APPLICATION TYPE column."
   ]
  },
  {
   "cell_type": "code",
   "execution_count": 6,
   "metadata": {
    "collapsed": true
   },
   "outputs": [],
   "source": [
    "def get_type_licenses(licenses):\n",
    "    '''\n",
    "    Read in a list of license applications\n",
    "    \n",
    "    Parameters\n",
    "    ----------\n",
    "    licenses: list, a list of licenses\n",
    "        \n",
    "    Returns\n",
    "    -------\n",
    "    num_new_licenses: int\n",
    "        number of new license applications\n",
    "        \n",
    "    num_renew_licenses: int\n",
    "        number of license renewal applications\n",
    "    '''\n",
    "    num_new_licenses, num_renew_licenses = 0,0\n",
    "    for idx, license in enumerate(licenses):\n",
    "        ltype = license[19]\n",
    "        if ltype == 'RENEW':\n",
    "            num_renew_licenses+=1\n",
    "        elif ltype == 'ISSUE':\n",
    "            num_new_licenses+=1\n",
    "    return num_new_licenses, num_renew_licenses"
   ]
  },
  {
   "cell_type": "markdown",
   "metadata": {},
   "source": [
    "#### Answer 2: Call your function here and print out the answers"
   ]
  },
  {
   "cell_type": "code",
   "execution_count": 7,
   "metadata": {
    "collapsed": false
   },
   "outputs": [
    {
     "name": "stdout",
     "output_type": "stream",
     "text": [
      "(8051, 24760)\n"
     ]
    }
   ],
   "source": [
    "print get_type_licenses(licenses)"
   ]
  },
  {
   "cell_type": "markdown",
   "metadata": {},
   "source": [
    "#### Test 2: If your answer is correct, you will be able to run the cell without assertion error. *DO NOT MODIFY THE FOLLOWING CODE*"
   ]
  },
  {
   "cell_type": "code",
   "execution_count": 8,
   "metadata": {
    "collapsed": false
   },
   "outputs": [
    {
     "ename": "AssertionError",
     "evalue": "",
     "output_type": "error",
     "traceback": [
      "\u001b[0;31m---------------------------------------------------------------------------\u001b[0m",
      "\u001b[0;31mAssertionError\u001b[0m                            Traceback (most recent call last)",
      "\u001b[0;32m<ipython-input-8-e943d3026f0e>\u001b[0m in \u001b[0;36m<module>\u001b[0;34m()\u001b[0m\n\u001b[1;32m      1\u001b[0m \u001b[0mnum_new_licenses\u001b[0m\u001b[0;34m,\u001b[0m \u001b[0mnum_renew_licenses\u001b[0m \u001b[0;34m=\u001b[0m \u001b[0mget_type_licenses\u001b[0m\u001b[0;34m(\u001b[0m\u001b[0mlicenses\u001b[0m\u001b[0;34m)\u001b[0m\u001b[0;34m\u001b[0m\u001b[0m\n\u001b[0;32m----> 2\u001b[0;31m \u001b[0;32massert\u001b[0m\u001b[0;34m(\u001b[0m\u001b[0mnum_new_licenses\u001b[0m \u001b[0;34m==\u001b[0m \u001b[0;36m8052\u001b[0m\u001b[0;34m)\u001b[0m\u001b[0;34m\u001b[0m\u001b[0m\n\u001b[0m\u001b[1;32m      3\u001b[0m \u001b[0;32massert\u001b[0m\u001b[0;34m(\u001b[0m\u001b[0mnum_renew_licenses\u001b[0m \u001b[0;34m==\u001b[0m \u001b[0;36m24759\u001b[0m\u001b[0;34m)\u001b[0m\u001b[0;34m\u001b[0m\u001b[0m\n",
      "\u001b[0;31mAssertionError\u001b[0m: "
     ]
    }
   ],
   "source": [
    "num_new_licenses, num_renew_licenses = get_type_licenses(licenses)\n",
    "assert(num_new_licenses == 8052)\n",
    "assert(num_renew_licenses == 24759)"
   ]
  },
  {
   "cell_type": "markdown",
   "metadata": {},
   "source": [
    "<br>\n",
    "### Question 3: \n",
    "Which ward has the largest numbers of licenses issued in 2016? You can either keep counts by updating variables for counts or updating a dictionary"
   ]
  },
  {
   "cell_type": "code",
   "execution_count": 21,
   "metadata": {
    "collapsed": true
   },
   "outputs": [],
   "source": [
    "def get_largest_num_licenses_issued(licenses):\n",
    "    '''\n",
    "    Read in a tuple of (ward number, largest number of licenses )\n",
    "    \n",
    "    Parameters\n",
    "    ----------\n",
    "    licenses: list, a list of licenses\n",
    "        \n",
    "    Returns\n",
    "    -------\n",
    "    ward: String\n",
    "        ward number with the largest number of newly issued licenses\n",
    "        \n",
    "    largest_num_license: int\n",
    "        number of license newly issued licenses\n",
    "    '''\n",
    "    ward = ''\n",
    "    largest_num_license = 0\n",
    "    data = {}\n",
    "    \n",
    "    for idx, license in enumerate(licenses):\n",
    "        if license[19] == 'ISSUE':\n",
    "            ward = license[10]\n",
    "            if ward not in data:\n",
    "                data[ward] = 1\n",
    "            else:\n",
    "                data[ward] += 1\n",
    "    for key, value in sorted(data.iteritems(), key=lambda (k,v): (v,k)):\n",
    "        ward = key\n",
    "        largest_num_license = value\n",
    "    return (ward, largest_num_license)"
   ]
  },
  {
   "cell_type": "markdown",
   "metadata": {},
   "source": [
    "#### Answer 3: Call your function here and print out the answers"
   ]
  },
  {
   "cell_type": "code",
   "execution_count": 22,
   "metadata": {
    "collapsed": false
   },
   "outputs": [
    {
     "name": "stdout",
     "output_type": "stream",
     "text": [
      "('42', 1184)\n"
     ]
    }
   ],
   "source": [
    "print get_largest_num_licenses_issued(licenses)"
   ]
  },
  {
   "cell_type": "markdown",
   "metadata": {},
   "source": [
    "#### Test 3: If your answer is correct, you will be able to run the cell without assertion error.*DO NOT MODIFY THE FOLLOWING CODE*"
   ]
  },
  {
   "cell_type": "code",
   "execution_count": 23,
   "metadata": {
    "collapsed": false
   },
   "outputs": [],
   "source": [
    "largest_num_license = get_largest_num_licenses_issued(licenses)\n",
    "assert(largest_num_license == ('42', 1184))"
   ]
  },
  {
   "cell_type": "markdown",
   "metadata": {},
   "source": [
    "<br>\n",
    "### Question 4: \n",
    "What is the primary business activity in each ward in 2016? For this you will want to create dictionaries within a dictionary and sort the key value pairs. There are several ways to do this and you should have two layers of key-value maps that separates ward, and business activities. For example: ward ->  { business_name : count }.\n",
    "Exclude any application that misses both ward number and business activities. "
   ]
  },
  {
   "cell_type": "code",
   "execution_count": 38,
   "metadata": {
    "collapsed": true
   },
   "outputs": [],
   "source": [
    "def get_ward_business(licenses):\n",
    "    '''\n",
    "    add your documentation here\n",
    "    '''\n",
    "    \n",
    "    return primary_business_by_ward"
   ]
  },
  {
   "cell_type": "markdown",
   "metadata": {},
   "source": [
    "#### Answer 4: Call your function here and print out the answers"
   ]
  },
  {
   "cell_type": "code",
   "execution_count": null,
   "metadata": {
    "collapsed": true
   },
   "outputs": [],
   "source": []
  },
  {
   "cell_type": "code",
   "execution_count": 40,
   "metadata": {
    "collapsed": true
   },
   "outputs": [
    {
     "data": {
      "text/plain": [
       "[(('Retail Sales of Perishable Foods', 44), '36'),\n",
       " (('Retail Sales of Perishable Foods', 35), '50'),\n",
       " (('Retail Sales of Perishable Foods', 144), '41'),\n",
       " (('Retail Sales of Perishable Foods', 34), '40'),\n",
       " (('Retail Sales of Perishable Foods', 54), '24'),\n",
       " (('Retail Sales of Perishable Foods', 36), '19'),\n",
       " (('Retail Sales of Perishable Foods', 67), '32'),\n",
       " (('Retail Sales of Perishable Foods', 30), '14'),\n",
       " (('Retail Sales of Perishable Foods', 124), '1'),\n",
       " (('Retail Sales of Perishable Foods', 63), '35'),\n",
       " (('Retail Sales of Perishable Foods', 69), '23'),\n",
       " (('Retail Sales of Perishable Foods', 78), '6'),\n",
       " (('Retail Sales of Perishable Foods', 80), '22'),\n",
       " (('Retail Sales of Perishable Foods', 22), '9'),\n",
       " (('Retail Sales of Perishable Foods', 84), '28'),\n",
       " (('Retail Sales of Perishable Foods', 21), '37'),\n",
       " (('Retail Sales of Perishable Foods', 17), '34'),\n",
       " (('Retail Sales of Perishable Foods', 57), '46'),\n",
       " (('Retail Sales of Perishable Foods', 49), '30'),\n",
       " (('Consumption of Liquor on Premises', 40), '43'),\n",
       " (('Retail Sales of Perishable Foods', 35), '31'),\n",
       " (('Retail Sales of Perishable Foods', 49), '26'),\n",
       " (('Retail Sales of Perishable Foods', 44), '7'),\n",
       " (('Retail Sales of Perishable Foods', 71), '8'),\n",
       " (('Retail Sales of Perishable Foods', 57), '29'),\n",
       " (('Retail Sales of Perishable Foods', 75), '3'),\n",
       " (('Retail Sales of Perishable Foods', 623), '42'),\n",
       " (('Retail Sales of Perishable Foods', 29), '20'),\n",
       " (('Retail Sales of Perishable Foods', 51), '39'),\n",
       " (('Retail Sales of Perishable Foods', 192), '27'),\n",
       " (('Retail Sales of Perishable Foods', 32), '13'),\n",
       " (('Sales of Packaged Frozen Desserts From a Non-Motorized Cart (Mobile Desserts Vendor)',\n",
       "   32),\n",
       "  '15'),\n",
       " (('Retail Sales of Perishable Foods', 60), '21'),\n",
       " (('Retail Sales of Perishable Foods', 69), '10'),\n",
       " (('Retail Sales of Perishable Foods', 67), '12'),\n",
       " (('Retail Sales of Perishable Foods', 123), '47'),\n",
       " (('Retail Sales of Perishable Foods', 42), '16'),\n",
       " (('Retail Sales of Perishable Foods', 70), '11'),\n",
       " (('Retail Sales of Perishable Foods', 82), '49'),\n",
       " (('Retail Sales of Perishable Foods', 44), '17'),\n",
       " (('Retail Sales of Perishable Foods', 88), '44'),\n",
       " (('Retail Sales of Perishable Foods', 57), '5'),\n",
       " (('Retail Sales of Perishable Foods', 46), '45'),\n",
       " (('Retail Sales of Perishable Foods', 155), '25'),\n",
       " (('Retail Sales of Perishable Foods', 23), '48'),\n",
       " (('Retail Sales of Perishable Foods', 20), '38'),\n",
       " (('Retail Sales of Perishable Foods', 71), '33'),\n",
       " (('Retail Sales of Perishable Foods', 128), '4'),\n",
       " (('Retail Sales of Perishable Foods', 28), '18'),\n",
       " (('Retail Sales of Perishable Foods', 154), '2')]"
      ]
     },
     "execution_count": 40,
     "metadata": {},
     "output_type": "execute_result"
    }
   ],
   "source": [
    "get_ward_business(licenses)"
   ]
  },
  {
   "cell_type": "markdown",
   "metadata": {},
   "source": [
    "#### Test 4: If your answer is correct, you will be able to run the cell without assertion error. *DO NOT MODIFY THE FOLLOWING CODE*"
   ]
  },
  {
   "cell_type": "code",
   "execution_count": 41,
   "metadata": {
    "collapsed": false
   },
   "outputs": [],
   "source": [
    "assert(get_ward_business(licenses) == [(('Retail Sales of Perishable Foods', 44), '36'),\n",
    " (('Retail Sales of Perishable Foods', 35), '50'),\n",
    " (('Retail Sales of Perishable Foods', 144), '41'),\n",
    " (('Retail Sales of Perishable Foods', 34), '40'),\n",
    " (('Retail Sales of Perishable Foods', 54), '24'),\n",
    " (('Retail Sales of Perishable Foods', 36), '19'),\n",
    " (('Retail Sales of Perishable Foods', 67), '32'),\n",
    " (('Retail Sales of Perishable Foods', 30), '14'),\n",
    " (('Retail Sales of Perishable Foods', 124), '1'),\n",
    " (('Retail Sales of Perishable Foods', 63), '35'),\n",
    " (('Retail Sales of Perishable Foods', 69), '23'),\n",
    " (('Retail Sales of Perishable Foods', 78), '6'),\n",
    " (('Retail Sales of Perishable Foods', 80), '22'),\n",
    " (('Retail Sales of Perishable Foods', 22), '9'),\n",
    " (('Retail Sales of Perishable Foods', 84), '28'),\n",
    " (('Retail Sales of Perishable Foods', 21), '37'),\n",
    " (('Retail Sales of Perishable Foods', 17), '34'),\n",
    " (('Retail Sales of Perishable Foods', 57), '46'),\n",
    " (('Retail Sales of Perishable Foods', 49), '30'),\n",
    " (('Consumption of Liquor on Premises', 40), '43'),\n",
    " (('Retail Sales of Perishable Foods', 35), '31'),\n",
    " (('Retail Sales of Perishable Foods', 49), '26'),\n",
    " (('Retail Sales of Perishable Foods', 44), '7'),\n",
    " (('Retail Sales of Perishable Foods', 71), '8'),\n",
    " (('Retail Sales of Perishable Foods', 57), '29'),\n",
    " (('Retail Sales of Perishable Foods', 75), '3'),\n",
    " (('Retail Sales of Perishable Foods', 623), '42'),\n",
    " (('Retail Sales of Perishable Foods', 29), '20'),\n",
    " (('Retail Sales of Perishable Foods', 51), '39'),\n",
    " (('Retail Sales of Perishable Foods', 192), '27'),\n",
    " (('Retail Sales of Perishable Foods', 32), '13'),\n",
    " (('Sales of Packaged Frozen Desserts From a Non-Motorized Cart (Mobile Desserts Vendor)',\n",
    "   32),\n",
    "  '15'),\n",
    " (('Retail Sales of Perishable Foods', 60), '21'),\n",
    " (('Retail Sales of Perishable Foods', 69), '10'),\n",
    " (('Retail Sales of Perishable Foods', 67), '12'),\n",
    " (('Retail Sales of Perishable Foods', 123), '47'),\n",
    " (('Retail Sales of Perishable Foods', 42), '16'),\n",
    " (('Retail Sales of Perishable Foods', 70), '11'),\n",
    " (('Retail Sales of Perishable Foods', 82), '49'),\n",
    " (('Retail Sales of Perishable Foods', 44), '17'),\n",
    " (('Retail Sales of Perishable Foods', 88), '44'),\n",
    " (('Retail Sales of Perishable Foods', 57), '5'),\n",
    " (('Retail Sales of Perishable Foods', 46), '45'),\n",
    " (('Retail Sales of Perishable Foods', 155), '25'),\n",
    " (('Retail Sales of Perishable Foods', 23), '48'),\n",
    " (('Retail Sales of Perishable Foods', 20), '38'),\n",
    " (('Retail Sales of Perishable Foods', 71), '33'),\n",
    " (('Retail Sales of Perishable Foods', 128), '4'),\n",
    " (('Retail Sales of Perishable Foods', 28), '18'),\n",
    " (('Retail Sales of Perishable Foods', 154), '2')])"
   ]
  },
  {
   "cell_type": "markdown",
   "metadata": {},
   "source": [
    "<br>\n",
    "### Question 5: \n",
    "What’s the breakdown of license types in terms of percentage of each type of license according to license description? "
   ]
  },
  {
   "cell_type": "code",
   "execution_count": 49,
   "metadata": {
    "collapsed": true
   },
   "outputs": [],
   "source": [
    "def get_license_breakdown(licenses):\n",
    "    '''\n",
    "    add your documentation here\n",
    "    '''\n",
    "    \n",
    "    return license_breakdown"
   ]
  },
  {
   "cell_type": "markdown",
   "metadata": {},
   "source": [
    "#### Answer 5: Call your function here and print out the answers"
   ]
  },
  {
   "cell_type": "code",
   "execution_count": null,
   "metadata": {
    "collapsed": true
   },
   "outputs": [],
   "source": []
  },
  {
   "cell_type": "markdown",
   "metadata": {},
   "source": [
    "#### Test 5: If your answer is correct, you will be able to run the cell without assertion error. *DO NOT MODIFY THE FOLLOWING CODE*"
   ]
  },
  {
   "cell_type": "code",
   "execution_count": 51,
   "metadata": {
    "collapsed": false
   },
   "outputs": [],
   "source": [
    "assert(get_license_breakdown(licenses)== [('Limited Business License', '37.24'),\n",
    " ('Consumption on Premises - Incidental Activity', '3.99'),\n",
    " ('Tobacco', '3.52'),\n",
    " ('Peddler License', '2.67'),\n",
    " ('Motor Vehicle Services License', '2.27'),\n",
    " ('Package Goods', '2.02'),\n",
    " ('Retail Food Establishment', '17.53'),\n",
    " ('Regulated Business License', '12.62'),\n",
    " ('Special Event Food', '1.95'),\n",
    " ('Manufacturing Establishments', '1.50'),\n",
    " ('Valet Parking Operator', '1.40'),\n",
    " (\"Children's Services Facility License\", '1.39'),\n",
    " ('Tavern', '1.33'),\n",
    " ('Raffles', '1.26'),\n",
    " ('Public Place of Amusement', '1.00'),\n",
    " ('Wholesale Food Establishment', '0.93'),\n",
    " ('Outdoor Patio', '0.86'),\n",
    " ('Filling Station', '0.64'),\n",
    " ('Special Event Liquor', '0.64'),\n",
    " ('Itinerant Merchant', '0.59'),\n",
    " ('Public Garage', '0.55'),\n",
    " ('Mobile Food License', '0.51'),\n",
    " ('Animal Care License', '0.49'),\n",
    " ('Massage Establishment', '0.48'),\n",
    " (\"Caterer's Liquor License\", '0.39'),\n",
    " ('Food - Shared Kitchen Long-Term User', '0.37'),\n",
    " ('Late Hour', '0.26'),\n",
    " ('Secondhand Dealer', '0.19'),\n",
    " ('Secondhand Dealer (No Valuable Objects)', '0.19'),\n",
    " ('Accessory Garage', '0.13'),\n",
    " ('Performing Arts Venue', '0.12'),\n",
    " ('Not-For-Profit Club', '0.10'),\n",
    " ('Pawnbroker', '0.08'),\n",
    " ('Music and Dance', '0.08'),\n",
    " ('Tobacco Dealer Wholesale', '0.07'),\n",
    " ('License Manager', '0.07'),\n",
    " ('Food - Shared Kitchen Short-Term User', '0.06'),\n",
    " ('Explosives, Certificate of Fitness', '0.06'),\n",
    " ('Taxicab Two-Way Dispatch Service License', '0.06'),\n",
    " ('Food - Shared Kitchen - Supplemental', '0.06'),\n",
    " ('Affiliation', '0.06'),\n",
    " ('Explosives', '0.05'),\n",
    " ('Indoor Special Event', '0.05'),\n",
    " ('Emerging Business', '0.03'),\n",
    " ('Navy Pier Kiosk License', '0.03'),\n",
    " ('Bicycle Messenger Service', '0.03'),\n",
    " (\"Caterer's Registration (Liquor)\", '0.03'),\n",
    " ('Wrigley Field', '0.02'),\n",
    " ('Transportation Network Provider', '0.01'),\n",
    " ('Industrial Private Event Venue', '0.01'),\n",
    " ('Heliports', '0.01'),\n",
    " ('License Broker', '0.01'),\n",
    " ('Navy Pier - Mobile', '0.01'),\n",
    " ('Tobacco Sampler', '0.01'),\n",
    " ('Food - Shared Kitchen', '0.00'),\n",
    " ('Retail Food - Seasonal Lakefront Food Establishment', '0.00'),\n",
    " ('Weapons Dealer', '0.00'),\n",
    " ('Liquor Airport Pushcart License', '0.00')])"
   ]
  },
  {
   "cell_type": "markdown",
   "metadata": {},
   "source": [
    "<br>\n",
    "### Question 6: \n",
    "Of all the licenses that were issued in 2016, what percentage of them have been revoked? "
   ]
  },
  {
   "cell_type": "code",
   "execution_count": 83,
   "metadata": {
    "collapsed": true
   },
   "outputs": [],
   "source": [
    "def get_percentage_revoked(licenses):\n",
    "    '''\n",
    "    add your documentation here\n",
    "    '''\n",
    "    return revoked_percent"
   ]
  },
  {
   "cell_type": "markdown",
   "metadata": {},
   "source": [
    "#### Answer 6: Call your function here and print out the answers"
   ]
  },
  {
   "cell_type": "code",
   "execution_count": null,
   "metadata": {
    "collapsed": true
   },
   "outputs": [],
   "source": []
  },
  {
   "cell_type": "markdown",
   "metadata": {},
   "source": [
    "#### Test 6: If your answer is correct, you will be able to run the cell without assertion error. *DO NOT MODIFY THE FOLLOWING CODE*"
   ]
  },
  {
   "cell_type": "code",
   "execution_count": 84,
   "metadata": {
    "collapsed": false
   },
   "outputs": [],
   "source": [
    "assert(get_percentage_revoked(licenses) == '0.21') "
   ]
  },
  {
   "cell_type": "markdown",
   "metadata": {},
   "source": [
    "<br>\n",
    "### Question 7: \n",
    "\n",
    "Make a bar chart of numbers of licenses applied in 2016 by ward by calling the make_bar() function with the correct parameters"
   ]
  },
  {
   "cell_type": "code",
   "execution_count": 79,
   "metadata": {
    "collapsed": true
   },
   "outputs": [],
   "source": [
    "def make_bar(wards, num_licenses):\n",
    "    '''\n",
    "    Make a bar chart of numbers of licenses applied in 2016 by ward\n",
    "    \n",
    "    Parameters\n",
    "    ----------\n",
    "    wards : list of string\n",
    "        a list of ward names\n",
    "        \n",
    "    num_licenses: list of int\n",
    "        a list of number of license applications in the wards accordingly\n",
    "    \n",
    "    Returns\n",
    "    -------\n",
    "    ward_licenses: png graph\n",
    "    \n",
    "    '''\n",
    "    fig = plt.figure(figsize=(17, 5))\n",
    "    y_pos = np.arange(len(x))\n",
    "    plt.bar(y_pos, num_licenses, alpha=0.5, linewidth=0.2)\n",
    "    plt.xticks(y_pos, wards)\n",
    "    plt.xlabel(\"Ward\")\n",
    "    plt.ylabel(\"Number of license applications\")\n",
    "    plt.savefig('ward_licenses.png')\n",
    "    plt.show()"
   ]
  },
  {
   "cell_type": "markdown",
   "metadata": {},
   "source": [
    "#### Answer 7: Call your function here and show the plot"
   ]
  },
  {
   "cell_type": "code",
   "execution_count": null,
   "metadata": {
    "collapsed": true
   },
   "outputs": [],
   "source": []
  },
  {
   "cell_type": "markdown",
   "metadata": {},
   "source": [
    "#### Test 7: If your answer is correct, you will be able to run the cell without an error and see the following graph. *DO NOT MODIFY THE FOLLOWING CODE*"
   ]
  },
  {
   "cell_type": "markdown",
   "metadata": {},
   "source": [
    " ![title](ward_licenses.png)"
   ]
  },
  {
   "cell_type": "code",
   "execution_count": null,
   "metadata": {
    "collapsed": true
   },
   "outputs": [],
   "source": []
  }
 ],
 "metadata": {
  "anaconda-cloud": {},
  "kernelspec": {
   "display_name": "Python [default]",
   "language": "python",
   "name": "python2"
  },
  "language_info": {
   "codemirror_mode": {
    "name": "ipython",
    "version": 2
   },
   "file_extension": ".py",
   "mimetype": "text/x-python",
   "name": "python",
   "nbconvert_exporter": "python",
   "pygments_lexer": "ipython2",
   "version": "2.7.12"
  }
 },
 "nbformat": 4,
 "nbformat_minor": 0
}
